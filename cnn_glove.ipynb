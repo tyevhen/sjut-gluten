{
 "cells": [
  {
   "cell_type": "code",
   "execution_count": 130,
   "metadata": {},
   "outputs": [],
   "source": [
    "import torch\n",
    "import re\n",
    "import csv\n",
    "import pandas as pd\n",
    "import nltk\n",
    "import random\n",
    "import numpy as np"
   ]
  },
  {
   "cell_type": "code",
   "execution_count": 131,
   "metadata": {},
   "outputs": [],
   "source": [
    "def clean(text):\n",
    "    text = text.lower()\n",
    "    text = re.sub(r\"[^a-zäöüÄÖÜß ]\", \"\", text)\n",
    "    return text"
   ]
  },
  {
   "cell_type": "code",
   "execution_count": 132,
   "metadata": {},
   "outputs": [],
   "source": [
    "tokenize = lambda x: x.split()"
   ]
  },
  {
   "cell_type": "code",
   "execution_count": 133,
   "metadata": {},
   "outputs": [],
   "source": [
    "test_df = pd.read_csv('gluten_test_clean.csv', header=0, names=[\"raw\", \"label\", \"glutenfrei\", \"glutenhaltig\", \"clean\"])"
   ]
  },
  {
   "cell_type": "code",
   "execution_count": 200,
   "metadata": {},
   "outputs": [],
   "source": [
    "train_df = pd.read_csv('gluten_training_clean.csv', header=0, names=[\"raw\", \"label\", \"clean\"])\n"
   ]
  },
  {
   "cell_type": "code",
   "execution_count": 201,
   "metadata": {},
   "outputs": [
    {
     "name": "stderr",
     "output_type": "stream",
     "text": [
      "/home/yevhen/anaconda3/lib/python3.7/site-packages/ipykernel_launcher.py:1: UserWarning: Boolean Series key will be reindexed to match DataFrame index.\n",
      "  \"\"\"Entry point for launching an IPython kernel.\n"
     ]
    },
    {
     "data": {
      "text/html": [
       "<div>\n",
       "<style scoped>\n",
       "    .dataframe tbody tr th:only-of-type {\n",
       "        vertical-align: middle;\n",
       "    }\n",
       "\n",
       "    .dataframe tbody tr th {\n",
       "        vertical-align: top;\n",
       "    }\n",
       "\n",
       "    .dataframe thead th {\n",
       "        text-align: right;\n",
       "    }\n",
       "</style>\n",
       "<table border=\"1\" class=\"dataframe\">\n",
       "  <thead>\n",
       "    <tr style=\"text-align: right;\">\n",
       "      <th></th>\n",
       "      <th>raw</th>\n",
       "      <th>label</th>\n",
       "      <th>glutenfrei</th>\n",
       "      <th>glutenhaltig</th>\n",
       "      <th>clean</th>\n",
       "    </tr>\n",
       "  </thead>\n",
       "  <tbody>\n",
       "    <tr>\n",
       "      <th>156</th>\n",
       "      <td>Hartweizengrieß| Wasser| Spinat 1|8% Kann Spur...</td>\n",
       "      <td>glutenhaltig</td>\n",
       "      <td>0.0</td>\n",
       "      <td>1.0</td>\n",
       "      <td>hartweizengrieß wasser spinat  kann spuren von...</td>\n",
       "    </tr>\n",
       "    <tr>\n",
       "      <th>157</th>\n",
       "      <td>34% Gemüse (31% Tomatenpulver und -stücke| Zwi...</td>\n",
       "      <td>glutenhaltig</td>\n",
       "      <td>0.0</td>\n",
       "      <td>1.0</td>\n",
       "      <td>gemüse  tomatenpulver und stücke zwiebeln sel...</td>\n",
       "    </tr>\n",
       "    <tr>\n",
       "      <th>158</th>\n",
       "      <td>Weizenmehl| Wasser| Palmöl| Rapsöl| Glycerol| ...</td>\n",
       "      <td>glutenhaltig</td>\n",
       "      <td>0.0</td>\n",
       "      <td>1.0</td>\n",
       "      <td>weizenmehl wasser palmöl rapsöl glycerol salz ...</td>\n",
       "    </tr>\n",
       "    <tr>\n",
       "      <th>159</th>\n",
       "      <td>Tomatenpulver| weizenmehl| Zucker| jodsalz| St...</td>\n",
       "      <td>glutenhaltig</td>\n",
       "      <td>0.0</td>\n",
       "      <td>1.0</td>\n",
       "      <td>tomatenpulver weizenmehl zucker jodsalz stärke...</td>\n",
       "    </tr>\n",
       "    <tr>\n",
       "      <th>160</th>\n",
       "      <td>Palmöl| Mehl (Weizen| Mais)| Stärke| 19% Schme...</td>\n",
       "      <td>glutenhaltig</td>\n",
       "      <td>0.0</td>\n",
       "      <td>1.0</td>\n",
       "      <td>palmöl mehl weizen mais stärke  schmelzkäse bl...</td>\n",
       "    </tr>\n",
       "    <tr>\n",
       "      <th>161</th>\n",
       "      <td>Glukosesirup| 23% Nudeln (WEIZENMEHL (GLUTEN)|...</td>\n",
       "      <td>glutenhaltig</td>\n",
       "      <td>0.0</td>\n",
       "      <td>1.0</td>\n",
       "      <td>glukosesirup  nudeln weizenmehl gluten salz ka...</td>\n",
       "    </tr>\n",
       "    <tr>\n",
       "      <th>162</th>\n",
       "      <td>Weizenmehl| Palmöl| Stärke| 7|5% geräucherter ...</td>\n",
       "      <td>glutenhaltig</td>\n",
       "      <td>0.0</td>\n",
       "      <td>1.0</td>\n",
       "      <td>weizenmehl palmöl stärke  geräucherter speck s...</td>\n",
       "    </tr>\n",
       "    <tr>\n",
       "      <th>163</th>\n",
       "      <td>ROGGENVOLLKORN (Mehl und Schrot)| Wasser| Natu...</td>\n",
       "      <td>glutenhaltig</td>\n",
       "      <td>0.0</td>\n",
       "      <td>1.0</td>\n",
       "      <td>roggenvollkorn mehl und schrot wasser natursau...</td>\n",
       "    </tr>\n",
       "    <tr>\n",
       "      <th>164</th>\n",
       "      <td>Pflanzliches Öl (gehärtet)| Molkereierzeugnis|...</td>\n",
       "      <td>glutenhaltig</td>\n",
       "      <td>0.0</td>\n",
       "      <td>1.0</td>\n",
       "      <td>pflanzliches öl gehärtet molkereierzeugnis wei...</td>\n",
       "    </tr>\n",
       "    <tr>\n",
       "      <th>165</th>\n",
       "      <td>Weizenmehl| Zucker| Kakobutter| Kakaomasse| Pa...</td>\n",
       "      <td>glutenhaltig</td>\n",
       "      <td>0.0</td>\n",
       "      <td>1.0</td>\n",
       "      <td>weizenmehl zucker kakobutter kakaomasse palmöl...</td>\n",
       "    </tr>\n",
       "    <tr>\n",
       "      <th>166</th>\n",
       "      <td>Palmfett| WEIZENMEHL| Maltodextrin| modifizier...</td>\n",
       "      <td>glutenhaltig</td>\n",
       "      <td>0.0</td>\n",
       "      <td>1.0</td>\n",
       "      <td>palmfett weizenmehl maltodextrin modifizierte ...</td>\n",
       "    </tr>\n",
       "    <tr>\n",
       "      <th>167</th>\n",
       "      <td>Frische VOLLMILCH (24%)| Halbbitterschokolade ...</td>\n",
       "      <td>glutenhaltig</td>\n",
       "      <td>0.0</td>\n",
       "      <td>1.0</td>\n",
       "      <td>frische vollmilch  halbbitterschokolade zucker...</td>\n",
       "    </tr>\n",
       "    <tr>\n",
       "      <th>168</th>\n",
       "      <td>24% SAHNEPULVER| WEIZENMEHL| Palmöl| modifizie...</td>\n",
       "      <td>glutenhaltig</td>\n",
       "      <td>0.0</td>\n",
       "      <td>1.0</td>\n",
       "      <td>sahnepulver weizenmehl palmöl modifizierte st...</td>\n",
       "    </tr>\n",
       "    <tr>\n",
       "      <th>169</th>\n",
       "      <td>WEIZENMEHL| Wasser| Natursauerteig (Wasser| RO...</td>\n",
       "      <td>glutenhaltig</td>\n",
       "      <td>0.0</td>\n",
       "      <td>1.0</td>\n",
       "      <td>weizenmehl wasser natursauerteig wasser roggen...</td>\n",
       "    </tr>\n",
       "    <tr>\n",
       "      <th>170</th>\n",
       "      <td>Modifizierte Kartoffelstärke| Palmöl| Glukoses...</td>\n",
       "      <td>glutenhaltig</td>\n",
       "      <td>0.0</td>\n",
       "      <td>1.0</td>\n",
       "      <td>modifizierte kartoffelstärke palmöl glukosesir...</td>\n",
       "    </tr>\n",
       "    <tr>\n",
       "      <th>171</th>\n",
       "      <td>Haferkleie Flocken. Allergen: Glutenhaltige Ce...</td>\n",
       "      <td>glutenhaltig</td>\n",
       "      <td>0.0</td>\n",
       "      <td>1.0</td>\n",
       "      <td>haferkleie flocken allergen glutenhaltige cere...</td>\n",
       "    </tr>\n",
       "    <tr>\n",
       "      <th>172</th>\n",
       "      <td>Brauwasser| Gerstenmalz| Hopfen</td>\n",
       "      <td>glutenhaltig</td>\n",
       "      <td>0.0</td>\n",
       "      <td>1.0</td>\n",
       "      <td>brauwasser gerstenmalz hopfen</td>\n",
       "    </tr>\n",
       "    <tr>\n",
       "      <th>173</th>\n",
       "      <td>Stärke| Palmöl| WEIZENMEHL| jodiertes Speisesa...</td>\n",
       "      <td>glutenhaltig</td>\n",
       "      <td>0.0</td>\n",
       "      <td>1.0</td>\n",
       "      <td>stärke palmöl weizenmehl jodiertes speisesalz ...</td>\n",
       "    </tr>\n",
       "    <tr>\n",
       "      <th>174</th>\n",
       "      <td>WEIZENMEHL| Wasser| Natursauerteig (Wasser| WE...</td>\n",
       "      <td>glutenhaltig</td>\n",
       "      <td>0.0</td>\n",
       "      <td>1.0</td>\n",
       "      <td>weizenmehl wasser natursauerteig wasser weizen...</td>\n",
       "    </tr>\n",
       "    <tr>\n",
       "      <th>175</th>\n",
       "      <td>EIER| Schokolade(17|5%)| [Zucker| Kakaomasse| ...</td>\n",
       "      <td>glutenhaltig</td>\n",
       "      <td>0.0</td>\n",
       "      <td>1.0</td>\n",
       "      <td>eier schokolade zucker kakaomasse emulgator le...</td>\n",
       "    </tr>\n",
       "    <tr>\n",
       "      <th>176</th>\n",
       "      <td>Tomatenpulver| Zwiebeln| Maltodextrin| modifiz...</td>\n",
       "      <td>glutenhaltig</td>\n",
       "      <td>0.0</td>\n",
       "      <td>1.0</td>\n",
       "      <td>tomatenpulver zwiebeln maltodextrin modifizier...</td>\n",
       "    </tr>\n",
       "    <tr>\n",
       "      <th>177</th>\n",
       "      <td>WEIZENMEHL| Wasser| jodiertes Speisesalz (Spei...</td>\n",
       "      <td>glutenhaltig</td>\n",
       "      <td>0.0</td>\n",
       "      <td>1.0</td>\n",
       "      <td>weizenmehl wasser jodiertes speisesalz speises...</td>\n",
       "    </tr>\n",
       "    <tr>\n",
       "      <th>178</th>\n",
       "      <td>Weizenmehl (64%)| Wasser| modifizierte Tapioka...</td>\n",
       "      <td>glutenhaltig</td>\n",
       "      <td>0.0</td>\n",
       "      <td>1.0</td>\n",
       "      <td>weizenmehl  wasser modifizierte tapiokastärke ...</td>\n",
       "    </tr>\n",
       "    <tr>\n",
       "      <th>179</th>\n",
       "      <td>WEIZENMEHL| Jodsalz| modifizierte Stärke| Gewü...</td>\n",
       "      <td>glutenhaltig</td>\n",
       "      <td>0.0</td>\n",
       "      <td>1.0</td>\n",
       "      <td>weizenmehl jodsalz modifizierte stärke gewürze...</td>\n",
       "    </tr>\n",
       "    <tr>\n",
       "      <th>180</th>\n",
       "      <td>Zucker| Senf| Wasser| Branntweinessig| Weizenm...</td>\n",
       "      <td>glutenhaltig</td>\n",
       "      <td>0.0</td>\n",
       "      <td>1.0</td>\n",
       "      <td>zucker senf wasser branntweinessig weizenmehl ...</td>\n",
       "    </tr>\n",
       "    <tr>\n",
       "      <th>181</th>\n",
       "      <td>Stärke| Zucker| Jodsalz| Aromen| (mit Gerste)|...</td>\n",
       "      <td>glutenhaltig</td>\n",
       "      <td>0.0</td>\n",
       "      <td>1.0</td>\n",
       "      <td>stärke zucker jodsalz aromen mit gerste  gewür...</td>\n",
       "    </tr>\n",
       "    <tr>\n",
       "      <th>182</th>\n",
       "      <td>Hartweizengrieß| Wasser. Kann Spuren von Ei en...</td>\n",
       "      <td>glutenhaltig</td>\n",
       "      <td>0.0</td>\n",
       "      <td>1.0</td>\n",
       "      <td>hartweizengrieß wasser kann spuren von ei enth...</td>\n",
       "    </tr>\n",
       "    <tr>\n",
       "      <th>183</th>\n",
       "      <td>Palmöl| WEIZENMEHL| Stärke| jodiertes Speisesa...</td>\n",
       "      <td>glutenhaltig</td>\n",
       "      <td>0.0</td>\n",
       "      <td>1.0</td>\n",
       "      <td>palmöl weizenmehl stärke jodiertes speisesalz ...</td>\n",
       "    </tr>\n",
       "    <tr>\n",
       "      <th>184</th>\n",
       "      <td>WEIZENMEHL| 16% passierte Tomaten| 16% KÄSE (E...</td>\n",
       "      <td>glutenhaltig</td>\n",
       "      <td>0.0</td>\n",
       "      <td>1.0</td>\n",
       "      <td>weizenmehl  passierte tomaten  käse edamer che...</td>\n",
       "    </tr>\n",
       "    <tr>\n",
       "      <th>185</th>\n",
       "      <td>: Jodsalz| Maltodextrin| Geschmacksverstärker ...</td>\n",
       "      <td>glutenhaltig</td>\n",
       "      <td>0.0</td>\n",
       "      <td>1.0</td>\n",
       "      <td>jodsalz maltodextrin geschmacksverstärker mon...</td>\n",
       "    </tr>\n",
       "    <tr>\n",
       "      <th>186</th>\n",
       "      <td>WEIZENMEHL| Wasser| jodiertes Speisesalz (Spei...</td>\n",
       "      <td>glutenhaltig</td>\n",
       "      <td>0.0</td>\n",
       "      <td>1.0</td>\n",
       "      <td>weizenmehl wasser jodiertes speisesalz speises...</td>\n",
       "    </tr>\n",
       "    <tr>\n",
       "      <th>187</th>\n",
       "      <td>﻿Brot (WEIZENMEHL| Wasser| Dextrose| Salz| Hef...</td>\n",
       "      <td>glutenhaltig</td>\n",
       "      <td>0.0</td>\n",
       "      <td>1.0</td>\n",
       "      <td>brot weizenmehl wasser dextrose salz hefe säur...</td>\n",
       "    </tr>\n",
       "    <tr>\n",
       "      <th>188</th>\n",
       "      <td>Alaska Seelachs (52%)| Wasser| Paniermehl (Wei...</td>\n",
       "      <td>glutenhaltig</td>\n",
       "      <td>0.0</td>\n",
       "      <td>1.0</td>\n",
       "      <td>alaska seelachs  wasser paniermehl weizenmehl ...</td>\n",
       "    </tr>\n",
       "    <tr>\n",
       "      <th>189</th>\n",
       "      <td>WEIZENMEHL| Wasser| Natursauerteig (Wasser| RO...</td>\n",
       "      <td>glutenhaltig</td>\n",
       "      <td>0.0</td>\n",
       "      <td>1.0</td>\n",
       "      <td>weizenmehl wasser natursauerteig wasser roggen...</td>\n",
       "    </tr>\n",
       "    <tr>\n",
       "      <th>190</th>\n",
       "      <td>jodiertes Speisesalz| Geschmacksverstärker (Mo...</td>\n",
       "      <td>glutenhaltig</td>\n",
       "      <td>0.0</td>\n",
       "      <td>1.0</td>\n",
       "      <td>jodiertes speisesalz geschmacksverstärker mono...</td>\n",
       "    </tr>\n",
       "    <tr>\n",
       "      <th>191</th>\n",
       "      <td>50 % pflanzliche Öle (Palm| Raps)| Trinkwasser...</td>\n",
       "      <td>glutenhaltig</td>\n",
       "      <td>0.0</td>\n",
       "      <td>1.0</td>\n",
       "      <td>pflanzliche öle palm raps trinkwasser entrah...</td>\n",
       "    </tr>\n",
       "    <tr>\n",
       "      <th>192</th>\n",
       "      <td>Zucker| Chili 22%| Wasser| Knoblauch| Essig au...</td>\n",
       "      <td>glutenhaltig</td>\n",
       "      <td>0.0</td>\n",
       "      <td>1.0</td>\n",
       "      <td>zucker chili  wasser knoblauch essig aus essig...</td>\n",
       "    </tr>\n",
       "    <tr>\n",
       "      <th>193</th>\n",
       "      <td>Zucker| Maltodextrin| jodiertes Speisesalz| mo...</td>\n",
       "      <td>glutenhaltig</td>\n",
       "      <td>0.0</td>\n",
       "      <td>1.0</td>\n",
       "      <td>zucker maltodextrin jodiertes speisesalz modif...</td>\n",
       "    </tr>\n",
       "    <tr>\n",
       "      <th>194</th>\n",
       "      <td>Maltodextrin| jodiertes Speisesalz| Zucker| mo...</td>\n",
       "      <td>glutenhaltig</td>\n",
       "      <td>0.0</td>\n",
       "      <td>1.0</td>\n",
       "      <td>maltodextrin jodiertes speisesalz zucker modif...</td>\n",
       "    </tr>\n",
       "    <tr>\n",
       "      <th>195</th>\n",
       "      <td>65 % Kartoffeln (enthalten SULFIT)| Stärke| Sp...</td>\n",
       "      <td>glutenhaltig</td>\n",
       "      <td>0.0</td>\n",
       "      <td>1.0</td>\n",
       "      <td>kartoffeln enthalten sulfit stärke speisesal...</td>\n",
       "    </tr>\n",
       "    <tr>\n",
       "      <th>196</th>\n",
       "      <td>63% Kartoffeln¹| Stärke| Speisesalz| Aromen| B...</td>\n",
       "      <td>glutenhaltig</td>\n",
       "      <td>0.0</td>\n",
       "      <td>1.0</td>\n",
       "      <td>kartoffeln stärke speisesalz aromen backtrieb...</td>\n",
       "    </tr>\n",
       "    <tr>\n",
       "      <th>197</th>\n",
       "      <td>Zutaten:Zucker| pflanzliche Fette (Palm| Shea)...</td>\n",
       "      <td>glutenhaltig</td>\n",
       "      <td>0.0</td>\n",
       "      <td>1.0</td>\n",
       "      <td>zutatenzucker pflanzliche fette palm shea hase...</td>\n",
       "    </tr>\n",
       "    <tr>\n",
       "      <th>198</th>\n",
       "      <td>Kartoffeln| Kartoffelstärke| Emulgator: Mono- ...</td>\n",
       "      <td>glutenhaltig</td>\n",
       "      <td>0.0</td>\n",
       "      <td>1.0</td>\n",
       "      <td>kartoffeln kartoffelstärke emulgator mono und ...</td>\n",
       "    </tr>\n",
       "  </tbody>\n",
       "</table>\n",
       "</div>"
      ],
      "text/plain": [
       "                                                   raw         label  \\\n",
       "156  Hartweizengrieß| Wasser| Spinat 1|8% Kann Spur...  glutenhaltig   \n",
       "157  34% Gemüse (31% Tomatenpulver und -stücke| Zwi...  glutenhaltig   \n",
       "158  Weizenmehl| Wasser| Palmöl| Rapsöl| Glycerol| ...  glutenhaltig   \n",
       "159  Tomatenpulver| weizenmehl| Zucker| jodsalz| St...  glutenhaltig   \n",
       "160  Palmöl| Mehl (Weizen| Mais)| Stärke| 19% Schme...  glutenhaltig   \n",
       "161  Glukosesirup| 23% Nudeln (WEIZENMEHL (GLUTEN)|...  glutenhaltig   \n",
       "162  Weizenmehl| Palmöl| Stärke| 7|5% geräucherter ...  glutenhaltig   \n",
       "163  ROGGENVOLLKORN (Mehl und Schrot)| Wasser| Natu...  glutenhaltig   \n",
       "164  Pflanzliches Öl (gehärtet)| Molkereierzeugnis|...  glutenhaltig   \n",
       "165  Weizenmehl| Zucker| Kakobutter| Kakaomasse| Pa...  glutenhaltig   \n",
       "166  Palmfett| WEIZENMEHL| Maltodextrin| modifizier...  glutenhaltig   \n",
       "167  Frische VOLLMILCH (24%)| Halbbitterschokolade ...  glutenhaltig   \n",
       "168  24% SAHNEPULVER| WEIZENMEHL| Palmöl| modifizie...  glutenhaltig   \n",
       "169  WEIZENMEHL| Wasser| Natursauerteig (Wasser| RO...  glutenhaltig   \n",
       "170  Modifizierte Kartoffelstärke| Palmöl| Glukoses...  glutenhaltig   \n",
       "171  Haferkleie Flocken. Allergen: Glutenhaltige Ce...  glutenhaltig   \n",
       "172                    Brauwasser| Gerstenmalz| Hopfen  glutenhaltig   \n",
       "173  Stärke| Palmöl| WEIZENMEHL| jodiertes Speisesa...  glutenhaltig   \n",
       "174  WEIZENMEHL| Wasser| Natursauerteig (Wasser| WE...  glutenhaltig   \n",
       "175  EIER| Schokolade(17|5%)| [Zucker| Kakaomasse| ...  glutenhaltig   \n",
       "176  Tomatenpulver| Zwiebeln| Maltodextrin| modifiz...  glutenhaltig   \n",
       "177  WEIZENMEHL| Wasser| jodiertes Speisesalz (Spei...  glutenhaltig   \n",
       "178  Weizenmehl (64%)| Wasser| modifizierte Tapioka...  glutenhaltig   \n",
       "179  WEIZENMEHL| Jodsalz| modifizierte Stärke| Gewü...  glutenhaltig   \n",
       "180  Zucker| Senf| Wasser| Branntweinessig| Weizenm...  glutenhaltig   \n",
       "181  Stärke| Zucker| Jodsalz| Aromen| (mit Gerste)|...  glutenhaltig   \n",
       "182  Hartweizengrieß| Wasser. Kann Spuren von Ei en...  glutenhaltig   \n",
       "183  Palmöl| WEIZENMEHL| Stärke| jodiertes Speisesa...  glutenhaltig   \n",
       "184  WEIZENMEHL| 16% passierte Tomaten| 16% KÄSE (E...  glutenhaltig   \n",
       "185  : Jodsalz| Maltodextrin| Geschmacksverstärker ...  glutenhaltig   \n",
       "186  WEIZENMEHL| Wasser| jodiertes Speisesalz (Spei...  glutenhaltig   \n",
       "187  ﻿Brot (WEIZENMEHL| Wasser| Dextrose| Salz| Hef...  glutenhaltig   \n",
       "188  Alaska Seelachs (52%)| Wasser| Paniermehl (Wei...  glutenhaltig   \n",
       "189  WEIZENMEHL| Wasser| Natursauerteig (Wasser| RO...  glutenhaltig   \n",
       "190  jodiertes Speisesalz| Geschmacksverstärker (Mo...  glutenhaltig   \n",
       "191  50 % pflanzliche Öle (Palm| Raps)| Trinkwasser...  glutenhaltig   \n",
       "192  Zucker| Chili 22%| Wasser| Knoblauch| Essig au...  glutenhaltig   \n",
       "193  Zucker| Maltodextrin| jodiertes Speisesalz| mo...  glutenhaltig   \n",
       "194  Maltodextrin| jodiertes Speisesalz| Zucker| mo...  glutenhaltig   \n",
       "195  65 % Kartoffeln (enthalten SULFIT)| Stärke| Sp...  glutenhaltig   \n",
       "196  63% Kartoffeln¹| Stärke| Speisesalz| Aromen| B...  glutenhaltig   \n",
       "197  Zutaten:Zucker| pflanzliche Fette (Palm| Shea)...  glutenhaltig   \n",
       "198  Kartoffeln| Kartoffelstärke| Emulgator: Mono- ...  glutenhaltig   \n",
       "\n",
       "     glutenfrei  glutenhaltig  \\\n",
       "156         0.0           1.0   \n",
       "157         0.0           1.0   \n",
       "158         0.0           1.0   \n",
       "159         0.0           1.0   \n",
       "160         0.0           1.0   \n",
       "161         0.0           1.0   \n",
       "162         0.0           1.0   \n",
       "163         0.0           1.0   \n",
       "164         0.0           1.0   \n",
       "165         0.0           1.0   \n",
       "166         0.0           1.0   \n",
       "167         0.0           1.0   \n",
       "168         0.0           1.0   \n",
       "169         0.0           1.0   \n",
       "170         0.0           1.0   \n",
       "171         0.0           1.0   \n",
       "172         0.0           1.0   \n",
       "173         0.0           1.0   \n",
       "174         0.0           1.0   \n",
       "175         0.0           1.0   \n",
       "176         0.0           1.0   \n",
       "177         0.0           1.0   \n",
       "178         0.0           1.0   \n",
       "179         0.0           1.0   \n",
       "180         0.0           1.0   \n",
       "181         0.0           1.0   \n",
       "182         0.0           1.0   \n",
       "183         0.0           1.0   \n",
       "184         0.0           1.0   \n",
       "185         0.0           1.0   \n",
       "186         0.0           1.0   \n",
       "187         0.0           1.0   \n",
       "188         0.0           1.0   \n",
       "189         0.0           1.0   \n",
       "190         0.0           1.0   \n",
       "191         0.0           1.0   \n",
       "192         0.0           1.0   \n",
       "193         0.0           1.0   \n",
       "194         0.0           1.0   \n",
       "195         0.0           1.0   \n",
       "196         0.0           1.0   \n",
       "197         0.0           1.0   \n",
       "198         0.0           1.0   \n",
       "\n",
       "                                                 clean  \n",
       "156  hartweizengrieß wasser spinat  kann spuren von...  \n",
       "157   gemüse  tomatenpulver und stücke zwiebeln sel...  \n",
       "158  weizenmehl wasser palmöl rapsöl glycerol salz ...  \n",
       "159  tomatenpulver weizenmehl zucker jodsalz stärke...  \n",
       "160  palmöl mehl weizen mais stärke  schmelzkäse bl...  \n",
       "161  glukosesirup  nudeln weizenmehl gluten salz ka...  \n",
       "162  weizenmehl palmöl stärke  geräucherter speck s...  \n",
       "163  roggenvollkorn mehl und schrot wasser natursau...  \n",
       "164  pflanzliches öl gehärtet molkereierzeugnis wei...  \n",
       "165  weizenmehl zucker kakobutter kakaomasse palmöl...  \n",
       "166  palmfett weizenmehl maltodextrin modifizierte ...  \n",
       "167  frische vollmilch  halbbitterschokolade zucker...  \n",
       "168   sahnepulver weizenmehl palmöl modifizierte st...  \n",
       "169  weizenmehl wasser natursauerteig wasser roggen...  \n",
       "170  modifizierte kartoffelstärke palmöl glukosesir...  \n",
       "171  haferkleie flocken allergen glutenhaltige cere...  \n",
       "172                      brauwasser gerstenmalz hopfen  \n",
       "173  stärke palmöl weizenmehl jodiertes speisesalz ...  \n",
       "174  weizenmehl wasser natursauerteig wasser weizen...  \n",
       "175  eier schokolade zucker kakaomasse emulgator le...  \n",
       "176  tomatenpulver zwiebeln maltodextrin modifizier...  \n",
       "177  weizenmehl wasser jodiertes speisesalz speises...  \n",
       "178  weizenmehl  wasser modifizierte tapiokastärke ...  \n",
       "179  weizenmehl jodsalz modifizierte stärke gewürze...  \n",
       "180  zucker senf wasser branntweinessig weizenmehl ...  \n",
       "181  stärke zucker jodsalz aromen mit gerste  gewür...  \n",
       "182  hartweizengrieß wasser kann spuren von ei enth...  \n",
       "183  palmöl weizenmehl stärke jodiertes speisesalz ...  \n",
       "184  weizenmehl  passierte tomaten  käse edamer che...  \n",
       "185   jodsalz maltodextrin geschmacksverstärker mon...  \n",
       "186  weizenmehl wasser jodiertes speisesalz speises...  \n",
       "187  brot weizenmehl wasser dextrose salz hefe säur...  \n",
       "188  alaska seelachs  wasser paniermehl weizenmehl ...  \n",
       "189  weizenmehl wasser natursauerteig wasser roggen...  \n",
       "190  jodiertes speisesalz geschmacksverstärker mono...  \n",
       "191    pflanzliche öle palm raps trinkwasser entrah...  \n",
       "192  zucker chili  wasser knoblauch essig aus essig...  \n",
       "193  zucker maltodextrin jodiertes speisesalz modif...  \n",
       "194  maltodextrin jodiertes speisesalz zucker modif...  \n",
       "195    kartoffeln enthalten sulfit stärke speisesal...  \n",
       "196   kartoffeln stärke speisesalz aromen backtrieb...  \n",
       "197  zutatenzucker pflanzliche fette palm shea hase...  \n",
       "198  kartoffeln kartoffelstärke emulgator mono und ...  "
      ]
     },
     "execution_count": 201,
     "metadata": {},
     "output_type": "execute_result"
    }
   ],
   "source": [
    "test_df[train_df[\"label\"] == 'glutenhaltig']"
   ]
  },
  {
   "cell_type": "code",
   "execution_count": 135,
   "metadata": {},
   "outputs": [
    {
     "data": {
      "text/plain": [
       "5699"
      ]
     },
     "execution_count": 135,
     "metadata": {},
     "output_type": "execute_result"
    }
   ],
   "source": [
    "len(train_df[train_df[\"label\"] == \"glutenfrei\"])"
   ]
  },
  {
   "cell_type": "code",
   "execution_count": 136,
   "metadata": {},
   "outputs": [
    {
     "data": {
      "text/plain": [
       "3484"
      ]
     },
     "execution_count": 136,
     "metadata": {},
     "output_type": "execute_result"
    }
   ],
   "source": [
    "len(train_df[train_df[\"label\"] == \"glutenhaltig\"])"
   ]
  },
  {
   "cell_type": "code",
   "execution_count": null,
   "metadata": {},
   "outputs": [],
   "source": [
    "train_df[\"clean\"].apply(lambda x: print(len(x.split(\" \"))))"
   ]
  },
  {
   "cell_type": "markdown",
   "metadata": {},
   "source": [
    "### Build dataset"
   ]
  },
  {
   "cell_type": "code",
   "execution_count": 138,
   "metadata": {},
   "outputs": [],
   "source": [
    "from torchtext.data import Field, TabularDataset, LabelField\n",
    "from torchtext.vocab import Vectors"
   ]
  },
  {
   "cell_type": "code",
   "execution_count": 139,
   "metadata": {},
   "outputs": [],
   "source": [
    "SEED = 1234\n",
    "\n",
    "random.seed(SEED)\n",
    "np.random.seed(SEED)\n",
    "torch.manual_seed(SEED)\n",
    "torch.backends.cudnn.deterministic = True"
   ]
  },
  {
   "cell_type": "code",
   "execution_count": 140,
   "metadata": {},
   "outputs": [],
   "source": [
    "CLEAN = Field(sequential=True, use_vocab=True, tokenize=tokenize, batch_first=True)\n",
    "LABEL = LabelField(sequential=False, use_vocab=True, is_target=True)"
   ]
  },
  {
   "cell_type": "code",
   "execution_count": 141,
   "metadata": {},
   "outputs": [],
   "source": [
    "fields = {'clean': ('c', CLEAN), 'label': ('l', LABEL)}"
   ]
  },
  {
   "cell_type": "code",
   "execution_count": 142,
   "metadata": {},
   "outputs": [],
   "source": [
    "train_data, test_data = TabularDataset.splits(\n",
    "    path='./', \n",
    "    train='gluten_training_clean.csv',\n",
    "    test='gluten_test_clean.csv',\n",
    "    format='csv',\n",
    "    fields=fields\n",
    ")"
   ]
  },
  {
   "cell_type": "code",
   "execution_count": 143,
   "metadata": {},
   "outputs": [],
   "source": [
    "train_data, valid_data = train_data.split(random_state = random.seed(SEED))"
   ]
  },
  {
   "cell_type": "code",
   "execution_count": 144,
   "metadata": {},
   "outputs": [
    {
     "data": {
      "text/plain": [
       "<torchtext.data.example.Example at 0x7f53fc5c9e50>"
      ]
     },
     "execution_count": 144,
     "metadata": {},
     "output_type": "execute_result"
    }
   ],
   "source": [
    "next(iter(train_data))"
   ]
  },
  {
   "cell_type": "code",
   "execution_count": 184,
   "metadata": {},
   "outputs": [
    {
     "data": {
      "text/plain": [
       "['pasteurisierte',\n",
       " 'kuhmilch',\n",
       " 'speisesalz',\n",
       " 'säuerungskulturen',\n",
       " 'mikrobielles',\n",
       " 'lab',\n",
       " 'farbstoff',\n",
       " 'carotinnur',\n",
       " 'bei',\n",
       " 'edamer',\n",
       " 'und',\n",
       " 'tilsiterunter',\n",
       " 'schutzatmosphäre',\n",
       " 'verpackt']"
      ]
     },
     "execution_count": 184,
     "metadata": {},
     "output_type": "execute_result"
    }
   ],
   "source": [
    "train_data[1].c"
   ]
  },
  {
   "cell_type": "code",
   "execution_count": 146,
   "metadata": {},
   "outputs": [],
   "source": [
    "vec = Vectors('GloVe_ge.txt', cache='./GloVe_vec/')"
   ]
  },
  {
   "cell_type": "code",
   "execution_count": 147,
   "metadata": {},
   "outputs": [
    {
     "data": {
      "text/plain": [
       "300"
      ]
     },
     "execution_count": 147,
     "metadata": {},
     "output_type": "execute_result"
    }
   ],
   "source": [
    "len(vec['gluten'])"
   ]
  },
  {
   "cell_type": "code",
   "execution_count": 148,
   "metadata": {},
   "outputs": [],
   "source": [
    "EMB_SIZE = len(vec['gluten'])"
   ]
  },
  {
   "cell_type": "code",
   "execution_count": 149,
   "metadata": {},
   "outputs": [
    {
     "data": {
      "text/plain": [
       "300"
      ]
     },
     "execution_count": 149,
     "metadata": {},
     "output_type": "execute_result"
    }
   ],
   "source": [
    "vec.dim"
   ]
  },
  {
   "cell_type": "code",
   "execution_count": 150,
   "metadata": {},
   "outputs": [],
   "source": [
    "MAX_VOCAB_SIZE = 25000\n",
    "\n",
    "CLEAN.build_vocab(train_data, \n",
    "                 max_size = MAX_VOCAB_SIZE, \n",
    "                 vectors = vec, \n",
    "                 unk_init = torch.Tensor.normal_)\n",
    "\n",
    "LABEL.build_vocab(train_data)"
   ]
  },
  {
   "cell_type": "code",
   "execution_count": 151,
   "metadata": {},
   "outputs": [],
   "source": [
    "# CLEAN.get_vecs_by_tokens('gluten')"
   ]
  },
  {
   "cell_type": "code",
   "execution_count": 152,
   "metadata": {},
   "outputs": [],
   "source": [
    "BATCH_SIZE = 64\n",
    "VOCAB = len(CLEAN.vocab)\n",
    "PAD_IDX = CLEAN.vocab.stoi[CLEAN.pad_token]"
   ]
  },
  {
   "cell_type": "code",
   "execution_count": 172,
   "metadata": {},
   "outputs": [
    {
     "data": {
      "text/plain": [
       "<function dict.values>"
      ]
     },
     "execution_count": 172,
     "metadata": {},
     "output_type": "execute_result"
    }
   ],
   "source": [
    "CLEAN.vocab.__dict__.values"
   ]
  },
  {
   "cell_type": "code",
   "execution_count": 188,
   "metadata": {},
   "outputs": [
    {
     "data": {
      "text/plain": [
       "0"
      ]
     },
     "execution_count": 188,
     "metadata": {},
     "output_type": "execute_result"
    }
   ],
   "source": [
    "LABEL.vocab['glutenfrei']"
   ]
  },
  {
   "cell_type": "code",
   "execution_count": 154,
   "metadata": {},
   "outputs": [],
   "source": [
    "import torchtext"
   ]
  },
  {
   "cell_type": "code",
   "execution_count": 155,
   "metadata": {},
   "outputs": [
    {
     "name": "stdout",
     "output_type": "stream",
     "text": [
      "cpu\n"
     ]
    }
   ],
   "source": [
    "device = torch.device('cuda' if torch.cuda.is_available() else 'cpu')\n",
    "print(device)\n",
    "\n",
    "train_iter, val_iter, test_iter = torchtext.data.BucketIterator.splits(\n",
    "    (train_data, valid_data, test_data), \n",
    "    batch_size = BATCH_SIZE, \n",
    "    device = device,\n",
    "    sort_key=lambda x: len(x.c), # the BucketIterator needs to be told what function it should use to group the data.\n",
    "    sort_within_batch=False,\n",
    "    repeat=False # we pass repeat=False because we want to wrap this Iterator layer.\n",
    ")"
   ]
  },
  {
   "cell_type": "code",
   "execution_count": 156,
   "metadata": {},
   "outputs": [
    {
     "data": {
      "text/plain": [
       "\n",
       "[torchtext.data.batch.Batch of size 64]\n",
       "\t[.c]:[torch.LongTensor of size 64x70]\n",
       "\t[.l]:[torch.LongTensor of size 64]"
      ]
     },
     "execution_count": 156,
     "metadata": {},
     "output_type": "execute_result"
    }
   ],
   "source": [
    "next(iter(train_iter))"
   ]
  },
  {
   "cell_type": "code",
   "execution_count": 158,
   "metadata": {},
   "outputs": [],
   "source": [
    "em_sz = 100\n",
    "nh = 500\n",
    "nl = 3\n",
    "# model = SimpleLSTMBaseline(nh, emb_dim=em_sz)"
   ]
  },
  {
   "cell_type": "code",
   "execution_count": 159,
   "metadata": {},
   "outputs": [],
   "source": [
    "class BatchGenerator:\n",
    "    def __init__(self, dl, x_field, y_field):\n",
    "        self.dl, self.x_field, self.y_field = dl, x_field, y_field\n",
    "        \n",
    "    def __len__(self):\n",
    "        return len(self.dl)\n",
    "    \n",
    "    def __iter__(self):\n",
    "        for batch in self.dl:\n",
    "            X = getattr(batch, self.x_field)\n",
    "            y = getattr(batch, self.y_field)\n",
    "            if self.y_field is not None:\n",
    "                y = torch.cat([getattr(batch, feat).unsqueeze(1) for feat in self.y_field], dim=1).float()\n",
    "            else:\n",
    "                y = torch.zeros((1))\n",
    "            yield (X,y)\n",
    "            "
   ]
  },
  {
   "cell_type": "code",
   "execution_count": 160,
   "metadata": {},
   "outputs": [
    {
     "data": {
      "text/plain": [
       "tensor([[ 29,  17,  46,  ...,   1,   1,   1],\n",
       "        [  2,  27,  42,  ...,   1,   1,   1],\n",
       "        [ 31,  27,   2,  ...,   1,   1,   1],\n",
       "        ...,\n",
       "        [ 36, 117, 321,  ...,   1,   1,   1],\n",
       "        [723, 566,  43,  ...,   1,   1,   1],\n",
       "        [161, 629,  23,  ...,   1,   1,   1]])"
      ]
     },
     "execution_count": 160,
     "metadata": {},
     "output_type": "execute_result"
    }
   ],
   "source": [
    "# train_batch_it = BatchGenerator()\n",
    "train_dl = BatchGenerator(train_iter, \"c\", \"l\")\n",
    "valid_dl = BatchGenerator(val_iter, \"c\", \"l\")\n",
    "next(iter(train_dl))[0]"
   ]
  },
  {
   "cell_type": "code",
   "execution_count": 161,
   "metadata": {},
   "outputs": [],
   "source": [
    "# class BatchWrapper:\n",
    "#     def __init__(self, dl, x_var, y_vars):\n",
    "#         self.dl, self.x_var, self.y_vars = dl, x_var, y_vars\n",
    "\n",
    "#     def __iter__(self):\n",
    "#         for batch in self.dl:\n",
    "#             x = getattr(batch, self.x_var)\n",
    "# #             print('xxx ----> ', x.dim())\n",
    "#             if self.y_vars is not None:\n",
    "#                 y = torch.cat([getattr(batch, feat).unsqueeze(1) for feat in self.y_vars], dim=1).float()\n",
    "#                 print('yyy ----> ', y.dim())\n",
    "#             else:\n",
    "#                 y = torch.zeros((1))\n",
    "\n",
    "#             yield (x, y)\n",
    "\n",
    "#     def __len__(self):\n",
    "#         return len(self.dl)\n",
    "\n",
    "# train_dl = BatchWrapper(train_iter, \"c\", \"l\")\n",
    "# valid_dl = BatchWrapper(val_iter, \"c\", \"l\")\n",
    "# test_dl = BatchWrapper(test_iter, \"c\", None)"
   ]
  },
  {
   "cell_type": "code",
   "execution_count": 162,
   "metadata": {},
   "outputs": [],
   "source": [
    "import torch.nn as nn\n",
    "import torch.nn.functional as F\n",
    "\n",
    "class CNN(nn.Module):\n",
    "    def __init__(self, vocab_size, embedding_dim, n_filters, filter_sizes, output_dim, \n",
    "                 dropout):\n",
    "        \n",
    "        super().__init__()\n",
    "        \n",
    "        self.embedding = nn.Embedding(vocab_size, embedding_dim)\n",
    "        \n",
    "        self.conv_0 = nn.Conv2d(in_channels = 1, \n",
    "                                out_channels = n_filters, \n",
    "                                kernel_size = (filter_sizes[0], embedding_dim))\n",
    "        \n",
    "        self.conv_1 = nn.Conv2d(in_channels = 1, \n",
    "                                out_channels = n_filters, \n",
    "                                kernel_size = (filter_sizes[1], embedding_dim))\n",
    "        \n",
    "        self.conv_2 = nn.Conv2d(in_channels = 1, \n",
    "                                out_channels = n_filters, \n",
    "                                kernel_size = (filter_sizes[2], embedding_dim))\n",
    "        \n",
    "        self.fc = nn.Linear(len(filter_sizes) * n_filters, output_dim)\n",
    "        \n",
    "        self.dropout = nn.Dropout(dropout)\n",
    "        \n",
    "    def forward(self, text):\n",
    "                \n",
    "        #text = [batch size, sent len]\n",
    "        \n",
    "        embedded = self.embedding(text)\n",
    "                \n",
    "        #embedded = [batch size, sent len, emb dim]\n",
    "        \n",
    "        embedded = embedded.unsqueeze(1)\n",
    "        \n",
    "        #embedded = [batch size, 1, sent len, emb dim]\n",
    "        \n",
    "        conved_0 = F.relu(self.conv_0(embedded).squeeze(3))\n",
    "        conved_1 = F.relu(self.conv_1(embedded).squeeze(3))\n",
    "        conved_2 = F.relu(self.conv_2(embedded).squeeze(3))\n",
    "            \n",
    "        #conved_n = [batch size, n_filters, sent len - filter_sizes[n] + 1]\n",
    "        \n",
    "        pooled_0 = F.max_pool1d(conved_0, conved_0.shape[2]).squeeze(2)\n",
    "        pooled_1 = F.max_pool1d(conved_1, conved_1.shape[2]).squeeze(2)\n",
    "        pooled_2 = F.max_pool1d(conved_2, conved_2.shape[2]).squeeze(2)\n",
    "        \n",
    "        #pooled_n = [batch size, n_filters]\n",
    "        \n",
    "        cat = self.dropout(torch.cat((pooled_0, pooled_1, pooled_2), dim = 1))\n",
    "\n",
    "        #cat = [batch size, n_filters * len(filter_sizes)]\n",
    "            \n",
    "        return self.fc(cat)"
   ]
  },
  {
   "cell_type": "code",
   "execution_count": 163,
   "metadata": {},
   "outputs": [],
   "source": [
    "class CNN1d(nn.Module):\n",
    "    def __init__(self, vocab_size, embedding_dim, n_filters, filter_sizes, output_dim, \n",
    "                 dropout, pad_idx):\n",
    "        \n",
    "        super().__init__()\n",
    "        \n",
    "        self.embedding = nn.Embedding(vocab_size, embedding_dim, padding_idx = pad_idx)\n",
    "        \n",
    "        self.convs = nn.ModuleList([\n",
    "                                    nn.Conv1d(in_channels = embedding_dim, \n",
    "                                              out_channels = n_filters, \n",
    "                                              kernel_size = fs)\n",
    "                                    for fs in filter_sizes\n",
    "                                    ])\n",
    "        \n",
    "        self.fc = nn.Linear(len(filter_sizes) * n_filters, output_dim)\n",
    "        \n",
    "        self.dropout = nn.Dropout(dropout)\n",
    "        \n",
    "    def forward(self, text):\n",
    "        \n",
    "        #text = [batch size, sent len]\n",
    "        \n",
    "        embedded = self.embedding(text)\n",
    "                \n",
    "        #embedded = [batch size, sent len, emb dim]\n",
    "        \n",
    "        embedded = embedded.permute(0, 2, 1)\n",
    "        \n",
    "        #embedded = [batch size, emb dim, sent len]\n",
    "        \n",
    "        conved = [F.relu(conv(embedded)) for conv in self.convs]\n",
    "            \n",
    "        #conved_n = [batch size, n_filters, sent len - filter_sizes[n] + 1]\n",
    "        \n",
    "        pooled = [F.max_pool1d(conv, conv.shape[2]).squeeze(2) for conv in conved]\n",
    "        \n",
    "        #pooled_n = [batch size, n_filters]\n",
    "        \n",
    "        cat = self.dropout(torch.cat(pooled, dim = 1))\n",
    "        \n",
    "        #cat = [batch size, n_filters * len(filter_sizes)]\n",
    "            \n",
    "        return self.fc(cat)"
   ]
  },
  {
   "cell_type": "code",
   "execution_count": 164,
   "metadata": {},
   "outputs": [],
   "source": [
    "model = CNN(VOCAB, EMB_SIZE, 100, [1,1,1], 1, 0.5)\n",
    "# model = CNN1d(VOCAB, EMB_SIZE, 100, [1,1,1], 1, 0.5, PAD_IDX)"
   ]
  },
  {
   "cell_type": "code",
   "execution_count": 165,
   "metadata": {},
   "outputs": [
    {
     "data": {
      "text/plain": [
       "torch.Size([5900, 300])"
      ]
     },
     "execution_count": 165,
     "metadata": {},
     "output_type": "execute_result"
    }
   ],
   "source": [
    "model.embedding.weight.shape"
   ]
  },
  {
   "cell_type": "code",
   "execution_count": 166,
   "metadata": {},
   "outputs": [],
   "source": [
    "import tqdm\n",
    "import torch.optim as optim"
   ]
  },
  {
   "cell_type": "code",
   "execution_count": 167,
   "metadata": {},
   "outputs": [],
   "source": [
    "# opt = optim.Adam(model.parameters(), lr=1e-2)\n",
    "opt = optim.SGD(model.parameters(), lr=0.09)\n",
    "loss_func = nn.BCEWithLogitsLoss()\n",
    "epochs = 20"
   ]
  },
  {
   "cell_type": "code",
   "execution_count": 168,
   "metadata": {},
   "outputs": [],
   "source": [
    "def binary_accuracy(preds, y):\n",
    "    #round predictions to the closest integer\n",
    "    rounded_preds = torch.round(torch.sigmoid(preds))\n",
    "    correct = (rounded_preds == y).float() #convert into float for division \n",
    "    acc = correct.sum() / len(correct)\n",
    "    return acc"
   ]
  },
  {
   "cell_type": "code",
   "execution_count": 169,
   "metadata": {},
   "outputs": [],
   "source": [
    "def trainCNN1(model, iterator, optimizer, criterion):\n",
    "    \n",
    "    epoch_loss = 0\n",
    "    epoch_acc = 0\n",
    "    \n",
    "    model.train()\n",
    "    \n",
    "    for batch in iterator:\n",
    "        \n",
    "        optimizer.zero_grad()\n",
    "        \n",
    "        predictions = model(batch.text).squeeze(1)\n",
    "        \n",
    "        loss = criterion(predictions, batch.label)\n",
    "        \n",
    "        acc = binary_accuracy(predictions, batch.label)\n",
    "        \n",
    "        loss.backward()\n",
    "        \n",
    "        optimizer.step()\n",
    "        \n",
    "        epoch_loss += loss.item()\n",
    "        epoch_acc += acc.item()\n",
    "        \n",
    "    return epoch_loss / len(iterator), epoch_acc / len(iterator)"
   ]
  },
  {
   "cell_type": "code",
   "execution_count": 170,
   "metadata": {},
   "outputs": [],
   "source": []
  },
  {
   "cell_type": "code",
   "execution_count": 171,
   "metadata": {},
   "outputs": [
    {
     "name": "stderr",
     "output_type": "stream",
     "text": [
      "  2%|▏         | 2/101 [00:00<00:07, 13.85it/s]"
     ]
    },
    {
     "name": "stdout",
     "output_type": "stream",
     "text": [
      "ACCURACY:  tensor(0.3438)\n",
      "ACCURACY:  tensor(0.7031)\n",
      "ACCURACY:  tensor(0.3750)\n",
      "ACCURACY:  tensor(0.5938)\n"
     ]
    },
    {
     "name": "stderr",
     "output_type": "stream",
     "text": [
      "  6%|▌         | 6/101 [00:00<00:06, 14.08it/s]"
     ]
    },
    {
     "name": "stdout",
     "output_type": "stream",
     "text": [
      "ACCURACY:  tensor(0.4531)\n",
      "ACCURACY:  tensor(0.6406)\n",
      "ACCURACY:  tensor(0.2656)\n"
     ]
    },
    {
     "name": "stderr",
     "output_type": "stream",
     "text": [
      " 10%|▉         | 10/101 [00:00<00:05, 15.82it/s]"
     ]
    },
    {
     "name": "stdout",
     "output_type": "stream",
     "text": [
      "ACCURACY:  tensor(0.5781)\n",
      "ACCURACY:  tensor(0.4219)\n",
      "ACCURACY:  tensor(0.5938)\n",
      "ACCURACY:  tensor(0.5000)\n"
     ]
    },
    {
     "name": "stderr",
     "output_type": "stream",
     "text": [
      " 15%|█▍        | 15/101 [00:00<00:05, 16.49it/s]"
     ]
    },
    {
     "name": "stdout",
     "output_type": "stream",
     "text": [
      "ACCURACY:  tensor(0.6562)\n",
      "ACCURACY:  tensor(0.5469)\n",
      "ACCURACY:  tensor(0.5938)\n",
      "ACCURACY:  tensor(0.4375)\n"
     ]
    },
    {
     "name": "stderr",
     "output_type": "stream",
     "text": [
      "\r",
      " 17%|█▋        | 17/101 [00:01<00:05, 16.49it/s]"
     ]
    },
    {
     "name": "stdout",
     "output_type": "stream",
     "text": [
      "ACCURACY:  tensor(0.6719)\n",
      "ACCURACY:  tensor(0.6094)\n",
      "ACCURACY:  tensor(0.6406)\n",
      "ACCURACY:  tensor(0.4062)\n"
     ]
    },
    {
     "name": "stderr",
     "output_type": "stream",
     "text": [
      " 21%|██        | 21/101 [00:01<00:04, 17.40it/s]"
     ]
    },
    {
     "name": "stdout",
     "output_type": "stream",
     "text": [
      "ACCURACY:  tensor(0.6250)\n",
      "ACCURACY:  tensor(0.5312)\n",
      "ACCURACY:  tensor(0.7500)\n",
      "ACCURACY:  tensor(0.6250)\n"
     ]
    },
    {
     "name": "stderr",
     "output_type": "stream",
     "text": [
      " 25%|██▍       | 25/101 [00:01<00:04, 18.22it/s]"
     ]
    },
    {
     "name": "stdout",
     "output_type": "stream",
     "text": [
      "ACCURACY:  tensor(0.7031)\n",
      "ACCURACY:  tensor(0.6406)\n",
      "ACCURACY:  tensor(0.7969)\n",
      "ACCURACY:  tensor(0.7656)\n",
      "ACCURACY:  tensor(0.8125)\n"
     ]
    },
    {
     "name": "stderr",
     "output_type": "stream",
     "text": [
      " 32%|███▏      | 32/101 [00:01<00:03, 18.76it/s]"
     ]
    },
    {
     "name": "stdout",
     "output_type": "stream",
     "text": [
      "ACCURACY:  tensor(0.8125)\n",
      "ACCURACY:  tensor(0.7188)\n",
      "ACCURACY:  tensor(0.6875)\n",
      "ACCURACY:  tensor(0.7969)\n"
     ]
    },
    {
     "name": "stderr",
     "output_type": "stream",
     "text": [
      "\r",
      " 34%|███▎      | 34/101 [00:01<00:03, 18.12it/s]"
     ]
    },
    {
     "name": "stdout",
     "output_type": "stream",
     "text": [
      "ACCURACY:  tensor(0.7500)\n",
      "ACCURACY:  tensor(0.7656)\n",
      "ACCURACY:  tensor(0.7812)\n",
      "ACCURACY:  tensor(0.8438)\n"
     ]
    },
    {
     "name": "stderr",
     "output_type": "stream",
     "text": [
      " 39%|███▊      | 39/101 [00:02<00:03, 18.71it/s]"
     ]
    },
    {
     "name": "stdout",
     "output_type": "stream",
     "text": [
      "ACCURACY:  tensor(0.8594)\n",
      "ACCURACY:  tensor(0.8594)\n",
      "ACCURACY:  tensor(0.8281)\n",
      "ACCURACY:  tensor(0.8906)\n"
     ]
    },
    {
     "name": "stderr",
     "output_type": "stream",
     "text": [
      " 43%|████▎     | 43/101 [00:02<00:03, 16.63it/s]"
     ]
    },
    {
     "name": "stdout",
     "output_type": "stream",
     "text": [
      "ACCURACY:  tensor(0.7500)\n",
      "ACCURACY:  tensor(0.5469)\n",
      "ACCURACY:  tensor(0.7500)\n",
      "ACCURACY:  tensor(0.8125)\n"
     ]
    },
    {
     "name": "stderr",
     "output_type": "stream",
     "text": [
      " 47%|████▋     | 47/101 [00:02<00:03, 16.59it/s]"
     ]
    },
    {
     "name": "stdout",
     "output_type": "stream",
     "text": [
      "ACCURACY:  tensor(0.8750)\n",
      "ACCURACY:  tensor(0.8750)\n",
      "ACCURACY:  tensor(0.8281)\n"
     ]
    },
    {
     "name": "stderr",
     "output_type": "stream",
     "text": [
      "\r",
      " 49%|████▊     | 49/101 [00:02<00:03, 15.60it/s]"
     ]
    },
    {
     "name": "stdout",
     "output_type": "stream",
     "text": [
      "ACCURACY:  tensor(0.8906)\n",
      "ACCURACY:  tensor(0.8906)\n",
      "ACCURACY:  tensor(0.8125)\n"
     ]
    },
    {
     "name": "stderr",
     "output_type": "stream",
     "text": [
      "\r",
      " 50%|█████     | 51/101 [00:03<00:03, 12.73it/s]"
     ]
    },
    {
     "name": "stdout",
     "output_type": "stream",
     "text": [
      "ACCURACY:  tensor(0.8594)\n",
      "ACCURACY:  tensor(0.9844)\n",
      "ACCURACY:  tensor(0.8750)\n"
     ]
    },
    {
     "name": "stderr",
     "output_type": "stream",
     "text": [
      " 54%|█████▍    | 55/101 [00:03<00:03, 13.15it/s]"
     ]
    },
    {
     "name": "stdout",
     "output_type": "stream",
     "text": [
      "ACCURACY:  tensor(0.9219)\n",
      "ACCURACY:  tensor(0.8281)\n",
      "ACCURACY:  tensor(0.8438)\n",
      "ACCURACY:  tensor(0.8750)\n"
     ]
    },
    {
     "name": "stderr",
     "output_type": "stream",
     "text": [
      " 58%|█████▊    | 59/101 [00:03<00:03, 13.72it/s]"
     ]
    },
    {
     "name": "stdout",
     "output_type": "stream",
     "text": [
      "ACCURACY:  tensor(0.8594)\n",
      "ACCURACY:  tensor(0.8438)\n",
      "ACCURACY:  tensor(0.8906)\n",
      "ACCURACY:  tensor(0.8594)\n"
     ]
    },
    {
     "name": "stderr",
     "output_type": "stream",
     "text": [
      " 64%|██████▍   | 65/101 [00:03<00:02, 16.58it/s]"
     ]
    },
    {
     "name": "stdout",
     "output_type": "stream",
     "text": [
      "ACCURACY:  tensor(0.8125)\n",
      "ACCURACY:  tensor(0.8906)\n",
      "ACCURACY:  tensor(0.9375)\n",
      "ACCURACY:  tensor(0.9531)\n"
     ]
    },
    {
     "name": "stderr",
     "output_type": "stream",
     "text": [
      "\r",
      " 66%|██████▋   | 67/101 [00:04<00:02, 16.83it/s]"
     ]
    },
    {
     "name": "stdout",
     "output_type": "stream",
     "text": [
      "ACCURACY:  tensor(0.9531)\n",
      "ACCURACY:  tensor(0.8438)\n",
      "ACCURACY:  tensor(0.8906)\n",
      "ACCURACY:  tensor(0.8906)\n"
     ]
    },
    {
     "name": "stderr",
     "output_type": "stream",
     "text": [
      " 70%|███████   | 71/101 [00:04<00:01, 16.81it/s]"
     ]
    },
    {
     "name": "stdout",
     "output_type": "stream",
     "text": [
      "ACCURACY:  tensor(0.8594)\n",
      "ACCURACY:  tensor(0.8906)\n",
      "ACCURACY:  tensor(0.9062)\n",
      "ACCURACY:  tensor(0.7812)\n"
     ]
    },
    {
     "name": "stderr",
     "output_type": "stream",
     "text": [
      " 74%|███████▍  | 75/101 [00:04<00:01, 16.28it/s]"
     ]
    },
    {
     "name": "stdout",
     "output_type": "stream",
     "text": [
      "ACCURACY:  tensor(0.8906)\n",
      "ACCURACY:  tensor(0.9219)\n",
      "ACCURACY:  tensor(0.8438)\n",
      "ACCURACY:  tensor(0.8594)\n"
     ]
    },
    {
     "name": "stderr",
     "output_type": "stream",
     "text": [
      " 79%|███████▉  | 80/101 [00:04<00:01, 17.63it/s]"
     ]
    },
    {
     "name": "stdout",
     "output_type": "stream",
     "text": [
      "ACCURACY:  tensor(0.8906)\n",
      "ACCURACY:  tensor(0.8594)\n",
      "ACCURACY:  tensor(0.9062)\n",
      "ACCURACY:  tensor(0.9375)\n",
      "ACCURACY:  tensor(0.9062)\n"
     ]
    },
    {
     "name": "stderr",
     "output_type": "stream",
     "text": [
      " 83%|████████▎ | 84/101 [00:05<00:00, 17.17it/s]"
     ]
    },
    {
     "name": "stdout",
     "output_type": "stream",
     "text": [
      "ACCURACY:  tensor(0.8594)\n",
      "ACCURACY:  tensor(0.8750)\n",
      "ACCURACY:  tensor(0.7812)\n",
      "ACCURACY:  tensor(0.7500)\n"
     ]
    },
    {
     "name": "stderr",
     "output_type": "stream",
     "text": [
      " 87%|████████▋ | 88/101 [00:05<00:00, 15.00it/s]"
     ]
    },
    {
     "name": "stdout",
     "output_type": "stream",
     "text": [
      "ACCURACY:  tensor(0.8438)\n",
      "ACCURACY:  tensor(0.8750)\n",
      "ACCURACY:  tensor(0.8281)\n"
     ]
    },
    {
     "name": "stderr",
     "output_type": "stream",
     "text": [
      " 92%|█████████▏| 93/101 [00:05<00:00, 16.61it/s]"
     ]
    },
    {
     "name": "stdout",
     "output_type": "stream",
     "text": [
      "ACCURACY:  tensor(0.8906)\n",
      "ACCURACY:  tensor(0.9531)\n",
      "ACCURACY:  tensor(0.9062)\n",
      "ACCURACY:  tensor(0.9531)\n",
      "ACCURACY:  tensor(0.9219)\n"
     ]
    },
    {
     "name": "stderr",
     "output_type": "stream",
     "text": [
      " 96%|█████████▌| 97/101 [00:05<00:00, 16.88it/s]"
     ]
    },
    {
     "name": "stdout",
     "output_type": "stream",
     "text": [
      "ACCURACY:  tensor(0.9062)\n",
      "ACCURACY:  tensor(0.8750)\n",
      "ACCURACY:  tensor(0.9375)\n",
      "ACCURACY:  tensor(0.8906)\n"
     ]
    },
    {
     "name": "stderr",
     "output_type": "stream",
     "text": [
      "100%|██████████| 101/101 [00:06<00:00, 16.56it/s]\n"
     ]
    },
    {
     "name": "stdout",
     "output_type": "stream",
     "text": [
      "ACCURACY:  tensor(0.9062)\n",
      "ACCURACY:  tensor(0.9375)\n",
      "ACCURACY:  tensor(0.9643)\n",
      "EPOCH LOSS: \n",
      "  45.46780069806788\n"
     ]
    },
    {
     "name": "stderr",
     "output_type": "stream",
     "text": [
      "  2%|▏         | 2/101 [00:00<00:05, 17.09it/s]"
     ]
    },
    {
     "name": "stdout",
     "output_type": "stream",
     "text": [
      "Epoch: 1, Training Loss: 45.4678, Validation Loss: 10.5458\n",
      "ACCURACY:  tensor(0.9531)\n",
      "ACCURACY:  tensor(0.8906)\n",
      "ACCURACY:  tensor(0.9531)\n"
     ]
    },
    {
     "name": "stderr",
     "output_type": "stream",
     "text": [
      "  6%|▌         | 6/101 [00:00<00:05, 17.43it/s]"
     ]
    },
    {
     "name": "stdout",
     "output_type": "stream",
     "text": [
      "ACCURACY:  tensor(0.9531)\n",
      "ACCURACY:  tensor(0.8906)\n",
      "ACCURACY:  tensor(0.9219)\n",
      "ACCURACY:  tensor(0.9062)\n"
     ]
    },
    {
     "name": "stderr",
     "output_type": "stream",
     "text": [
      " 11%|█         | 11/101 [00:00<00:04, 18.31it/s]"
     ]
    },
    {
     "name": "stdout",
     "output_type": "stream",
     "text": [
      "ACCURACY:  tensor(0.9375)\n",
      "ACCURACY:  tensor(0.9531)\n",
      "ACCURACY:  tensor(0.8750)\n",
      "ACCURACY:  tensor(0.9375)\n",
      "ACCURACY:  tensor(0.9688)\n"
     ]
    },
    {
     "name": "stderr",
     "output_type": "stream",
     "text": [
      " 15%|█▍        | 15/101 [00:00<00:05, 16.75it/s]"
     ]
    },
    {
     "name": "stdout",
     "output_type": "stream",
     "text": [
      "ACCURACY:  tensor(0.9375)\n",
      "ACCURACY:  tensor(0.8906)\n",
      "ACCURACY:  tensor(0.8906)\n"
     ]
    },
    {
     "name": "stderr",
     "output_type": "stream",
     "text": [
      "\r",
      " 17%|█▋        | 17/101 [00:01<00:05, 14.47it/s]"
     ]
    },
    {
     "name": "stdout",
     "output_type": "stream",
     "text": [
      "ACCURACY:  tensor(0.8750)\n",
      "ACCURACY:  tensor(0.9531)\n",
      "ACCURACY:  tensor(0.9375)\n"
     ]
    },
    {
     "name": "stderr",
     "output_type": "stream",
     "text": [
      " 22%|██▏       | 22/101 [00:01<00:05, 15.29it/s]"
     ]
    },
    {
     "name": "stdout",
     "output_type": "stream",
     "text": [
      "ACCURACY:  tensor(0.8906)\n",
      "ACCURACY:  tensor(0.9219)\n",
      "ACCURACY:  tensor(0.9531)\n",
      "ACCURACY:  tensor(0.9375)\n"
     ]
    },
    {
     "name": "stderr",
     "output_type": "stream",
     "text": [
      "\r",
      " 24%|██▍       | 24/101 [00:01<00:05, 15.05it/s]"
     ]
    },
    {
     "name": "stdout",
     "output_type": "stream",
     "text": [
      "ACCURACY:  tensor(0.9531)\n",
      "ACCURACY:  tensor(0.9219)\n",
      "ACCURACY:  tensor(0.9531)\n"
     ]
    },
    {
     "name": "stderr",
     "output_type": "stream",
     "text": [
      " 28%|██▊       | 28/101 [00:01<00:04, 16.29it/s]"
     ]
    },
    {
     "name": "stdout",
     "output_type": "stream",
     "text": [
      "ACCURACY:  tensor(0.9062)\n",
      "ACCURACY:  tensor(0.9219)\n",
      "ACCURACY:  tensor(0.9688)\n",
      "ACCURACY:  tensor(0.8906)\n"
     ]
    },
    {
     "name": "stderr",
     "output_type": "stream",
     "text": [
      "\r",
      " 30%|██▉       | 30/101 [00:01<00:04, 17.14it/s]"
     ]
    },
    {
     "name": "stdout",
     "output_type": "stream",
     "text": [
      "ACCURACY:  tensor(0.9062)\n",
      "ACCURACY:  tensor(0.9688)\n",
      "ACCURACY:  tensor(0.9531)\n",
      "ACCURACY:  tensor(0.9375)\n"
     ]
    },
    {
     "name": "stderr",
     "output_type": "stream",
     "text": [
      " 35%|███▍      | 35/101 [00:02<00:03, 16.84it/s]"
     ]
    },
    {
     "name": "stdout",
     "output_type": "stream",
     "text": [
      "ACCURACY:  tensor(0.9531)\n",
      "ACCURACY:  tensor(0.9062)\n",
      "ACCURACY:  tensor(0.9219)\n",
      "ACCURACY:  tensor(0.9688)\n"
     ]
    },
    {
     "name": "stderr",
     "output_type": "stream",
     "text": [
      " 41%|████      | 41/101 [00:02<00:03, 17.82it/s]"
     ]
    },
    {
     "name": "stdout",
     "output_type": "stream",
     "text": [
      "ACCURACY:  tensor(0.9688)\n",
      "ACCURACY:  tensor(0.9062)\n",
      "ACCURACY:  tensor(0.9062)\n",
      "ACCURACY:  tensor(0.9219)\n"
     ]
    },
    {
     "name": "stderr",
     "output_type": "stream",
     "text": [
      "\r",
      " 43%|████▎     | 43/101 [00:02<00:03, 18.02it/s]"
     ]
    },
    {
     "name": "stdout",
     "output_type": "stream",
     "text": [
      "ACCURACY:  tensor(0.9531)\n",
      "ACCURACY:  tensor(0.8906)\n",
      "ACCURACY:  tensor(0.8750)\n",
      "ACCURACY:  tensor(0.9375)\n"
     ]
    },
    {
     "name": "stderr",
     "output_type": "stream",
     "text": [
      " 47%|████▋     | 47/101 [00:02<00:03, 14.70it/s]"
     ]
    },
    {
     "name": "stdout",
     "output_type": "stream",
     "text": [
      "ACCURACY:  tensor(0.9375)\n",
      "ACCURACY:  tensor(0.9688)\n",
      "ACCURACY:  tensor(0.9688)\n"
     ]
    },
    {
     "name": "stderr",
     "output_type": "stream",
     "text": [
      " 51%|█████▏    | 52/101 [00:03<00:03, 16.23it/s]"
     ]
    },
    {
     "name": "stdout",
     "output_type": "stream",
     "text": [
      "ACCURACY:  tensor(0.9375)\n",
      "ACCURACY:  tensor(0.9531)\n",
      "ACCURACY:  tensor(0.8906)\n",
      "ACCURACY:  tensor(0.9219)\n",
      "ACCURACY:  "
     ]
    },
    {
     "name": "stderr",
     "output_type": "stream",
     "text": [
      "\r",
      " 53%|█████▎    | 54/101 [00:03<00:02, 17.07it/s]"
     ]
    },
    {
     "name": "stdout",
     "output_type": "stream",
     "text": [
      "tensor(0.9688)\n",
      "ACCURACY:  tensor(0.9688)\n",
      "ACCURACY:  tensor(0.9375)\n",
      "ACCURACY:  tensor(0.9375)\n",
      "ACCURACY:  tensor(0.9062)\n"
     ]
    },
    {
     "name": "stderr",
     "output_type": "stream",
     "text": [
      " 58%|█████▊    | 59/101 [00:03<00:02, 18.42it/s]"
     ]
    },
    {
     "name": "stdout",
     "output_type": "stream",
     "text": [
      "ACCURACY:  tensor(0.9219)\n",
      "ACCURACY:  tensor(0.9688)\n",
      "ACCURACY:  tensor(0.9375)\n",
      "ACCURACY:  tensor(0.8750)\n",
      "ACCURACY:  tensor(0.9375)\n"
     ]
    },
    {
     "name": "stderr",
     "output_type": "stream",
     "text": [
      " 64%|██████▍   | 65/101 [00:03<00:01, 19.66it/s]"
     ]
    },
    {
     "name": "stdout",
     "output_type": "stream",
     "text": [
      "ACCURACY:  tensor(0.9375)\n",
      "ACCURACY:  tensor(0.8906)\n",
      "ACCURACY:  tensor(1.)\n",
      "ACCURACY:  tensor(0.9688)\n",
      "ACCURACY:  tensor(0.9531)\n"
     ]
    },
    {
     "name": "stderr",
     "output_type": "stream",
     "text": [
      " 70%|███████   | 71/101 [00:04<00:01, 18.83it/s]"
     ]
    },
    {
     "name": "stdout",
     "output_type": "stream",
     "text": [
      "ACCURACY:  tensor(0.9688)\n",
      "ACCURACY:  tensor(0.9688)\n",
      "ACCURACY:  tensor(0.9219)\n",
      "ACCURACY:  tensor(0.9688)\n"
     ]
    },
    {
     "name": "stderr",
     "output_type": "stream",
     "text": [
      "\r",
      " 72%|███████▏  | 73/101 [00:04<00:01, 18.47it/s]"
     ]
    },
    {
     "name": "stdout",
     "output_type": "stream",
     "text": [
      "ACCURACY:  tensor(0.9062)\n",
      "ACCURACY:  tensor(0.9375)\n",
      "ACCURACY:  tensor(0.9688)\n",
      "ACCURACY:  tensor(0.8906)\n",
      "ACCURACY:  tensor(0.9219)\n"
     ]
    },
    {
     "name": "stderr",
     "output_type": "stream",
     "text": [
      " 77%|███████▋  | 78/101 [00:04<00:01, 18.09it/s]"
     ]
    },
    {
     "name": "stdout",
     "output_type": "stream",
     "text": [
      "ACCURACY:  tensor(0.9375)\n",
      "ACCURACY:  tensor(0.9219)\n",
      "ACCURACY:  tensor(0.9531)\n",
      "ACCURACY:  tensor(0.9688)\n"
     ]
    },
    {
     "name": "stderr",
     "output_type": "stream",
     "text": [
      " 81%|████████  | 82/101 [00:04<00:01, 18.24it/s]"
     ]
    },
    {
     "name": "stdout",
     "output_type": "stream",
     "text": [
      "ACCURACY:  tensor(0.9688)\n",
      "ACCURACY:  tensor(0.9375)\n",
      "ACCURACY:  tensor(0.9688)\n",
      "ACCURACY:  tensor(0.8750)\n",
      "ACCURACY:  tensor(0.9688)\n"
     ]
    },
    {
     "name": "stderr",
     "output_type": "stream",
     "text": [
      " 86%|████████▌ | 87/101 [00:04<00:00, 17.92it/s]"
     ]
    },
    {
     "name": "stdout",
     "output_type": "stream",
     "text": [
      "ACCURACY:  tensor(0.9531)\n",
      "ACCURACY:  tensor(0.9375)\n",
      "ACCURACY:  tensor(0.9062)\n",
      "ACCURACY:  tensor(0.9531)\n"
     ]
    },
    {
     "name": "stderr",
     "output_type": "stream",
     "text": [
      " 90%|█████████ | 91/101 [00:05<00:00, 17.07it/s]"
     ]
    },
    {
     "name": "stdout",
     "output_type": "stream",
     "text": [
      "ACCURACY:  tensor(0.9219)\n",
      "ACCURACY:  tensor(0.9062)\n",
      "ACCURACY:  tensor(0.9219)\n",
      "ACCURACY:  tensor(0.9219)\n"
     ]
    },
    {
     "name": "stderr",
     "output_type": "stream",
     "text": [
      " 94%|█████████▍| 95/101 [00:05<00:00, 17.31it/s]"
     ]
    },
    {
     "name": "stdout",
     "output_type": "stream",
     "text": [
      "ACCURACY:  tensor(0.9531)\n",
      "ACCURACY:  tensor(0.9844)\n",
      "ACCURACY:  tensor(0.9688)\n",
      "ACCURACY:  tensor(0.9531)\n"
     ]
    },
    {
     "name": "stderr",
     "output_type": "stream",
     "text": [
      "100%|██████████| 101/101 [00:05<00:00, 17.59it/s]\n"
     ]
    },
    {
     "name": "stdout",
     "output_type": "stream",
     "text": [
      "ACCURACY:  tensor(0.9688)\n",
      "ACCURACY:  tensor(0.9375)\n",
      "ACCURACY:  tensor(0.9219)\n",
      "ACCURACY:  tensor(0.8929)\n",
      "EPOCH LOSS: \n",
      "  11.12906293231662\n"
     ]
    },
    {
     "name": "stderr",
     "output_type": "stream",
     "text": [
      "  2%|▏         | 2/101 [00:00<00:08, 11.35it/s]"
     ]
    },
    {
     "name": "stdout",
     "output_type": "stream",
     "text": [
      "Epoch: 2, Training Loss: 11.1291, Validation Loss: 10.4548\n",
      "ACCURACY:  tensor(0.9688)\n",
      "ACCURACY:  tensor(0.9219)\n"
     ]
    },
    {
     "name": "stderr",
     "output_type": "stream",
     "text": [
      "\r",
      "  4%|▍         | 4/101 [00:00<00:07, 12.46it/s]"
     ]
    },
    {
     "name": "stdout",
     "output_type": "stream",
     "text": [
      "ACCURACY:  tensor(0.9688)\n",
      "ACCURACY:  tensor(0.9688)\n",
      "ACCURACY:  tensor(0.9531)\n",
      "ACCURACY:  tensor(0.9688)\n"
     ]
    },
    {
     "name": "stderr",
     "output_type": "stream",
     "text": [
      "  8%|▊         | 8/101 [00:00<00:06, 14.28it/s]"
     ]
    },
    {
     "name": "stdout",
     "output_type": "stream",
     "text": [
      "ACCURACY:  tensor(0.9219)\n",
      "ACCURACY:  tensor(0.9688)\n",
      "ACCURACY:  tensor(0.9219)\n",
      "ACCURACY:  tensor(0.9844)\n"
     ]
    },
    {
     "name": "stderr",
     "output_type": "stream",
     "text": [
      " 13%|█▎        | 13/101 [00:00<00:05, 16.68it/s]"
     ]
    },
    {
     "name": "stdout",
     "output_type": "stream",
     "text": [
      "ACCURACY:  tensor(0.9531)\n",
      "ACCURACY:  tensor(0.9531)\n",
      "ACCURACY:  tensor(0.9062)\n",
      "ACCURACY:  tensor(0.9688)\n",
      "ACCURACY:  tensor(0.9844)\n"
     ]
    },
    {
     "name": "stderr",
     "output_type": "stream",
     "text": [
      " 18%|█▊        | 18/101 [00:01<00:04, 18.00it/s]"
     ]
    },
    {
     "name": "stdout",
     "output_type": "stream",
     "text": [
      "ACCURACY:  tensor(0.9844)\n",
      "ACCURACY:  tensor(0.9531)\n",
      "ACCURACY:  tensor(0.9688)\n",
      "ACCURACY:  tensor(0.9688)\n",
      "ACCURACY:  tensor(0.8906)\n"
     ]
    },
    {
     "name": "stderr",
     "output_type": "stream",
     "text": [
      " 23%|██▎       | 23/101 [00:01<00:04, 18.74it/s]"
     ]
    },
    {
     "name": "stdout",
     "output_type": "stream",
     "text": [
      "ACCURACY:  tensor(0.9062)\n",
      "ACCURACY:  tensor(0.9219)\n",
      "ACCURACY:  tensor(0.9844)\n",
      "ACCURACY:  tensor(1.)\n",
      "ACCURACY:  tensor(0.9688)\n"
     ]
    },
    {
     "name": "stderr",
     "output_type": "stream",
     "text": [
      " 27%|██▋       | 27/101 [00:01<00:04, 17.89it/s]"
     ]
    },
    {
     "name": "stdout",
     "output_type": "stream",
     "text": [
      "ACCURACY:  tensor(0.9375)\n",
      "ACCURACY:  tensor(0.9844)\n",
      "ACCURACY:  tensor(1.)\n",
      "ACCURACY:  tensor(0.9375)\n"
     ]
    },
    {
     "name": "stderr",
     "output_type": "stream",
     "text": [
      " 31%|███       | 31/101 [00:01<00:03, 17.73it/s]"
     ]
    },
    {
     "name": "stdout",
     "output_type": "stream",
     "text": [
      "ACCURACY:  tensor(0.9375)\n",
      "ACCURACY:  tensor(0.9844)\n",
      "ACCURACY:  tensor(0.9062)\n",
      "ACCURACY:  tensor(0.9688)\n"
     ]
    },
    {
     "name": "stderr",
     "output_type": "stream",
     "text": [
      "\r",
      " 34%|███▎      | 34/101 [00:01<00:03, 17.52it/s]"
     ]
    },
    {
     "name": "stdout",
     "output_type": "stream",
     "text": [
      "ACCURACY:  tensor(0.9062)\n",
      "ACCURACY:  tensor(0.9531)\n",
      "ACCURACY:  tensor(1.)\n",
      "ACCURACY:  tensor(0.9219)\n"
     ]
    },
    {
     "name": "stderr",
     "output_type": "stream",
     "text": [
      " 40%|███▉      | 40/101 [00:02<00:03, 19.11it/s]"
     ]
    },
    {
     "name": "stdout",
     "output_type": "stream",
     "text": [
      "ACCURACY:  tensor(0.9531)\n",
      "ACCURACY:  tensor(0.9219)\n",
      "ACCURACY:  tensor(0.9219)\n",
      "ACCURACY:  tensor(0.9531)\n",
      "ACCURACY:  tensor(0.9844)\n"
     ]
    },
    {
     "name": "stderr",
     "output_type": "stream",
     "text": [
      " 45%|████▍     | 45/101 [00:02<00:03, 18.54it/s]"
     ]
    },
    {
     "name": "stdout",
     "output_type": "stream",
     "text": [
      "ACCURACY:  tensor(0.9375)\n",
      "ACCURACY:  tensor(0.9688)\n",
      "ACCURACY:  tensor(0.8906)\n",
      "ACCURACY:  tensor(1.)\n"
     ]
    },
    {
     "name": "stderr",
     "output_type": "stream",
     "text": [
      " 49%|████▊     | 49/101 [00:02<00:03, 16.00it/s]"
     ]
    },
    {
     "name": "stdout",
     "output_type": "stream",
     "text": [
      "ACCURACY:  tensor(0.9062)\n",
      "ACCURACY:  tensor(0.9219)\n",
      "ACCURACY:  tensor(0.8906)\n"
     ]
    },
    {
     "name": "stderr",
     "output_type": "stream",
     "text": [
      "\r",
      " 50%|█████     | 51/101 [00:02<00:03, 16.49it/s]"
     ]
    },
    {
     "name": "stdout",
     "output_type": "stream",
     "text": [
      "ACCURACY:  tensor(0.9531)\n",
      "ACCURACY:  tensor(0.9375)\n",
      "ACCURACY:  tensor(0.9375)\n",
      "ACCURACY:  tensor(0.9688)\n"
     ]
    },
    {
     "name": "stderr",
     "output_type": "stream",
     "text": [
      " 56%|█████▋    | 57/101 [00:03<00:02, 17.12it/s]"
     ]
    },
    {
     "name": "stdout",
     "output_type": "stream",
     "text": [
      "ACCURACY:  tensor(0.9688)\n",
      "ACCURACY:  tensor(0.9531)\n",
      "ACCURACY:  tensor(0.9531)\n",
      "ACCURACY:  tensor(0.9375)\n"
     ]
    },
    {
     "name": "stderr",
     "output_type": "stream",
     "text": [
      "\r",
      " 58%|█████▊    | 59/101 [00:03<00:02, 16.11it/s]"
     ]
    },
    {
     "name": "stdout",
     "output_type": "stream",
     "text": [
      "ACCURACY:  tensor(0.9844)\n",
      "ACCURACY:  tensor(0.9531)\n",
      "ACCURACY:  tensor(0.9531)\n",
      "ACCURACY:  tensor(0.9844)\n"
     ]
    },
    {
     "name": "stderr",
     "output_type": "stream",
     "text": [
      " 62%|██████▏   | 63/101 [00:03<00:02, 16.09it/s]"
     ]
    },
    {
     "name": "stdout",
     "output_type": "stream",
     "text": [
      "ACCURACY:  tensor(1.)\n",
      "ACCURACY:  tensor(0.8906)\n",
      "ACCURACY:  tensor(0.9688)\n",
      "ACCURACY:  tensor(0.9375)\n"
     ]
    },
    {
     "name": "stderr",
     "output_type": "stream",
     "text": [
      " 67%|██████▋   | 68/101 [00:03<00:01, 17.08it/s]"
     ]
    },
    {
     "name": "stdout",
     "output_type": "stream",
     "text": [
      "ACCURACY:  tensor(0.9219)\n",
      "ACCURACY:  tensor(0.9219)\n",
      "ACCURACY:  tensor(0.8906)\n",
      "ACCURACY:  tensor(0.9375)\n"
     ]
    },
    {
     "name": "stderr",
     "output_type": "stream",
     "text": [
      " 71%|███████▏  | 72/101 [00:04<00:01, 17.99it/s]"
     ]
    },
    {
     "name": "stdout",
     "output_type": "stream",
     "text": [
      "ACCURACY:  tensor(0.9688)\n",
      "ACCURACY:  tensor(1.)\n",
      "ACCURACY:  tensor(0.9688)\n",
      "ACCURACY:  tensor(0.9688)\n"
     ]
    },
    {
     "name": "stderr",
     "output_type": "stream",
     "text": [
      " 76%|███████▌  | 77/101 [00:04<00:01, 18.40it/s]"
     ]
    },
    {
     "name": "stdout",
     "output_type": "stream",
     "text": [
      "ACCURACY:  tensor(0.9688)\n",
      "ACCURACY:  tensor(1.)\n",
      "ACCURACY:  tensor(0.9688)\n",
      "ACCURACY:  tensor(0.9531)\n"
     ]
    },
    {
     "name": "stderr",
     "output_type": "stream",
     "text": [
      "\r",
      " 78%|███████▊  | 79/101 [00:04<00:01, 16.65it/s]"
     ]
    },
    {
     "name": "stdout",
     "output_type": "stream",
     "text": [
      "ACCURACY:  tensor(0.9531)\n",
      "ACCURACY:  tensor(0.9531)\n",
      "ACCURACY:  tensor(0.9062)\n"
     ]
    },
    {
     "name": "stderr",
     "output_type": "stream",
     "text": [
      "\r",
      " 80%|████████  | 81/101 [00:04<00:01, 15.24it/s]"
     ]
    },
    {
     "name": "stdout",
     "output_type": "stream",
     "text": [
      "ACCURACY:  tensor(0.9219)\n",
      "ACCURACY:  tensor(0.9844)\n",
      "ACCURACY:  tensor(0.9375)\n"
     ]
    },
    {
     "name": "stderr",
     "output_type": "stream",
     "text": [
      " 84%|████████▍ | 85/101 [00:05<00:01, 13.67it/s]"
     ]
    },
    {
     "name": "stdout",
     "output_type": "stream",
     "text": [
      "ACCURACY:  tensor(0.9062)\n",
      "ACCURACY:  tensor(0.9375)\n",
      "ACCURACY:  tensor(0.9531)\n"
     ]
    },
    {
     "name": "stderr",
     "output_type": "stream",
     "text": [
      "\r",
      " 86%|████████▌ | 87/101 [00:05<00:01, 12.86it/s]"
     ]
    },
    {
     "name": "stdout",
     "output_type": "stream",
     "text": [
      "ACCURACY:  tensor(0.9844)\n",
      "ACCURACY:  tensor(0.9844)\n",
      "ACCURACY:  tensor(0.9688)\n"
     ]
    },
    {
     "name": "stderr",
     "output_type": "stream",
     "text": [
      " 90%|█████████ | 91/101 [00:05<00:00, 13.05it/s]"
     ]
    },
    {
     "name": "stdout",
     "output_type": "stream",
     "text": [
      "ACCURACY:  tensor(0.9688)\n",
      "ACCURACY:  tensor(0.9688)\n",
      "ACCURACY:  tensor(0.9844)\n"
     ]
    },
    {
     "name": "stderr",
     "output_type": "stream",
     "text": [
      "\r",
      " 92%|█████████▏| 93/101 [00:05<00:00, 11.67it/s]"
     ]
    },
    {
     "name": "stdout",
     "output_type": "stream",
     "text": [
      "ACCURACY:  tensor(0.9531)\n",
      "ACCURACY:  tensor(0.9531)\n"
     ]
    },
    {
     "name": "stderr",
     "output_type": "stream",
     "text": [
      "\r",
      " 94%|█████████▍| 95/101 [00:05<00:00, 11.53it/s]"
     ]
    },
    {
     "name": "stdout",
     "output_type": "stream",
     "text": [
      "ACCURACY:  tensor(0.9688)\n",
      "ACCURACY:  tensor(0.9531)\n",
      "ACCURACY:  tensor(0.9062)\n"
     ]
    },
    {
     "name": "stderr",
     "output_type": "stream",
     "text": [
      " 98%|█████████▊| 99/101 [00:06<00:00, 12.21it/s]"
     ]
    },
    {
     "name": "stdout",
     "output_type": "stream",
     "text": [
      "ACCURACY:  tensor(0.9688)\n",
      "ACCURACY:  tensor(0.8750)\n",
      "ACCURACY:  tensor(0.9062)\n",
      "ACCURACY:  tensor(0.8929)\n"
     ]
    },
    {
     "name": "stderr",
     "output_type": "stream",
     "text": [
      "100%|██████████| 101/101 [00:06<00:00, 16.02it/s]\n"
     ]
    },
    {
     "name": "stdout",
     "output_type": "stream",
     "text": [
      "EPOCH LOSS: \n",
      "  8.55303390899507\n"
     ]
    },
    {
     "name": "stderr",
     "output_type": "stream",
     "text": [
      "  2%|▏         | 2/101 [00:00<00:07, 12.92it/s]"
     ]
    },
    {
     "name": "stdout",
     "output_type": "stream",
     "text": [
      "Epoch: 3, Training Loss: 8.5530, Validation Loss: 7.2105\n",
      "ACCURACY:  tensor(0.9219)\n",
      "ACCURACY:  tensor(0.9531)\n",
      "ACCURACY:  tensor(0.9531)\n"
     ]
    },
    {
     "name": "stderr",
     "output_type": "stream",
     "text": [
      "  5%|▍         | 5/101 [00:00<00:08, 11.07it/s]"
     ]
    },
    {
     "name": "stdout",
     "output_type": "stream",
     "text": [
      "ACCURACY:  tensor(0.9531)\n",
      "ACCURACY:  tensor(0.9219)\n"
     ]
    },
    {
     "name": "stderr",
     "output_type": "stream",
     "text": [
      "\r",
      "  7%|▋         | 7/101 [00:00<00:07, 12.24it/s]"
     ]
    },
    {
     "name": "stdout",
     "output_type": "stream",
     "text": [
      "ACCURACY:  tensor(0.9531)\n",
      "ACCURACY:  tensor(0.9375)\n",
      "ACCURACY:  tensor(0.9688)\n",
      "ACCURACY:  tensor(0.9688)\n"
     ]
    },
    {
     "name": "stderr",
     "output_type": "stream",
     "text": [
      " 11%|█         | 11/101 [00:00<00:06, 14.83it/s]"
     ]
    },
    {
     "name": "stdout",
     "output_type": "stream",
     "text": [
      "ACCURACY:  tensor(0.9688)\n",
      "ACCURACY:  tensor(0.9375)\n",
      "ACCURACY:  tensor(0.9531)\n",
      "ACCURACY:  tensor(0.9219)\n"
     ]
    },
    {
     "name": "stderr",
     "output_type": "stream",
     "text": [
      " 15%|█▍        | 15/101 [00:01<00:06, 13.58it/s]"
     ]
    },
    {
     "name": "stdout",
     "output_type": "stream",
     "text": [
      "ACCURACY:  tensor(0.9688)\n",
      "ACCURACY:  tensor(0.9688)\n",
      "ACCURACY:  tensor(0.9688)\n"
     ]
    },
    {
     "name": "stderr",
     "output_type": "stream",
     "text": [
      "\r",
      " 17%|█▋        | 17/101 [00:01<00:06, 12.98it/s]"
     ]
    },
    {
     "name": "stdout",
     "output_type": "stream",
     "text": [
      "ACCURACY:  tensor(0.9531)\n",
      "ACCURACY:  tensor(0.9531)\n",
      "ACCURACY:  tensor(0.9531)\n"
     ]
    },
    {
     "name": "stderr",
     "output_type": "stream",
     "text": [
      " 21%|██        | 21/101 [00:01<00:05, 13.41it/s]"
     ]
    },
    {
     "name": "stdout",
     "output_type": "stream",
     "text": [
      "ACCURACY:  tensor(0.9531)\n",
      "ACCURACY:  tensor(0.9531)\n",
      "ACCURACY:  tensor(0.9688)\n",
      "ACCURACY:  tensor(0.9844)\n"
     ]
    },
    {
     "name": "stderr",
     "output_type": "stream",
     "text": [
      " 25%|██▍       | 25/101 [00:01<00:05, 14.88it/s]"
     ]
    },
    {
     "name": "stdout",
     "output_type": "stream",
     "text": [
      "ACCURACY:  tensor(0.9688)\n",
      "ACCURACY:  tensor(0.9375)\n",
      "ACCURACY:  tensor(0.9219)\n"
     ]
    },
    {
     "name": "stderr",
     "output_type": "stream",
     "text": [
      "\r",
      " 27%|██▋       | 27/101 [00:01<00:05, 14.34it/s]"
     ]
    },
    {
     "name": "stdout",
     "output_type": "stream",
     "text": [
      "ACCURACY:  tensor(0.9531)\n",
      "ACCURACY:  tensor(0.9844)\n",
      "ACCURACY:  tensor(0.9531)\n"
     ]
    },
    {
     "name": "stderr",
     "output_type": "stream",
     "text": [
      " 31%|███       | 31/101 [00:02<00:05, 13.52it/s]"
     ]
    },
    {
     "name": "stdout",
     "output_type": "stream",
     "text": [
      "ACCURACY:  tensor(0.9531)\n",
      "ACCURACY:  tensor(0.9531)\n",
      "ACCURACY:  tensor(0.9688)\n",
      "ACCURACY:  tensor(0.9531)\n"
     ]
    },
    {
     "name": "stderr",
     "output_type": "stream",
     "text": [
      " 35%|███▍      | 35/101 [00:02<00:04, 14.41it/s]"
     ]
    },
    {
     "name": "stdout",
     "output_type": "stream",
     "text": [
      "ACCURACY:  tensor(0.9531)\n",
      "ACCURACY:  tensor(0.9688)\n",
      "ACCURACY:  tensor(0.9688)\n"
     ]
    },
    {
     "name": "stderr",
     "output_type": "stream",
     "text": [
      " 39%|███▊      | 39/101 [00:02<00:04, 13.10it/s]"
     ]
    },
    {
     "name": "stdout",
     "output_type": "stream",
     "text": [
      "ACCURACY:  tensor(0.9688)\n",
      "ACCURACY:  tensor(0.9688)\n",
      "ACCURACY:  tensor(0.9219)\n"
     ]
    },
    {
     "name": "stderr",
     "output_type": "stream",
     "text": [
      "\r",
      " 41%|████      | 41/101 [00:03<00:04, 13.34it/s]"
     ]
    },
    {
     "name": "stdout",
     "output_type": "stream",
     "text": [
      "ACCURACY:  tensor(0.9844)\n",
      "ACCURACY:  tensor(0.9531)\n",
      "ACCURACY:  tensor(1.)\n"
     ]
    },
    {
     "name": "stderr",
     "output_type": "stream",
     "text": [
      " 45%|████▍     | 45/101 [00:03<00:03, 14.45it/s]"
     ]
    },
    {
     "name": "stdout",
     "output_type": "stream",
     "text": [
      "ACCURACY:  tensor(0.9531)\n",
      "ACCURACY:  tensor(0.9062)\n",
      "ACCURACY:  tensor(0.9688)\n",
      "ACCURACY:  tensor(0.9531)\n"
     ]
    },
    {
     "name": "stderr",
     "output_type": "stream",
     "text": [
      " 49%|████▊     | 49/101 [00:03<00:03, 14.95it/s]"
     ]
    },
    {
     "name": "stdout",
     "output_type": "stream",
     "text": [
      "ACCURACY:  tensor(0.9375)\n",
      "ACCURACY:  tensor(0.9844)\n",
      "ACCURACY:  tensor(0.9688)\n",
      "ACCURACY:  tensor(0.9531)\n"
     ]
    },
    {
     "name": "stderr",
     "output_type": "stream",
     "text": [
      " 52%|█████▏    | 53/101 [00:03<00:03, 14.80it/s]"
     ]
    },
    {
     "name": "stdout",
     "output_type": "stream",
     "text": [
      "ACCURACY:  tensor(1.)\n",
      "ACCURACY:  tensor(1.)\n",
      "ACCURACY:  tensor(0.9688)\n"
     ]
    },
    {
     "name": "stderr",
     "output_type": "stream",
     "text": [
      "\r",
      " 54%|█████▍    | 55/101 [00:03<00:03, 14.13it/s]"
     ]
    },
    {
     "name": "stdout",
     "output_type": "stream",
     "text": [
      "ACCURACY:  tensor(0.9375)\n",
      "ACCURACY:  tensor(0.9844)\n",
      "ACCURACY:  tensor(0.9531)\n"
     ]
    },
    {
     "name": "stderr",
     "output_type": "stream",
     "text": [
      "\r",
      " 56%|█████▋    | 57/101 [00:04<00:03, 13.97it/s]"
     ]
    },
    {
     "name": "stdout",
     "output_type": "stream",
     "text": [
      "ACCURACY:  tensor(0.9531)\n",
      "ACCURACY:  tensor(0.9688)\n",
      "ACCURACY:  tensor(0.9844)\n"
     ]
    },
    {
     "name": "stderr",
     "output_type": "stream",
     "text": [
      " 60%|██████    | 61/101 [00:04<00:03, 12.42it/s]"
     ]
    },
    {
     "name": "stdout",
     "output_type": "stream",
     "text": [
      "ACCURACY:  tensor(0.9688)\n",
      "ACCURACY:  tensor(0.8906)\n",
      "ACCURACY:  tensor(0.9531)\n"
     ]
    },
    {
     "name": "stderr",
     "output_type": "stream",
     "text": [
      " 64%|██████▍   | 65/101 [00:04<00:02, 13.04it/s]"
     ]
    },
    {
     "name": "stdout",
     "output_type": "stream",
     "text": [
      "ACCURACY:  tensor(0.9219)\n",
      "ACCURACY:  tensor(0.9531)\n",
      "ACCURACY:  tensor(0.9531)\n"
     ]
    },
    {
     "name": "stderr",
     "output_type": "stream",
     "text": [
      "\r",
      " 66%|██████▋   | 67/101 [00:04<00:02, 12.99it/s]"
     ]
    },
    {
     "name": "stdout",
     "output_type": "stream",
     "text": [
      "ACCURACY:  tensor(0.9375)\n",
      "ACCURACY:  tensor(0.9688)\n",
      "ACCURACY:  tensor(0.9531)\n"
     ]
    },
    {
     "name": "stderr",
     "output_type": "stream",
     "text": [
      " 70%|███████   | 71/101 [00:05<00:02, 14.20it/s]"
     ]
    },
    {
     "name": "stdout",
     "output_type": "stream",
     "text": [
      "ACCURACY:  tensor(1.)\n",
      "ACCURACY:  tensor(0.9844)\n",
      "ACCURACY:  tensor(1.)\n",
      "ACCURACY:  tensor(0.9844)\n"
     ]
    },
    {
     "name": "stderr",
     "output_type": "stream",
     "text": [
      " 74%|███████▍  | 75/101 [00:05<00:01, 14.81it/s]"
     ]
    },
    {
     "name": "stdout",
     "output_type": "stream",
     "text": [
      "ACCURACY:  tensor(0.9531)\n",
      "ACCURACY:  tensor(0.9844)\n",
      "ACCURACY:  tensor(0.9688)\n",
      "ACCURACY:  tensor(0.9688)\n"
     ]
    },
    {
     "name": "stderr",
     "output_type": "stream",
     "text": [
      " 78%|███████▊  | 79/101 [00:05<00:01, 15.45it/s]"
     ]
    },
    {
     "name": "stdout",
     "output_type": "stream",
     "text": [
      "ACCURACY:  tensor(0.9844)\n",
      "ACCURACY:  tensor(0.9531)\n",
      "ACCURACY:  tensor(0.9219)\n",
      "ACCURACY:  tensor(0.9688)\n"
     ]
    },
    {
     "name": "stderr",
     "output_type": "stream",
     "text": [
      " 82%|████████▏ | 83/101 [00:05<00:01, 15.23it/s]"
     ]
    },
    {
     "name": "stdout",
     "output_type": "stream",
     "text": [
      "ACCURACY:  tensor(1.)\n",
      "ACCURACY:  tensor(0.9844)\n",
      "ACCURACY:  tensor(0.9531)\n"
     ]
    },
    {
     "name": "stderr",
     "output_type": "stream",
     "text": [
      "\r",
      " 84%|████████▍ | 85/101 [00:06<00:01, 14.41it/s]"
     ]
    },
    {
     "name": "stdout",
     "output_type": "stream",
     "text": [
      "ACCURACY:  tensor(0.9844)\n",
      "ACCURACY:  tensor(0.9688)\n",
      "ACCURACY:  tensor(0.9531)\n"
     ]
    },
    {
     "name": "stderr",
     "output_type": "stream",
     "text": [
      "\r",
      " 86%|████████▌ | 87/101 [00:06<00:01, 13.23it/s]"
     ]
    },
    {
     "name": "stdout",
     "output_type": "stream",
     "text": [
      "ACCURACY:  tensor(0.9688)\n",
      "ACCURACY:  tensor(0.9688)\n",
      "ACCURACY:  tensor(0.9531)\n"
     ]
    },
    {
     "name": "stderr",
     "output_type": "stream",
     "text": [
      " 90%|█████████ | 91/101 [00:06<00:00, 13.97it/s]"
     ]
    },
    {
     "name": "stdout",
     "output_type": "stream",
     "text": [
      "ACCURACY:  tensor(0.9688)\n",
      "ACCURACY:  tensor(0.9844)\n",
      "ACCURACY:  tensor(0.9688)\n",
      "ACCURACY:  "
     ]
    },
    {
     "name": "stderr",
     "output_type": "stream",
     "text": [
      "\r",
      " 92%|█████████▏| 93/101 [00:06<00:00, 14.22it/s]"
     ]
    },
    {
     "name": "stdout",
     "output_type": "stream",
     "text": [
      "tensor(0.9688)\n",
      "ACCURACY:  tensor(0.9688)\n"
     ]
    },
    {
     "name": "stderr",
     "output_type": "stream",
     "text": [
      " 96%|█████████▌| 97/101 [00:07<00:00, 13.12it/s]"
     ]
    },
    {
     "name": "stdout",
     "output_type": "stream",
     "text": [
      "ACCURACY:  tensor(0.9219)\n",
      "ACCURACY:  tensor(0.9375)\n",
      "ACCURACY:  tensor(0.9688)\n"
     ]
    },
    {
     "name": "stderr",
     "output_type": "stream",
     "text": [
      "\r",
      " 98%|█████████▊| 99/101 [00:07<00:00, 12.54it/s]"
     ]
    },
    {
     "name": "stdout",
     "output_type": "stream",
     "text": [
      "ACCURACY:  tensor(0.9688)\n",
      "ACCURACY:  tensor(1.)\n",
      "ACCURACY:  tensor(0.9688)\n"
     ]
    },
    {
     "name": "stderr",
     "output_type": "stream",
     "text": [
      "100%|██████████| 101/101 [00:07<00:00, 13.82it/s]\n"
     ]
    },
    {
     "name": "stdout",
     "output_type": "stream",
     "text": [
      "ACCURACY:  tensor(1.)\n",
      "EPOCH LOSS: \n",
      "  7.316796155406697\n"
     ]
    },
    {
     "name": "stderr",
     "output_type": "stream",
     "text": [
      "  2%|▏         | 2/101 [00:00<00:07, 12.38it/s]"
     ]
    },
    {
     "name": "stdout",
     "output_type": "stream",
     "text": [
      "Epoch: 4, Training Loss: 7.3168, Validation Loss: 6.3619\n",
      "ACCURACY:  tensor(0.9375)\n",
      "ACCURACY:  tensor(0.9844)\n",
      "ACCURACY:  tensor(0.9688)\n"
     ]
    },
    {
     "name": "stderr",
     "output_type": "stream",
     "text": [
      "  6%|▌         | 6/101 [00:00<00:07, 13.04it/s]"
     ]
    },
    {
     "name": "stdout",
     "output_type": "stream",
     "text": [
      "ACCURACY:  tensor(0.9844)\n",
      "ACCURACY:  tensor(0.9688)\n",
      "ACCURACY:  tensor(0.9688)\n"
     ]
    },
    {
     "name": "stderr",
     "output_type": "stream",
     "text": [
      "\r",
      "  8%|▊         | 8/101 [00:00<00:07, 13.05it/s]"
     ]
    },
    {
     "name": "stdout",
     "output_type": "stream",
     "text": [
      "ACCURACY:  tensor(0.9688)\n",
      "ACCURACY:  tensor(0.9062)\n",
      "ACCURACY:  tensor(0.9531)\n"
     ]
    },
    {
     "name": "stderr",
     "output_type": "stream",
     "text": [
      "\r",
      " 10%|▉         | 10/101 [00:00<00:06, 13.25it/s]"
     ]
    },
    {
     "name": "stdout",
     "output_type": "stream",
     "text": [
      "ACCURACY:  tensor(0.9688)\n",
      "ACCURACY:  tensor(0.9375)\n",
      "ACCURACY:  tensor(1.)\n"
     ]
    },
    {
     "name": "stderr",
     "output_type": "stream",
     "text": [
      " 14%|█▍        | 14/101 [00:01<00:06, 14.21it/s]"
     ]
    },
    {
     "name": "stdout",
     "output_type": "stream",
     "text": [
      "ACCURACY:  tensor(0.9844)\n",
      "ACCURACY:  tensor(0.9531)\n",
      "ACCURACY:  tensor(0.9688)\n"
     ]
    },
    {
     "name": "stderr",
     "output_type": "stream",
     "text": [
      " 18%|█▊        | 18/101 [00:01<00:05, 14.32it/s]"
     ]
    },
    {
     "name": "stdout",
     "output_type": "stream",
     "text": [
      "ACCURACY:  tensor(1.)\n",
      "ACCURACY:  tensor(0.9688)\n",
      "ACCURACY:  tensor(0.9844)\n",
      "ACCURACY:  tensor(0.9688)\n"
     ]
    },
    {
     "name": "stderr",
     "output_type": "stream",
     "text": [
      " 22%|██▏       | 22/101 [00:01<00:05, 14.49it/s]"
     ]
    },
    {
     "name": "stdout",
     "output_type": "stream",
     "text": [
      "ACCURACY:  tensor(0.9219)\n",
      "ACCURACY:  tensor(0.9844)\n",
      "ACCURACY:  tensor(0.9844)\n",
      "ACCURACY:  tensor(0.9688)\n"
     ]
    },
    {
     "name": "stderr",
     "output_type": "stream",
     "text": [
      " 26%|██▌       | 26/101 [00:01<00:05, 14.22it/s]"
     ]
    },
    {
     "name": "stdout",
     "output_type": "stream",
     "text": [
      "ACCURACY:  tensor(0.9688)\n",
      "ACCURACY:  tensor(1.)\n",
      "ACCURACY:  tensor(0.9531)\n"
     ]
    },
    {
     "name": "stderr",
     "output_type": "stream",
     "text": [
      "\r",
      " 28%|██▊       | 28/101 [00:02<00:05, 14.21it/s]"
     ]
    },
    {
     "name": "stdout",
     "output_type": "stream",
     "text": [
      "ACCURACY:  tensor(0.9531)\n",
      "ACCURACY:  tensor(0.9531)\n",
      "ACCURACY:  tensor(0.9531)\n"
     ]
    },
    {
     "name": "stderr",
     "output_type": "stream",
     "text": [
      " 32%|███▏      | 32/101 [00:02<00:04, 14.95it/s]"
     ]
    },
    {
     "name": "stdout",
     "output_type": "stream",
     "text": [
      "ACCURACY:  tensor(1.)\n",
      "ACCURACY:  tensor(0.9844)\n",
      "ACCURACY:  tensor(0.9375)\n",
      "ACCURACY:  tensor(0.9844)\n"
     ]
    },
    {
     "name": "stderr",
     "output_type": "stream",
     "text": [
      " 36%|███▌      | 36/101 [00:02<00:04, 14.78it/s]"
     ]
    },
    {
     "name": "stdout",
     "output_type": "stream",
     "text": [
      "ACCURACY:  tensor(0.9531)\n",
      "ACCURACY:  tensor(0.9219)\n",
      "ACCURACY:  tensor(0.9844)\n"
     ]
    },
    {
     "name": "stderr",
     "output_type": "stream",
     "text": [
      "\r",
      " 38%|███▊      | 38/101 [00:02<00:04, 14.21it/s]"
     ]
    },
    {
     "name": "stdout",
     "output_type": "stream",
     "text": [
      "ACCURACY:  tensor(0.9375)\n",
      "ACCURACY:  tensor(0.9844)\n",
      "ACCURACY:  tensor(0.9844)\n"
     ]
    },
    {
     "name": "stderr",
     "output_type": "stream",
     "text": [
      " 42%|████▏     | 42/101 [00:02<00:03, 14.77it/s]"
     ]
    },
    {
     "name": "stdout",
     "output_type": "stream",
     "text": [
      "ACCURACY:  tensor(0.9688)\n",
      "ACCURACY:  tensor(0.9844)\n",
      "ACCURACY:  tensor(0.9844)\n",
      "ACCURACY:  tensor(0.9844)\n"
     ]
    },
    {
     "name": "stderr",
     "output_type": "stream",
     "text": [
      "\r",
      " 44%|████▎     | 44/101 [00:03<00:03, 14.31it/s]"
     ]
    },
    {
     "name": "stdout",
     "output_type": "stream",
     "text": [
      "ACCURACY:  tensor(0.9375)\n",
      "ACCURACY:  tensor(0.9531)\n",
      "ACCURACY:  tensor(0.9531)\n"
     ]
    },
    {
     "name": "stderr",
     "output_type": "stream",
     "text": [
      " 48%|████▊     | 48/101 [00:03<00:04, 11.42it/s]"
     ]
    },
    {
     "name": "stdout",
     "output_type": "stream",
     "text": [
      "ACCURACY:  tensor(0.9688)\n",
      "ACCURACY:  tensor(0.9531)\n",
      "ACCURACY:  tensor(0.9219)\n"
     ]
    },
    {
     "name": "stderr",
     "output_type": "stream",
     "text": [
      "\r",
      " 50%|████▉     | 50/101 [00:03<00:04, 10.88it/s]"
     ]
    },
    {
     "name": "stdout",
     "output_type": "stream",
     "text": [
      "ACCURACY:  tensor(0.9219)\n",
      "ACCURACY:  tensor(0.9844)\n",
      "ACCURACY:  tensor(0.9844)\n"
     ]
    },
    {
     "name": "stderr",
     "output_type": "stream",
     "text": [
      " 53%|█████▎    | 54/101 [00:04<00:03, 11.99it/s]"
     ]
    },
    {
     "name": "stdout",
     "output_type": "stream",
     "text": [
      "ACCURACY:  tensor(0.9844)\n",
      "ACCURACY:  tensor(0.9375)\n",
      "ACCURACY:  tensor(0.9688)\n"
     ]
    },
    {
     "name": "stderr",
     "output_type": "stream",
     "text": [
      "\r",
      " 55%|█████▌    | 56/101 [00:04<00:03, 12.32it/s]"
     ]
    },
    {
     "name": "stdout",
     "output_type": "stream",
     "text": [
      "ACCURACY:  tensor(0.9531)\n",
      "ACCURACY:  tensor(0.9844)\n",
      "ACCURACY:  tensor(0.9688)\n"
     ]
    },
    {
     "name": "stderr",
     "output_type": "stream",
     "text": [
      " 59%|█████▉    | 60/101 [00:04<00:03, 12.77it/s]"
     ]
    },
    {
     "name": "stdout",
     "output_type": "stream",
     "text": [
      "ACCURACY:  tensor(0.9531)\n",
      "ACCURACY:  tensor(1.)\n",
      "ACCURACY:  tensor(0.9844)\n"
     ]
    },
    {
     "name": "stderr",
     "output_type": "stream",
     "text": [
      " 63%|██████▎   | 64/101 [00:04<00:02, 13.59it/s]"
     ]
    },
    {
     "name": "stdout",
     "output_type": "stream",
     "text": [
      "ACCURACY:  tensor(0.9688)\n",
      "ACCURACY:  tensor(0.9844)\n",
      "ACCURACY:  tensor(0.9844)\n",
      "ACCURACY:  "
     ]
    },
    {
     "name": "stderr",
     "output_type": "stream",
     "text": [
      "\r",
      " 65%|██████▌   | 66/101 [00:04<00:02, 13.20it/s]"
     ]
    },
    {
     "name": "stdout",
     "output_type": "stream",
     "text": [
      "tensor(0.9531)\n",
      "ACCURACY:  tensor(0.9688)\n",
      "ACCURACY:  tensor(0.9688)\n"
     ]
    },
    {
     "name": "stderr",
     "output_type": "stream",
     "text": [
      "\r",
      " 67%|██████▋   | 68/101 [00:05<00:02, 12.40it/s]"
     ]
    },
    {
     "name": "stdout",
     "output_type": "stream",
     "text": [
      "ACCURACY:  tensor(0.9219)\n",
      "ACCURACY:  tensor(0.9531)\n",
      "ACCURACY:  tensor(0.9688)\n"
     ]
    },
    {
     "name": "stderr",
     "output_type": "stream",
     "text": [
      " 71%|███████▏  | 72/101 [00:05<00:02, 13.85it/s]"
     ]
    },
    {
     "name": "stdout",
     "output_type": "stream",
     "text": [
      "ACCURACY:  tensor(0.9688)\n",
      "ACCURACY:  tensor(0.9688)\n",
      "ACCURACY:  tensor(0.9531)\n",
      "ACCURACY:  tensor(0.9844)\n"
     ]
    },
    {
     "name": "stderr",
     "output_type": "stream",
     "text": [
      " 75%|███████▌  | 76/101 [00:05<00:01, 14.05it/s]"
     ]
    },
    {
     "name": "stdout",
     "output_type": "stream",
     "text": [
      "ACCURACY:  tensor(0.9844)\n",
      "ACCURACY:  tensor(0.9531)\n",
      "ACCURACY:  tensor(0.9531)\n"
     ]
    },
    {
     "name": "stderr",
     "output_type": "stream",
     "text": [
      " 79%|███████▉  | 80/101 [00:05<00:01, 14.86it/s]"
     ]
    },
    {
     "name": "stdout",
     "output_type": "stream",
     "text": [
      "ACCURACY:  tensor(0.9062)\n",
      "ACCURACY:  tensor(0.9844)\n",
      "ACCURACY:  tensor(0.9531)\n",
      "ACCURACY:  tensor(0.9688)\n"
     ]
    },
    {
     "name": "stderr",
     "output_type": "stream",
     "text": [
      "\r",
      " 81%|████████  | 82/101 [00:06<00:01, 14.88it/s]"
     ]
    },
    {
     "name": "stdout",
     "output_type": "stream",
     "text": [
      "ACCURACY:  tensor(0.9688)\n",
      "ACCURACY:  tensor(0.9844)\n",
      "ACCURACY:  tensor(0.9688)\n"
     ]
    },
    {
     "name": "stderr",
     "output_type": "stream",
     "text": [
      " 85%|████████▌ | 86/101 [00:06<00:01, 12.84it/s]"
     ]
    },
    {
     "name": "stdout",
     "output_type": "stream",
     "text": [
      "ACCURACY:  tensor(0.9688)\n",
      "ACCURACY:  tensor(1.)\n",
      "ACCURACY:  tensor(0.9844)\n"
     ]
    },
    {
     "name": "stderr",
     "output_type": "stream",
     "text": [
      " 89%|████████▉ | 90/101 [00:06<00:00, 13.43it/s]"
     ]
    },
    {
     "name": "stdout",
     "output_type": "stream",
     "text": [
      "ACCURACY:  tensor(0.9531)\n",
      "ACCURACY:  tensor(0.9219)\n",
      "ACCURACY:  tensor(0.9688)\n"
     ]
    },
    {
     "name": "stderr",
     "output_type": "stream",
     "text": [
      "\r",
      " 91%|█████████ | 92/101 [00:06<00:00, 13.75it/s]"
     ]
    },
    {
     "name": "stdout",
     "output_type": "stream",
     "text": [
      "ACCURACY:  tensor(0.9688)\n",
      "ACCURACY:  tensor(1.)\n",
      "ACCURACY:  tensor(0.9375)\n"
     ]
    },
    {
     "name": "stderr",
     "output_type": "stream",
     "text": [
      " 95%|█████████▌| 96/101 [00:07<00:00, 14.24it/s]"
     ]
    },
    {
     "name": "stdout",
     "output_type": "stream",
     "text": [
      "ACCURACY:  tensor(0.9062)\n",
      "ACCURACY:  tensor(0.9844)\n",
      "ACCURACY:  tensor(0.9219)\n",
      "ACCURACY:  tensor(0.9531)\n"
     ]
    },
    {
     "name": "stderr",
     "output_type": "stream",
     "text": [
      " 99%|█████████▉| 100/101 [00:07<00:00, 14.80it/s]"
     ]
    },
    {
     "name": "stdout",
     "output_type": "stream",
     "text": [
      "ACCURACY:  tensor(0.9688)\n",
      "ACCURACY:  tensor(0.9688)\n",
      "ACCURACY:  tensor(0.9375)\n",
      "ACCURACY:  tensor(1.)\n"
     ]
    },
    {
     "name": "stderr",
     "output_type": "stream",
     "text": [
      "100%|██████████| 101/101 [00:07<00:00, 13.63it/s]\n"
     ]
    },
    {
     "name": "stdout",
     "output_type": "stream",
     "text": [
      "EPOCH LOSS: \n",
      "  6.373401601568307\n"
     ]
    },
    {
     "name": "stderr",
     "output_type": "stream",
     "text": [
      "  2%|▏         | 2/101 [00:00<00:05, 18.32it/s]"
     ]
    },
    {
     "name": "stdout",
     "output_type": "stream",
     "text": [
      "Epoch: 5, Training Loss: 6.3734, Validation Loss: 5.7549\n",
      "ACCURACY:  tensor(1.)\n",
      "ACCURACY:  tensor(0.9844)\n",
      "ACCURACY:  tensor(0.9531)\n"
     ]
    },
    {
     "name": "stderr",
     "output_type": "stream",
     "text": [
      "  5%|▍         | 5/101 [00:00<00:07, 12.96it/s]"
     ]
    },
    {
     "name": "stdout",
     "output_type": "stream",
     "text": [
      "ACCURACY:  tensor(0.9688)\n",
      "ACCURACY:  tensor(1.)\n",
      "ACCURACY:  tensor(0.9688)\n",
      "ACCURACY:  tensor(0.9531)\n"
     ]
    },
    {
     "name": "stderr",
     "output_type": "stream",
     "text": [
      "  9%|▉         | 9/101 [00:00<00:06, 13.52it/s]"
     ]
    },
    {
     "name": "stdout",
     "output_type": "stream",
     "text": [
      "ACCURACY:  tensor(0.9531)\n",
      "ACCURACY:  tensor(0.9531)\n",
      "ACCURACY:  tensor(1.)\n",
      "ACCURACY:  tensor(0.9531)\n"
     ]
    },
    {
     "name": "stderr",
     "output_type": "stream",
     "text": [
      " 13%|█▎        | 13/101 [00:00<00:05, 15.02it/s]"
     ]
    },
    {
     "name": "stdout",
     "output_type": "stream",
     "text": [
      "ACCURACY:  tensor(0.9688)\n",
      "ACCURACY:  tensor(0.9844)\n",
      "ACCURACY:  tensor(0.9844)\n",
      "ACCURACY:  tensor(0.9688)\n"
     ]
    },
    {
     "name": "stderr",
     "output_type": "stream",
     "text": [
      " 17%|█▋        | 17/101 [00:01<00:05, 15.71it/s]"
     ]
    },
    {
     "name": "stdout",
     "output_type": "stream",
     "text": [
      "ACCURACY:  tensor(0.9688)\n",
      "ACCURACY:  tensor(0.9375)\n",
      "ACCURACY:  tensor(0.9688)\n",
      "ACCURACY:  tensor(0.9531)\n"
     ]
    },
    {
     "name": "stderr",
     "output_type": "stream",
     "text": [
      " 21%|██        | 21/101 [00:01<00:05, 15.75it/s]"
     ]
    },
    {
     "name": "stdout",
     "output_type": "stream",
     "text": [
      "ACCURACY:  tensor(0.9688)\n",
      "ACCURACY:  tensor(0.9688)\n",
      "ACCURACY:  tensor(1.)\n"
     ]
    },
    {
     "name": "stderr",
     "output_type": "stream",
     "text": [
      "\r",
      " 23%|██▎       | 23/101 [00:01<00:05, 14.10it/s]"
     ]
    },
    {
     "name": "stdout",
     "output_type": "stream",
     "text": [
      "ACCURACY:  tensor(0.9844)\n",
      "ACCURACY:  tensor(0.9688)\n",
      "ACCURACY:  tensor(0.9375)\n"
     ]
    },
    {
     "name": "stderr",
     "output_type": "stream",
     "text": [
      " 27%|██▋       | 27/101 [00:01<00:05, 12.95it/s]"
     ]
    },
    {
     "name": "stdout",
     "output_type": "stream",
     "text": [
      "ACCURACY:  tensor(0.9688)\n",
      "ACCURACY:  tensor(0.9844)\n",
      "ACCURACY:  tensor(0.9375)\n"
     ]
    },
    {
     "name": "stderr",
     "output_type": "stream",
     "text": [
      "\r",
      " 29%|██▊       | 29/101 [00:02<00:05, 12.36it/s]"
     ]
    },
    {
     "name": "stdout",
     "output_type": "stream",
     "text": [
      "ACCURACY:  tensor(0.9688)\n",
      "ACCURACY:  tensor(0.9688)\n",
      "ACCURACY:  tensor(0.9375)\n"
     ]
    },
    {
     "name": "stderr",
     "output_type": "stream",
     "text": [
      " 33%|███▎      | 33/101 [00:02<00:05, 12.34it/s]"
     ]
    },
    {
     "name": "stdout",
     "output_type": "stream",
     "text": [
      "ACCURACY:  tensor(0.9844)\n",
      "ACCURACY:  tensor(0.9688)\n",
      "ACCURACY:  tensor(0.9844)\n"
     ]
    },
    {
     "name": "stderr",
     "output_type": "stream",
     "text": [
      "\r",
      " 35%|███▍      | 35/101 [00:02<00:05, 12.79it/s]"
     ]
    },
    {
     "name": "stdout",
     "output_type": "stream",
     "text": [
      "ACCURACY:  tensor(1.)\n",
      "ACCURACY:  tensor(1.)\n",
      "ACCURACY:  tensor(1.)\n"
     ]
    },
    {
     "name": "stderr",
     "output_type": "stream",
     "text": [
      " 39%|███▊      | 39/101 [00:02<00:04, 12.68it/s]"
     ]
    },
    {
     "name": "stdout",
     "output_type": "stream",
     "text": [
      "ACCURACY:  tensor(0.9844)\n",
      "ACCURACY:  tensor(0.9688)\n",
      "ACCURACY:  tensor(0.9375)\n"
     ]
    },
    {
     "name": "stderr",
     "output_type": "stream",
     "text": [
      " 43%|████▎     | 43/101 [00:03<00:04, 12.83it/s]"
     ]
    },
    {
     "name": "stdout",
     "output_type": "stream",
     "text": [
      "ACCURACY:  tensor(0.9688)\n",
      "ACCURACY:  tensor(0.9844)\n",
      "ACCURACY:  tensor(0.9844)\n",
      "ACCURACY:  tensor(0.9688)\n"
     ]
    },
    {
     "name": "stderr",
     "output_type": "stream",
     "text": [
      "\r",
      " 45%|████▍     | 45/101 [00:03<00:04, 12.55it/s]"
     ]
    },
    {
     "name": "stdout",
     "output_type": "stream",
     "text": [
      "ACCURACY:  tensor(0.9688)\n",
      "ACCURACY:  tensor(0.9844)\n",
      "ACCURACY:  tensor(0.9844)\n"
     ]
    },
    {
     "name": "stderr",
     "output_type": "stream",
     "text": [
      " 49%|████▊     | 49/101 [00:03<00:04, 12.72it/s]"
     ]
    },
    {
     "name": "stdout",
     "output_type": "stream",
     "text": [
      "ACCURACY:  tensor(0.8906)\n",
      "ACCURACY:  tensor(0.9531)\n",
      "ACCURACY:  tensor(0.9688)\n"
     ]
    },
    {
     "name": "stderr",
     "output_type": "stream",
     "text": [
      " 52%|█████▏    | 53/101 [00:03<00:03, 14.00it/s]"
     ]
    },
    {
     "name": "stdout",
     "output_type": "stream",
     "text": [
      "ACCURACY:  tensor(0.9688)\n",
      "ACCURACY:  tensor(0.9844)\n",
      "ACCURACY:  tensor(0.9531)\n",
      "ACCURACY:  tensor(0.9688)\n"
     ]
    },
    {
     "name": "stderr",
     "output_type": "stream",
     "text": [
      " 56%|█████▋    | 57/101 [00:04<00:03, 13.99it/s]"
     ]
    },
    {
     "name": "stdout",
     "output_type": "stream",
     "text": [
      "ACCURACY:  tensor(0.9531)\n",
      "ACCURACY:  tensor(0.9688)\n",
      "ACCURACY:  tensor(0.9531)\n"
     ]
    },
    {
     "name": "stderr",
     "output_type": "stream",
     "text": [
      "\r",
      " 58%|█████▊    | 59/101 [00:04<00:02, 15.23it/s]"
     ]
    },
    {
     "name": "stdout",
     "output_type": "stream",
     "text": [
      "ACCURACY:  tensor(0.9844)\n",
      "ACCURACY:  tensor(0.9844)\n",
      "ACCURACY:  tensor(0.9531)\n",
      "ACCURACY:  tensor(0.9844)\n"
     ]
    },
    {
     "name": "stderr",
     "output_type": "stream",
     "text": [
      " 62%|██████▏   | 63/101 [00:04<00:02, 14.69it/s]"
     ]
    },
    {
     "name": "stdout",
     "output_type": "stream",
     "text": [
      "ACCURACY:  tensor(0.9375)\n",
      "ACCURACY:  tensor(0.9844)\n",
      "ACCURACY:  tensor(1.)\n"
     ]
    },
    {
     "name": "stderr",
     "output_type": "stream",
     "text": [
      "\r",
      " 64%|██████▍   | 65/101 [00:04<00:02, 14.09it/s]"
     ]
    },
    {
     "name": "stdout",
     "output_type": "stream",
     "text": [
      "ACCURACY:  tensor(0.9688)\n",
      "ACCURACY:  tensor(0.9688)\n",
      "ACCURACY:  tensor(0.9531)\n",
      "ACCURACY:  tensor(1.)\n"
     ]
    },
    {
     "name": "stderr",
     "output_type": "stream",
     "text": [
      " 69%|██████▉   | 70/101 [00:05<00:02, 14.82it/s]"
     ]
    },
    {
     "name": "stdout",
     "output_type": "stream",
     "text": [
      "ACCURACY:  tensor(0.9688)\n",
      "ACCURACY:  tensor(0.9688)\n",
      "ACCURACY:  tensor(0.9688)\n"
     ]
    },
    {
     "name": "stderr",
     "output_type": "stream",
     "text": [
      " 73%|███████▎  | 74/101 [00:05<00:01, 14.82it/s]"
     ]
    },
    {
     "name": "stdout",
     "output_type": "stream",
     "text": [
      "ACCURACY:  tensor(0.9844)\n",
      "ACCURACY:  tensor(1.)\n",
      "ACCURACY:  tensor(0.9844)\n"
     ]
    },
    {
     "name": "stderr",
     "output_type": "stream",
     "text": [
      "\r",
      " 75%|███████▌  | 76/101 [00:05<00:01, 14.09it/s]"
     ]
    },
    {
     "name": "stdout",
     "output_type": "stream",
     "text": [
      "ACCURACY:  tensor(0.9844)\n",
      "ACCURACY:  tensor(0.9531)\n",
      "ACCURACY:  tensor(1.)\n"
     ]
    },
    {
     "name": "stderr",
     "output_type": "stream",
     "text": [
      " 79%|███████▉  | 80/101 [00:05<00:01, 14.34it/s]"
     ]
    },
    {
     "name": "stdout",
     "output_type": "stream",
     "text": [
      "ACCURACY:  tensor(0.9531)\n",
      "ACCURACY:  tensor(0.9844)\n",
      "ACCURACY:  tensor(0.9375)\n"
     ]
    },
    {
     "name": "stderr",
     "output_type": "stream",
     "text": [
      "\r",
      " 81%|████████  | 82/101 [00:05<00:01, 13.55it/s]"
     ]
    },
    {
     "name": "stdout",
     "output_type": "stream",
     "text": [
      "ACCURACY:  tensor(0.9844)\n",
      "ACCURACY:  tensor(0.9375)\n",
      "ACCURACY:  tensor(0.9844)\n"
     ]
    },
    {
     "name": "stderr",
     "output_type": "stream",
     "text": [
      " 85%|████████▌ | 86/101 [00:06<00:01, 13.71it/s]"
     ]
    },
    {
     "name": "stdout",
     "output_type": "stream",
     "text": [
      "ACCURACY:  tensor(0.9844)\n",
      "ACCURACY:  tensor(0.9844)\n",
      "ACCURACY:  tensor(1.)\n"
     ]
    },
    {
     "name": "stderr",
     "output_type": "stream",
     "text": [
      "\r",
      " 87%|████████▋ | 88/101 [00:06<00:00, 13.96it/s]"
     ]
    },
    {
     "name": "stdout",
     "output_type": "stream",
     "text": [
      "ACCURACY:  tensor(0.9688)\n",
      "ACCURACY:  tensor(0.9688)\n",
      "ACCURACY:  tensor(0.9844)\n"
     ]
    },
    {
     "name": "stderr",
     "output_type": "stream",
     "text": [
      " 91%|█████████ | 92/101 [00:06<00:00, 13.95it/s]"
     ]
    },
    {
     "name": "stdout",
     "output_type": "stream",
     "text": [
      "ACCURACY:  tensor(0.9688)\n",
      "ACCURACY:  tensor(0.9531)\n",
      "ACCURACY:  tensor(0.9375)\n"
     ]
    },
    {
     "name": "stderr",
     "output_type": "stream",
     "text": [
      "\r",
      " 93%|█████████▎| 94/101 [00:06<00:00, 12.89it/s]"
     ]
    },
    {
     "name": "stdout",
     "output_type": "stream",
     "text": [
      "ACCURACY:  tensor(0.9688)\n",
      "ACCURACY:  tensor(0.9844)\n",
      "ACCURACY:  tensor(0.9844)\n"
     ]
    },
    {
     "name": "stderr",
     "output_type": "stream",
     "text": [
      "\r",
      " 95%|█████████▌| 96/101 [00:07<00:00, 11.92it/s]"
     ]
    },
    {
     "name": "stdout",
     "output_type": "stream",
     "text": [
      "ACCURACY:  tensor(0.9531)\n",
      "ACCURACY:  tensor(0.9688)\n",
      "ACCURACY:  tensor(0.9688)\n"
     ]
    },
    {
     "name": "stderr",
     "output_type": "stream",
     "text": [
      "100%|██████████| 101/101 [00:07<00:00, 13.62it/s]"
     ]
    },
    {
     "name": "stdout",
     "output_type": "stream",
     "text": [
      "ACCURACY:  tensor(0.9688)\n",
      "ACCURACY:  tensor(0.9531)\n",
      "ACCURACY:  tensor(0.9643)\n",
      "EPOCH LOSS: \n",
      "  5.035034519315946\n"
     ]
    },
    {
     "name": "stderr",
     "output_type": "stream",
     "text": [
      "\n",
      "  2%|▏         | 2/101 [00:00<00:07, 13.23it/s]"
     ]
    },
    {
     "name": "stdout",
     "output_type": "stream",
     "text": [
      "Epoch: 6, Training Loss: 5.0350, Validation Loss: 5.6115\n",
      "ACCURACY:  tensor(1.)\n",
      "ACCURACY:  tensor(0.9688)\n",
      "ACCURACY:  tensor(1.)\n"
     ]
    },
    {
     "name": "stderr",
     "output_type": "stream",
     "text": [
      "  6%|▌         | 6/101 [00:00<00:06, 13.83it/s]"
     ]
    },
    {
     "name": "stdout",
     "output_type": "stream",
     "text": [
      "ACCURACY:  tensor(0.9688)\n",
      "ACCURACY:  tensor(0.9062)\n",
      "ACCURACY:  tensor(0.9688)\n"
     ]
    },
    {
     "name": "stderr",
     "output_type": "stream",
     "text": [
      "\r",
      "  8%|▊         | 8/101 [00:00<00:06, 14.19it/s]"
     ]
    },
    {
     "name": "stdout",
     "output_type": "stream",
     "text": [
      "ACCURACY:  tensor(0.9688)\n",
      "ACCURACY:  tensor(0.9844)\n",
      "ACCURACY:  tensor(0.9844)\n",
      "ACCURACY:  tensor(0.9531)\n"
     ]
    },
    {
     "name": "stderr",
     "output_type": "stream",
     "text": [
      " 12%|█▏        | 12/101 [00:00<00:05, 15.23it/s]"
     ]
    },
    {
     "name": "stdout",
     "output_type": "stream",
     "text": [
      "ACCURACY:  tensor(0.9219)\n",
      "ACCURACY:  tensor(0.9688)\n",
      "ACCURACY:  tensor(1.)\n",
      "ACCURACY:  tensor(0.9844)\n"
     ]
    },
    {
     "name": "stderr",
     "output_type": "stream",
     "text": [
      " 16%|█▌        | 16/101 [00:01<00:07, 11.31it/s]"
     ]
    },
    {
     "name": "stdout",
     "output_type": "stream",
     "text": [
      "ACCURACY:  tensor(0.9844)\n",
      "ACCURACY:  tensor(0.9688)\n"
     ]
    },
    {
     "name": "stderr",
     "output_type": "stream",
     "text": [
      "\r",
      " 18%|█▊        | 18/101 [00:01<00:07, 11.46it/s]"
     ]
    },
    {
     "name": "stdout",
     "output_type": "stream",
     "text": [
      "ACCURACY:  tensor(1.)\n",
      "ACCURACY:  tensor(0.9844)\n",
      "ACCURACY:  tensor(1.)\n"
     ]
    },
    {
     "name": "stderr",
     "output_type": "stream",
     "text": [
      "\r",
      " 20%|█▉        | 20/101 [00:01<00:07, 11.26it/s]"
     ]
    },
    {
     "name": "stdout",
     "output_type": "stream",
     "text": [
      "ACCURACY:  tensor(0.9688)\n",
      "ACCURACY:  tensor(0.9844)\n",
      "ACCURACY:  tensor(0.9219)\n"
     ]
    },
    {
     "name": "stderr",
     "output_type": "stream",
     "text": [
      " 24%|██▍       | 24/101 [00:01<00:06, 12.20it/s]"
     ]
    },
    {
     "name": "stdout",
     "output_type": "stream",
     "text": [
      "ACCURACY:  tensor(0.9375)\n",
      "ACCURACY:  tensor(1.)\n",
      "ACCURACY:  tensor(0.9531)\n"
     ]
    },
    {
     "name": "stderr",
     "output_type": "stream",
     "text": [
      " 28%|██▊       | 28/101 [00:02<00:05, 13.59it/s]"
     ]
    },
    {
     "name": "stdout",
     "output_type": "stream",
     "text": [
      "ACCURACY:  tensor(1.)\n",
      "ACCURACY:  tensor(0.9531)\n",
      "ACCURACY:  tensor(0.9688)\n"
     ]
    },
    {
     "name": "stderr",
     "output_type": "stream",
     "text": [
      "\r",
      " 30%|██▉       | 30/101 [00:02<00:05, 14.07it/s]"
     ]
    },
    {
     "name": "stdout",
     "output_type": "stream",
     "text": [
      "ACCURACY:  tensor(0.9844)\n",
      "ACCURACY:  tensor(0.9844)\n",
      "ACCURACY:  tensor(0.9844)\n"
     ]
    },
    {
     "name": "stderr",
     "output_type": "stream",
     "text": [
      "\r",
      " 32%|███▏      | 32/101 [00:02<00:05, 13.47it/s]"
     ]
    },
    {
     "name": "stdout",
     "output_type": "stream",
     "text": [
      "ACCURACY:  tensor(1.)\n",
      "ACCURACY:  tensor(1.)\n",
      "ACCURACY:  tensor(0.9844)\n"
     ]
    },
    {
     "name": "stderr",
     "output_type": "stream",
     "text": [
      " 36%|███▌      | 36/101 [00:02<00:04, 13.01it/s]"
     ]
    },
    {
     "name": "stdout",
     "output_type": "stream",
     "text": [
      "ACCURACY:  tensor(0.9688)\n",
      "ACCURACY:  tensor(0.9531)\n",
      "ACCURACY:  tensor(0.9688)\n"
     ]
    },
    {
     "name": "stderr",
     "output_type": "stream",
     "text": [
      "\r",
      " 38%|███▊      | 38/101 [00:02<00:05, 11.34it/s]"
     ]
    },
    {
     "name": "stdout",
     "output_type": "stream",
     "text": [
      "ACCURACY:  tensor(1.)\n",
      "ACCURACY:  tensor(0.9531)\n",
      "ACCURACY:  tensor(0.9531)\n"
     ]
    },
    {
     "name": "stderr",
     "output_type": "stream",
     "text": [
      "\r",
      " 40%|███▉      | 40/101 [00:03<00:05, 11.31it/s]"
     ]
    },
    {
     "name": "stdout",
     "output_type": "stream",
     "text": [
      "ACCURACY:  tensor(0.9688)\n",
      "ACCURACY:  tensor(1.)\n"
     ]
    },
    {
     "name": "stderr",
     "output_type": "stream",
     "text": [
      " 44%|████▎     | 44/101 [00:03<00:04, 11.42it/s]"
     ]
    },
    {
     "name": "stdout",
     "output_type": "stream",
     "text": [
      "ACCURACY:  tensor(1.)\n",
      "ACCURACY:  tensor(0.9375)\n",
      "ACCURACY:  tensor(0.9688)\n"
     ]
    },
    {
     "name": "stderr",
     "output_type": "stream",
     "text": [
      " 48%|████▊     | 48/101 [00:03<00:04, 12.47it/s]"
     ]
    },
    {
     "name": "stdout",
     "output_type": "stream",
     "text": [
      "ACCURACY:  tensor(1.)\n",
      "ACCURACY:  tensor(0.9688)\n",
      "ACCURACY:  tensor(0.9688)\n"
     ]
    },
    {
     "name": "stderr",
     "output_type": "stream",
     "text": [
      "\r",
      " 50%|████▉     | 50/101 [00:04<00:04, 12.16it/s]"
     ]
    },
    {
     "name": "stdout",
     "output_type": "stream",
     "text": [
      "ACCURACY:  tensor(0.9688)\n",
      "ACCURACY:  tensor(0.9844)\n",
      "ACCURACY:  tensor(0.9844)\n"
     ]
    },
    {
     "name": "stderr",
     "output_type": "stream",
     "text": [
      "\r",
      " 51%|█████▏    | 52/101 [00:04<00:04, 11.91it/s]"
     ]
    },
    {
     "name": "stdout",
     "output_type": "stream",
     "text": [
      "ACCURACY:  tensor(0.9531)\n",
      "ACCURACY:  tensor(0.9844)\n",
      "ACCURACY:  tensor(0.9688)\n"
     ]
    },
    {
     "name": "stderr",
     "output_type": "stream",
     "text": [
      " 55%|█████▌    | 56/101 [00:04<00:03, 13.87it/s]"
     ]
    },
    {
     "name": "stdout",
     "output_type": "stream",
     "text": [
      "ACCURACY:  tensor(1.)\n",
      "ACCURACY:  tensor(0.9375)\n",
      "ACCURACY:  tensor(0.9531)\n",
      "ACCURACY:  tensor(0.9844)\n"
     ]
    },
    {
     "name": "stderr",
     "output_type": "stream",
     "text": [
      " 59%|█████▉    | 60/101 [00:04<00:02, 13.97it/s]"
     ]
    },
    {
     "name": "stdout",
     "output_type": "stream",
     "text": [
      "ACCURACY:  tensor(1.)\n",
      "ACCURACY:  tensor(0.9688)\n",
      "ACCURACY:  tensor(0.9688)\n"
     ]
    },
    {
     "name": "stderr",
     "output_type": "stream",
     "text": [
      " 63%|██████▎   | 64/101 [00:04<00:02, 14.20it/s]"
     ]
    },
    {
     "name": "stdout",
     "output_type": "stream",
     "text": [
      "ACCURACY:  tensor(0.9688)\n",
      "ACCURACY:  tensor(1.)\n",
      "ACCURACY:  tensor(0.9688)\n"
     ]
    },
    {
     "name": "stderr",
     "output_type": "stream",
     "text": [
      "\r",
      " 65%|██████▌   | 66/101 [00:05<00:02, 13.56it/s]"
     ]
    },
    {
     "name": "stdout",
     "output_type": "stream",
     "text": [
      "ACCURACY:  tensor(0.9844)\n",
      "ACCURACY:  tensor(1.)\n",
      "ACCURACY:  tensor(0.9844)\n"
     ]
    },
    {
     "name": "stderr",
     "output_type": "stream",
     "text": [
      " 69%|██████▉   | 70/101 [00:05<00:02, 14.21it/s]"
     ]
    },
    {
     "name": "stdout",
     "output_type": "stream",
     "text": [
      "ACCURACY:  tensor(1.)\n",
      "ACCURACY:  tensor(0.9531)\n",
      "ACCURACY:  tensor(0.9844)\n"
     ]
    },
    {
     "name": "stderr",
     "output_type": "stream",
     "text": [
      "\r",
      " 71%|███████▏  | 72/101 [00:05<00:02, 14.37it/s]"
     ]
    },
    {
     "name": "stdout",
     "output_type": "stream",
     "text": [
      "ACCURACY:  tensor(0.9844)\n",
      "ACCURACY:  tensor(0.9688)\n",
      "ACCURACY:  tensor(0.9531)\n",
      "ACCURACY:  tensor(0.9688)\n"
     ]
    },
    {
     "name": "stderr",
     "output_type": "stream",
     "text": [
      " 75%|███████▌  | 76/101 [00:05<00:01, 14.76it/s]"
     ]
    },
    {
     "name": "stdout",
     "output_type": "stream",
     "text": [
      "ACCURACY:  tensor(1.)\n",
      "ACCURACY:  tensor(0.9844)\n",
      "ACCURACY:  tensor(1.)\n"
     ]
    },
    {
     "name": "stderr",
     "output_type": "stream",
     "text": [
      "\r",
      " 77%|███████▋  | 78/101 [00:05<00:01, 13.83it/s]"
     ]
    },
    {
     "name": "stdout",
     "output_type": "stream",
     "text": [
      "ACCURACY:  tensor(0.9844)\n",
      "ACCURACY:  tensor(0.9688)\n",
      "ACCURACY:  tensor(0.9375)\n"
     ]
    },
    {
     "name": "stderr",
     "output_type": "stream",
     "text": [
      " 81%|████████  | 82/101 [00:06<00:01, 13.68it/s]"
     ]
    },
    {
     "name": "stdout",
     "output_type": "stream",
     "text": [
      "ACCURACY:  tensor(1.)\n",
      "ACCURACY:  tensor(0.9844)\n",
      "ACCURACY:  tensor(0.9844)\n"
     ]
    },
    {
     "name": "stderr",
     "output_type": "stream",
     "text": [
      "\r",
      " 83%|████████▎ | 84/101 [00:06<00:01, 13.30it/s]"
     ]
    },
    {
     "name": "stdout",
     "output_type": "stream",
     "text": [
      "ACCURACY:  tensor(1.)\n",
      "ACCURACY:  tensor(0.9375)\n",
      "ACCURACY:  tensor(0.9531)\n"
     ]
    },
    {
     "name": "stderr",
     "output_type": "stream",
     "text": [
      " 87%|████████▋ | 88/101 [00:06<00:00, 13.20it/s]"
     ]
    },
    {
     "name": "stdout",
     "output_type": "stream",
     "text": [
      "ACCURACY:  tensor(0.9375)\n",
      "ACCURACY:  tensor(0.9531)\n",
      "ACCURACY:  tensor(0.9844)\n"
     ]
    },
    {
     "name": "stderr",
     "output_type": "stream",
     "text": [
      " 91%|█████████ | 92/101 [00:07<00:00, 13.94it/s]"
     ]
    },
    {
     "name": "stdout",
     "output_type": "stream",
     "text": [
      "ACCURACY:  tensor(1.)\n",
      "ACCURACY:  tensor(0.9844)\n",
      "ACCURACY:  tensor(0.9375)\n"
     ]
    },
    {
     "name": "stderr",
     "output_type": "stream",
     "text": [
      "\r",
      " 93%|█████████▎| 94/101 [00:07<00:00, 13.99it/s]"
     ]
    },
    {
     "name": "stdout",
     "output_type": "stream",
     "text": [
      "ACCURACY:  tensor(0.9844)\n",
      "ACCURACY:  tensor(0.9844)\n",
      "ACCURACY:  tensor(1.)\n"
     ]
    },
    {
     "name": "stderr",
     "output_type": "stream",
     "text": [
      " 97%|█████████▋| 98/101 [00:07<00:00, 14.45it/s]"
     ]
    },
    {
     "name": "stdout",
     "output_type": "stream",
     "text": [
      "ACCURACY:  tensor(0.9844)\n",
      "ACCURACY:  tensor(0.9844)\n",
      "ACCURACY:  tensor(0.9844)\n",
      "ACCURACY:  tensor(0.9688)\n"
     ]
    },
    {
     "name": "stderr",
     "output_type": "stream",
     "text": [
      "100%|██████████| 101/101 [00:07<00:00, 13.24it/s]\n"
     ]
    },
    {
     "name": "stdout",
     "output_type": "stream",
     "text": [
      "ACCURACY:  tensor(0.9688)\n",
      "ACCURACY:  tensor(1.)\n",
      "EPOCH LOSS: \n",
      "  4.641591818431522\n"
     ]
    },
    {
     "name": "stderr",
     "output_type": "stream",
     "text": [
      "  2%|▏         | 2/101 [00:00<00:07, 13.73it/s]"
     ]
    },
    {
     "name": "stdout",
     "output_type": "stream",
     "text": [
      "Epoch: 7, Training Loss: 4.6416, Validation Loss: 5.2541\n",
      "ACCURACY:  tensor(0.9844)\n",
      "ACCURACY:  tensor(0.9688)\n",
      "ACCURACY:  tensor(0.9688)\n"
     ]
    },
    {
     "name": "stderr",
     "output_type": "stream",
     "text": [
      "  6%|▌         | 6/101 [00:00<00:06, 15.19it/s]"
     ]
    },
    {
     "name": "stdout",
     "output_type": "stream",
     "text": [
      "ACCURACY:  tensor(0.9844)\n",
      "ACCURACY:  tensor(0.9844)\n",
      "ACCURACY:  tensor(1.)\n",
      "ACCURACY:  tensor(1.)\n"
     ]
    },
    {
     "name": "stderr",
     "output_type": "stream",
     "text": [
      " 10%|▉         | 10/101 [00:00<00:06, 14.52it/s]"
     ]
    },
    {
     "name": "stdout",
     "output_type": "stream",
     "text": [
      "ACCURACY:  tensor(0.9688)\n",
      "ACCURACY:  tensor(0.9688)\n",
      "ACCURACY:  tensor(1.)\n"
     ]
    },
    {
     "name": "stderr",
     "output_type": "stream",
     "text": [
      "\r",
      " 12%|█▏        | 12/101 [00:00<00:06, 14.31it/s]"
     ]
    },
    {
     "name": "stdout",
     "output_type": "stream",
     "text": [
      "ACCURACY:  tensor(0.9844)\n",
      "ACCURACY:  tensor(0.9844)\n",
      "ACCURACY:  tensor(0.9844)\n"
     ]
    },
    {
     "name": "stderr",
     "output_type": "stream",
     "text": [
      " 16%|█▌        | 16/101 [00:01<00:05, 14.42it/s]"
     ]
    },
    {
     "name": "stdout",
     "output_type": "stream",
     "text": [
      "ACCURACY:  tensor(0.9375)\n",
      "ACCURACY:  tensor(0.9688)\n",
      "ACCURACY:  tensor(0.9844)\n"
     ]
    },
    {
     "name": "stderr",
     "output_type": "stream",
     "text": [
      "\r",
      " 18%|█▊        | 18/101 [00:01<00:05, 14.14it/s]"
     ]
    },
    {
     "name": "stdout",
     "output_type": "stream",
     "text": [
      "ACCURACY:  tensor(0.9531)\n",
      "ACCURACY:  tensor(0.9844)\n",
      "ACCURACY:  tensor(0.9688)\n"
     ]
    },
    {
     "name": "stderr",
     "output_type": "stream",
     "text": [
      " 22%|██▏       | 22/101 [00:01<00:05, 14.84it/s]"
     ]
    },
    {
     "name": "stdout",
     "output_type": "stream",
     "text": [
      "ACCURACY:  tensor(0.9688)\n",
      "ACCURACY:  tensor(1.)\n",
      "ACCURACY:  tensor(0.9844)\n"
     ]
    },
    {
     "name": "stderr",
     "output_type": "stream",
     "text": [
      "\r",
      " 24%|██▍       | 24/101 [00:01<00:05, 14.39it/s]"
     ]
    },
    {
     "name": "stdout",
     "output_type": "stream",
     "text": [
      "ACCURACY:  tensor(0.9844)\n",
      "ACCURACY:  tensor(1.)\n",
      "ACCURACY:  tensor(0.9844)\n"
     ]
    },
    {
     "name": "stderr",
     "output_type": "stream",
     "text": [
      " 28%|██▊       | 28/101 [00:01<00:05, 14.34it/s]"
     ]
    },
    {
     "name": "stdout",
     "output_type": "stream",
     "text": [
      "ACCURACY:  tensor(0.9688)\n",
      "ACCURACY:  tensor(0.9844)\n",
      "ACCURACY:  tensor(0.9844)\n"
     ]
    },
    {
     "name": "stderr",
     "output_type": "stream",
     "text": [
      "\r",
      " 30%|██▉       | 30/101 [00:02<00:05, 13.23it/s]"
     ]
    },
    {
     "name": "stdout",
     "output_type": "stream",
     "text": [
      "ACCURACY:  tensor(0.9688)\n",
      "ACCURACY:  tensor(0.9688)\n",
      "ACCURACY:  tensor(1.)\n"
     ]
    },
    {
     "name": "stderr",
     "output_type": "stream",
     "text": [
      " 34%|███▎      | 34/101 [00:02<00:05, 13.39it/s]"
     ]
    },
    {
     "name": "stdout",
     "output_type": "stream",
     "text": [
      "ACCURACY:  tensor(1.)\n",
      "ACCURACY:  tensor(0.9688)\n",
      "ACCURACY:  tensor(1.)\n"
     ]
    },
    {
     "name": "stderr",
     "output_type": "stream",
     "text": [
      "\r",
      " 36%|███▌      | 36/101 [00:02<00:04, 13.28it/s]"
     ]
    },
    {
     "name": "stdout",
     "output_type": "stream",
     "text": [
      "ACCURACY:  tensor(1.)\n",
      "ACCURACY:  tensor(0.9688)\n",
      "ACCURACY:  tensor(0.9688)\n"
     ]
    },
    {
     "name": "stderr",
     "output_type": "stream",
     "text": [
      " 40%|███▉      | 40/101 [00:02<00:04, 14.24it/s]"
     ]
    },
    {
     "name": "stdout",
     "output_type": "stream",
     "text": [
      "ACCURACY:  tensor(0.9688)\n",
      "ACCURACY:  tensor(0.9844)\n",
      "ACCURACY:  tensor(0.9531)\n",
      "ACCURACY:  tensor(0.9531)\n"
     ]
    },
    {
     "name": "stderr",
     "output_type": "stream",
     "text": [
      " 44%|████▎     | 44/101 [00:03<00:04, 14.10it/s]"
     ]
    },
    {
     "name": "stdout",
     "output_type": "stream",
     "text": [
      "ACCURACY:  tensor(0.9844)\n",
      "ACCURACY:  tensor(0.9844)\n",
      "ACCURACY:  tensor(0.9844)\n"
     ]
    },
    {
     "name": "stderr",
     "output_type": "stream",
     "text": [
      "\r",
      " 46%|████▌     | 46/101 [00:03<00:03, 13.92it/s]"
     ]
    },
    {
     "name": "stdout",
     "output_type": "stream",
     "text": [
      "ACCURACY:  tensor(0.9531)\n",
      "ACCURACY:  tensor(0.9531)\n",
      "ACCURACY:  tensor(0.9844)\n",
      "ACCURACY:  tensor(0.9688)\n"
     ]
    },
    {
     "name": "stderr",
     "output_type": "stream",
     "text": [
      " 50%|████▉     | 50/101 [00:03<00:03, 14.44it/s]"
     ]
    },
    {
     "name": "stdout",
     "output_type": "stream",
     "text": [
      "ACCURACY:  tensor(1.)\n",
      "ACCURACY:  tensor(0.9844)\n",
      "ACCURACY:  tensor(1.)\n"
     ]
    },
    {
     "name": "stderr",
     "output_type": "stream",
     "text": [
      " 53%|█████▎    | 54/101 [00:03<00:03, 14.90it/s]"
     ]
    },
    {
     "name": "stdout",
     "output_type": "stream",
     "text": [
      "ACCURACY:  tensor(1.)\n",
      "ACCURACY:  tensor(0.9688)\n",
      "ACCURACY:  tensor(0.9688)\n"
     ]
    },
    {
     "name": "stderr",
     "output_type": "stream",
     "text": [
      "\r",
      " 55%|█████▌    | 56/101 [00:03<00:03, 14.13it/s]"
     ]
    },
    {
     "name": "stdout",
     "output_type": "stream",
     "text": [
      "ACCURACY:  tensor(0.9688)\n",
      "ACCURACY:  tensor(0.9688)\n",
      "ACCURACY:  tensor(0.9844)\n"
     ]
    },
    {
     "name": "stderr",
     "output_type": "stream",
     "text": [
      " 59%|█████▉    | 60/101 [00:04<00:02, 14.35it/s]"
     ]
    },
    {
     "name": "stdout",
     "output_type": "stream",
     "text": [
      "ACCURACY:  tensor(0.9844)\n",
      "ACCURACY:  tensor(0.9844)\n",
      "ACCURACY:  tensor(1.)\n",
      "ACCURACY:  tensor(1.)\n"
     ]
    },
    {
     "name": "stderr",
     "output_type": "stream",
     "text": [
      "\r",
      " 61%|██████▏   | 62/101 [00:04<00:02, 14.54it/s]"
     ]
    },
    {
     "name": "stdout",
     "output_type": "stream",
     "text": [
      "ACCURACY:  tensor(0.9844)\n",
      "ACCURACY:  tensor(1.)\n",
      "ACCURACY:  tensor(0.9531)\n"
     ]
    },
    {
     "name": "stderr",
     "output_type": "stream",
     "text": [
      " 65%|██████▌   | 66/101 [00:04<00:02, 13.87it/s]"
     ]
    },
    {
     "name": "stdout",
     "output_type": "stream",
     "text": [
      "ACCURACY:  tensor(0.9688)\n",
      "ACCURACY:  tensor(0.9688)\n",
      "ACCURACY:  tensor(0.9844)\n"
     ]
    },
    {
     "name": "stderr",
     "output_type": "stream",
     "text": [
      " 69%|██████▉   | 70/101 [00:04<00:02, 14.23it/s]"
     ]
    },
    {
     "name": "stdout",
     "output_type": "stream",
     "text": [
      "ACCURACY:  tensor(1.)\n",
      "ACCURACY:  tensor(0.9688)\n",
      "ACCURACY:  tensor(0.9375)\n"
     ]
    },
    {
     "name": "stderr",
     "output_type": "stream",
     "text": [
      "\r",
      " 71%|███████▏  | 72/101 [00:05<00:02, 13.63it/s]"
     ]
    },
    {
     "name": "stdout",
     "output_type": "stream",
     "text": [
      "ACCURACY:  tensor(0.9844)\n",
      "ACCURACY:  tensor(1.)\n",
      "ACCURACY:  tensor(0.9688)\n"
     ]
    },
    {
     "name": "stderr",
     "output_type": "stream",
     "text": [
      " 75%|███████▌  | 76/101 [00:05<00:01, 14.28it/s]"
     ]
    },
    {
     "name": "stdout",
     "output_type": "stream",
     "text": [
      "ACCURACY:  tensor(0.9688)\n",
      "ACCURACY:  tensor(0.9844)\n",
      "ACCURACY:  tensor(0.9844)\n",
      "ACCURACY:  tensor(0.9531)\n"
     ]
    },
    {
     "name": "stderr",
     "output_type": "stream",
     "text": [
      " 79%|███████▉  | 80/101 [00:05<00:01, 14.83it/s]"
     ]
    },
    {
     "name": "stdout",
     "output_type": "stream",
     "text": [
      "ACCURACY:  tensor(0.9531)\n",
      "ACCURACY:  tensor(0.9688)\n",
      "ACCURACY:  tensor(0.9531)\n",
      "ACCURACY:  tensor(0.9531)\n"
     ]
    },
    {
     "name": "stderr",
     "output_type": "stream",
     "text": [
      " 83%|████████▎ | 84/101 [00:05<00:01, 14.59it/s]"
     ]
    },
    {
     "name": "stdout",
     "output_type": "stream",
     "text": [
      "ACCURACY:  tensor(0.9688)\n",
      "ACCURACY:  tensor(0.9531)\n",
      "ACCURACY:  tensor(0.9844)\n",
      "ACCURACY:  tensor(0.9688)\n"
     ]
    },
    {
     "name": "stderr",
     "output_type": "stream",
     "text": [
      "\r",
      " 85%|████████▌ | 86/101 [00:05<00:00, 15.83it/s]"
     ]
    },
    {
     "name": "stdout",
     "output_type": "stream",
     "text": [
      "ACCURACY:  tensor(0.9688)\n",
      "ACCURACY:  tensor(1.)\n"
     ]
    },
    {
     "name": "stderr",
     "output_type": "stream",
     "text": [
      "\r",
      " 87%|████████▋ | 88/101 [00:06<00:01, 11.82it/s]"
     ]
    },
    {
     "name": "stdout",
     "output_type": "stream",
     "text": [
      "ACCURACY:  tensor(0.9688)\n",
      "ACCURACY:  tensor(0.9844)\n"
     ]
    },
    {
     "name": "stderr",
     "output_type": "stream",
     "text": [
      "\r",
      " 89%|████████▉ | 90/101 [00:06<00:00, 11.44it/s]"
     ]
    },
    {
     "name": "stdout",
     "output_type": "stream",
     "text": [
      "ACCURACY:  tensor(1.)\n",
      "ACCURACY:  tensor(1.)\n",
      "ACCURACY:  tensor(0.9531)\n"
     ]
    },
    {
     "name": "stderr",
     "output_type": "stream",
     "text": [
      " 93%|█████████▎| 94/101 [00:06<00:00, 12.02it/s]"
     ]
    },
    {
     "name": "stdout",
     "output_type": "stream",
     "text": [
      "ACCURACY:  tensor(0.9844)\n",
      "ACCURACY:  tensor(0.8906)\n",
      "ACCURACY:  tensor(0.9688)\n"
     ]
    },
    {
     "name": "stderr",
     "output_type": "stream",
     "text": [
      "\r",
      " 95%|█████████▌| 96/101 [00:06<00:00, 12.39it/s]"
     ]
    },
    {
     "name": "stdout",
     "output_type": "stream",
     "text": [
      "ACCURACY:  tensor(1.)\n",
      "ACCURACY:  tensor(0.9844)\n",
      "ACCURACY:  tensor(0.9688)\n"
     ]
    },
    {
     "name": "stderr",
     "output_type": "stream",
     "text": [
      "100%|██████████| 101/101 [00:07<00:00, 13.89it/s]\n"
     ]
    },
    {
     "name": "stdout",
     "output_type": "stream",
     "text": [
      "ACCURACY:  tensor(0.9844)\n",
      "ACCURACY:  tensor(0.9688)\n",
      "ACCURACY:  tensor(1.)\n",
      "EPOCH LOSS: \n",
      "  4.329662688224032\n"
     ]
    },
    {
     "name": "stderr",
     "output_type": "stream",
     "text": [
      "  2%|▏         | 2/101 [00:00<00:05, 17.66it/s]"
     ]
    },
    {
     "name": "stdout",
     "output_type": "stream",
     "text": [
      "Epoch: 8, Training Loss: 4.3297, Validation Loss: 5.2970\n",
      "ACCURACY:  tensor(0.9688)\n",
      "ACCURACY:  tensor(0.9688)\n",
      "ACCURACY:  tensor(0.9688)\n"
     ]
    },
    {
     "name": "stderr",
     "output_type": "stream",
     "text": [
      "\r",
      "  4%|▍         | 4/101 [00:00<00:06, 15.40it/s]"
     ]
    },
    {
     "name": "stdout",
     "output_type": "stream",
     "text": [
      "ACCURACY:  tensor(0.9688)\n",
      "ACCURACY:  tensor(1.)\n",
      "ACCURACY:  tensor(0.9844)\n"
     ]
    },
    {
     "name": "stderr",
     "output_type": "stream",
     "text": [
      "  7%|▋         | 7/101 [00:00<00:07, 12.33it/s]"
     ]
    },
    {
     "name": "stdout",
     "output_type": "stream",
     "text": [
      "ACCURACY:  tensor(1.)\n",
      "ACCURACY:  tensor(1.)\n",
      "ACCURACY:  tensor(0.9844)\n"
     ]
    },
    {
     "name": "stderr",
     "output_type": "stream",
     "text": [
      " 11%|█         | 11/101 [00:00<00:07, 12.32it/s]"
     ]
    },
    {
     "name": "stdout",
     "output_type": "stream",
     "text": [
      "ACCURACY:  tensor(0.9688)\n",
      "ACCURACY:  tensor(0.9688)\n",
      "ACCURACY:  tensor(0.9844)\n",
      "ACCURACY:  tensor(0.9688)\n"
     ]
    },
    {
     "name": "stderr",
     "output_type": "stream",
     "text": [
      " 15%|█▍        | 15/101 [00:01<00:06, 13.19it/s]"
     ]
    },
    {
     "name": "stdout",
     "output_type": "stream",
     "text": [
      "ACCURACY:  tensor(0.9844)\n",
      "ACCURACY:  tensor(1.)\n",
      "ACCURACY:  tensor(1.)\n"
     ]
    },
    {
     "name": "stderr",
     "output_type": "stream",
     "text": [
      "\r",
      " 17%|█▋        | 17/101 [00:01<00:06, 12.91it/s]"
     ]
    },
    {
     "name": "stdout",
     "output_type": "stream",
     "text": [
      "ACCURACY:  tensor(0.9531)\n",
      "ACCURACY:  tensor(0.9844)\n",
      "ACCURACY:  tensor(0.9844)\n"
     ]
    },
    {
     "name": "stderr",
     "output_type": "stream",
     "text": [
      " 21%|██        | 21/101 [00:01<00:06, 12.52it/s]"
     ]
    },
    {
     "name": "stdout",
     "output_type": "stream",
     "text": [
      "ACCURACY:  tensor(0.9844)\n",
      "ACCURACY:  tensor(1.)\n",
      "ACCURACY:  tensor(0.9844)\n"
     ]
    },
    {
     "name": "stderr",
     "output_type": "stream",
     "text": [
      " 25%|██▍       | 25/101 [00:01<00:05, 13.23it/s]"
     ]
    },
    {
     "name": "stdout",
     "output_type": "stream",
     "text": [
      "ACCURACY:  tensor(0.9844)\n",
      "ACCURACY:  tensor(0.9688)\n",
      "ACCURACY:  tensor(1.)\n"
     ]
    },
    {
     "name": "stderr",
     "output_type": "stream",
     "text": [
      "\r",
      " 27%|██▋       | 27/101 [00:02<00:05, 13.60it/s]"
     ]
    },
    {
     "name": "stdout",
     "output_type": "stream",
     "text": [
      "ACCURACY:  tensor(0.9844)\n",
      "ACCURACY:  tensor(1.)\n",
      "ACCURACY:  tensor(0.9844)\n"
     ]
    },
    {
     "name": "stderr",
     "output_type": "stream",
     "text": [
      " 31%|███       | 31/101 [00:02<00:05, 13.74it/s]"
     ]
    },
    {
     "name": "stdout",
     "output_type": "stream",
     "text": [
      "ACCURACY:  tensor(0.9531)\n",
      "ACCURACY:  tensor(0.9688)\n",
      "ACCURACY:  tensor(0.9531)\n"
     ]
    },
    {
     "name": "stderr",
     "output_type": "stream",
     "text": [
      "\r",
      " 33%|███▎      | 33/101 [00:02<00:05, 13.49it/s]"
     ]
    },
    {
     "name": "stdout",
     "output_type": "stream",
     "text": [
      "ACCURACY:  tensor(0.9844)\n",
      "ACCURACY:  tensor(0.9688)\n",
      "ACCURACY:  tensor(0.9531)\n"
     ]
    },
    {
     "name": "stderr",
     "output_type": "stream",
     "text": [
      "\r",
      " 35%|███▍      | 35/101 [00:02<00:05, 13.15it/s]"
     ]
    },
    {
     "name": "stdout",
     "output_type": "stream",
     "text": [
      "ACCURACY:  tensor(0.9531)\n",
      "ACCURACY:  tensor(1.)\n",
      "ACCURACY:  tensor(0.9844)\n"
     ]
    },
    {
     "name": "stderr",
     "output_type": "stream",
     "text": [
      " 39%|███▊      | 39/101 [00:03<00:04, 13.26it/s]"
     ]
    },
    {
     "name": "stdout",
     "output_type": "stream",
     "text": [
      "ACCURACY:  tensor(1.)\n",
      "ACCURACY:  tensor(1.)\n",
      "ACCURACY:  tensor(0.9844)\n"
     ]
    },
    {
     "name": "stderr",
     "output_type": "stream",
     "text": [
      " 43%|████▎     | 43/101 [00:03<00:04, 13.29it/s]"
     ]
    },
    {
     "name": "stdout",
     "output_type": "stream",
     "text": [
      "ACCURACY:  tensor(0.9844)\n",
      "ACCURACY:  tensor(0.9688)\n",
      "ACCURACY:  tensor(0.9844)\n"
     ]
    },
    {
     "name": "stderr",
     "output_type": "stream",
     "text": [
      "\r",
      " 45%|████▍     | 45/101 [00:03<00:04, 13.78it/s]"
     ]
    },
    {
     "name": "stdout",
     "output_type": "stream",
     "text": [
      "ACCURACY:  tensor(0.9844)\n",
      "ACCURACY:  tensor(1.)\n",
      "ACCURACY:  tensor(1.)\n",
      "ACCURACY:  tensor(1.)\n"
     ]
    },
    {
     "name": "stderr",
     "output_type": "stream",
     "text": [
      " 49%|████▊     | 49/101 [00:03<00:03, 13.73it/s]"
     ]
    },
    {
     "name": "stdout",
     "output_type": "stream",
     "text": [
      "ACCURACY:  tensor(0.9531)\n",
      "ACCURACY:  tensor(0.9844)\n",
      "ACCURACY:  tensor(0.9531)\n",
      "ACCURACY:  tensor(0.9844)\n"
     ]
    },
    {
     "name": "stderr",
     "output_type": "stream",
     "text": [
      " 52%|█████▏    | 53/101 [00:04<00:03, 13.92it/s]"
     ]
    },
    {
     "name": "stdout",
     "output_type": "stream",
     "text": [
      "ACCURACY:  tensor(1.)\n",
      "ACCURACY:  tensor(1.)\n",
      "ACCURACY:  tensor(0.9844)\n"
     ]
    },
    {
     "name": "stderr",
     "output_type": "stream",
     "text": [
      " 56%|█████▋    | 57/101 [00:04<00:03, 14.08it/s]"
     ]
    },
    {
     "name": "stdout",
     "output_type": "stream",
     "text": [
      "ACCURACY:  tensor(0.9688)\n",
      "ACCURACY:  tensor(0.9844)\n",
      "ACCURACY:  tensor(0.9844)\n"
     ]
    },
    {
     "name": "stderr",
     "output_type": "stream",
     "text": [
      "\r",
      " 58%|█████▊    | 59/101 [00:04<00:03, 13.82it/s]"
     ]
    },
    {
     "name": "stdout",
     "output_type": "stream",
     "text": [
      "ACCURACY:  tensor(0.9375)\n",
      "ACCURACY:  tensor(1.)\n",
      "ACCURACY:  tensor(0.9844)\n"
     ]
    },
    {
     "name": "stderr",
     "output_type": "stream",
     "text": [
      " 62%|██████▏   | 63/101 [00:04<00:02, 14.30it/s]"
     ]
    },
    {
     "name": "stdout",
     "output_type": "stream",
     "text": [
      "ACCURACY:  tensor(0.9688)\n",
      "ACCURACY:  tensor(0.9375)\n",
      "ACCURACY:  tensor(0.9688)\n"
     ]
    },
    {
     "name": "stderr",
     "output_type": "stream",
     "text": [
      "\r",
      " 64%|██████▍   | 65/101 [00:04<00:02, 13.99it/s]"
     ]
    },
    {
     "name": "stdout",
     "output_type": "stream",
     "text": [
      "ACCURACY:  tensor(0.9844)\n",
      "ACCURACY:  tensor(0.9688)\n",
      "ACCURACY:  tensor(0.9688)\n"
     ]
    },
    {
     "name": "stderr",
     "output_type": "stream",
     "text": [
      " 68%|██████▊   | 69/101 [00:05<00:02, 15.35it/s]"
     ]
    },
    {
     "name": "stdout",
     "output_type": "stream",
     "text": [
      "ACCURACY:  tensor(0.9531)\n",
      "ACCURACY:  tensor(0.9688)\n",
      "ACCURACY:  tensor(1.)\n",
      "ACCURACY:  tensor(0.9844)\n"
     ]
    },
    {
     "name": "stderr",
     "output_type": "stream",
     "text": [
      " 72%|███████▏  | 73/101 [00:05<00:01, 15.44it/s]"
     ]
    },
    {
     "name": "stdout",
     "output_type": "stream",
     "text": [
      "ACCURACY:  tensor(0.9844)\n",
      "ACCURACY:  tensor(0.9844)\n",
      "ACCURACY:  tensor(0.9844)\n",
      "ACCURACY:  tensor(0.9688)\n"
     ]
    },
    {
     "name": "stderr",
     "output_type": "stream",
     "text": [
      " 76%|███████▌  | 77/101 [00:05<00:01, 14.91it/s]"
     ]
    },
    {
     "name": "stdout",
     "output_type": "stream",
     "text": [
      "ACCURACY:  tensor(0.9688)\n",
      "ACCURACY:  tensor(0.9375)\n",
      "ACCURACY:  tensor(1.)\n"
     ]
    },
    {
     "name": "stderr",
     "output_type": "stream",
     "text": [
      "\r",
      " 78%|███████▊  | 79/101 [00:05<00:01, 14.05it/s]"
     ]
    },
    {
     "name": "stdout",
     "output_type": "stream",
     "text": [
      "ACCURACY:  tensor(0.9688)\n",
      "ACCURACY:  tensor(0.9844)\n",
      "ACCURACY:  tensor(0.9688)\n"
     ]
    },
    {
     "name": "stderr",
     "output_type": "stream",
     "text": [
      "\r",
      " 80%|████████  | 81/101 [00:05<00:01, 13.97it/s]"
     ]
    },
    {
     "name": "stdout",
     "output_type": "stream",
     "text": [
      "ACCURACY:  tensor(1.)\n",
      "ACCURACY:  tensor(0.9844)\n",
      "ACCURACY:  tensor(0.9844)\n"
     ]
    },
    {
     "name": "stderr",
     "output_type": "stream",
     "text": [
      " 84%|████████▍ | 85/101 [00:06<00:01, 13.04it/s]"
     ]
    },
    {
     "name": "stdout",
     "output_type": "stream",
     "text": [
      "ACCURACY:  tensor(0.9688)\n",
      "ACCURACY:  tensor(0.9844)\n",
      "ACCURACY:  tensor(0.9688)\n"
     ]
    },
    {
     "name": "stderr",
     "output_type": "stream",
     "text": [
      "\r",
      " 86%|████████▌ | 87/101 [00:06<00:01, 13.99it/s]"
     ]
    },
    {
     "name": "stdout",
     "output_type": "stream",
     "text": [
      "ACCURACY:  tensor(1.)\n",
      "ACCURACY:  tensor(0.9531)\n",
      "ACCURACY:  tensor(0.9688)\n"
     ]
    },
    {
     "name": "stderr",
     "output_type": "stream",
     "text": [
      " 90%|█████████ | 91/101 [00:06<00:00, 13.96it/s]"
     ]
    },
    {
     "name": "stdout",
     "output_type": "stream",
     "text": [
      "ACCURACY:  tensor(0.9531)\n",
      "ACCURACY:  tensor(0.9844)\n",
      "ACCURACY:  tensor(0.9844)\n"
     ]
    },
    {
     "name": "stderr",
     "output_type": "stream",
     "text": [
      "\r",
      " 92%|█████████▏| 93/101 [00:06<00:00, 13.15it/s]"
     ]
    },
    {
     "name": "stdout",
     "output_type": "stream",
     "text": [
      "ACCURACY:  tensor(0.9844)\n",
      "ACCURACY:  tensor(1.)\n",
      "ACCURACY:  tensor(0.9844)\n"
     ]
    },
    {
     "name": "stderr",
     "output_type": "stream",
     "text": [
      " 96%|█████████▌| 97/101 [00:07<00:00, 13.50it/s]"
     ]
    },
    {
     "name": "stdout",
     "output_type": "stream",
     "text": [
      "ACCURACY:  tensor(0.9844)\n",
      "ACCURACY:  tensor(0.9844)\n",
      "ACCURACY:  tensor(0.9844)\n",
      "ACCURACY:  tensor(0.9531)\n"
     ]
    },
    {
     "name": "stderr",
     "output_type": "stream",
     "text": [
      "100%|██████████| 101/101 [00:07<00:00, 13.55it/s]\n"
     ]
    },
    {
     "name": "stdout",
     "output_type": "stream",
     "text": [
      "ACCURACY:  tensor(0.9844)\n",
      "ACCURACY:  tensor(1.)\n",
      "EPOCH LOSS: \n",
      "  3.8313695879118277\n"
     ]
    },
    {
     "name": "stderr",
     "output_type": "stream",
     "text": [
      "  2%|▏         | 2/101 [00:00<00:09, 10.65it/s]"
     ]
    },
    {
     "name": "stdout",
     "output_type": "stream",
     "text": [
      "Epoch: 9, Training Loss: 3.8314, Validation Loss: 4.9950\n",
      "ACCURACY:  tensor(1.)\n",
      "ACCURACY:  tensor(0.9531)\n"
     ]
    },
    {
     "name": "stderr",
     "output_type": "stream",
     "text": [
      "\r",
      "  4%|▍         | 4/101 [00:00<00:08, 11.69it/s]"
     ]
    },
    {
     "name": "stdout",
     "output_type": "stream",
     "text": [
      "ACCURACY:  tensor(0.9844)\n",
      "ACCURACY:  tensor(0.9844)\n",
      "ACCURACY:  tensor(0.9688)\n",
      "ACCURACY:  "
     ]
    },
    {
     "name": "stderr",
     "output_type": "stream",
     "text": [
      "\r",
      "  6%|▌         | 6/101 [00:00<00:07, 12.18it/s]"
     ]
    },
    {
     "name": "stdout",
     "output_type": "stream",
     "text": [
      "tensor(1.)\n",
      "ACCURACY:  tensor(0.9844)\n",
      "ACCURACY:  tensor(0.9531)\n"
     ]
    },
    {
     "name": "stderr",
     "output_type": "stream",
     "text": [
      " 10%|▉         | 10/101 [00:00<00:07, 11.78it/s]"
     ]
    },
    {
     "name": "stdout",
     "output_type": "stream",
     "text": [
      "ACCURACY:  tensor(0.9844)\n",
      "ACCURACY:  tensor(0.9844)\n",
      "ACCURACY:  tensor(0.9844)\n"
     ]
    },
    {
     "name": "stderr",
     "output_type": "stream",
     "text": [
      "\r",
      " 12%|█▏        | 12/101 [00:01<00:07, 11.49it/s]"
     ]
    },
    {
     "name": "stdout",
     "output_type": "stream",
     "text": [
      "ACCURACY:  tensor(0.9844)\n",
      "ACCURACY:  tensor(1.)\n",
      "ACCURACY:  tensor(1.)\n"
     ]
    },
    {
     "name": "stderr",
     "output_type": "stream",
     "text": [
      " 16%|█▌        | 16/101 [00:01<00:06, 12.53it/s]"
     ]
    },
    {
     "name": "stdout",
     "output_type": "stream",
     "text": [
      "ACCURACY:  tensor(1.)\n",
      "ACCURACY:  tensor(1.)\n",
      "ACCURACY:  tensor(0.9844)\n"
     ]
    },
    {
     "name": "stderr",
     "output_type": "stream",
     "text": [
      "\r",
      " 18%|█▊        | 18/101 [00:01<00:06, 12.71it/s]"
     ]
    },
    {
     "name": "stdout",
     "output_type": "stream",
     "text": [
      "ACCURACY:  tensor(1.)\n",
      "ACCURACY:  tensor(1.)\n",
      "ACCURACY:  tensor(1.)\n"
     ]
    },
    {
     "name": "stderr",
     "output_type": "stream",
     "text": [
      " 22%|██▏       | 22/101 [00:01<00:06, 12.10it/s]"
     ]
    },
    {
     "name": "stdout",
     "output_type": "stream",
     "text": [
      "ACCURACY:  tensor(0.9844)\n",
      "ACCURACY:  tensor(0.9844)\n",
      "ACCURACY:  tensor(1.)\n"
     ]
    },
    {
     "name": "stderr",
     "output_type": "stream",
     "text": [
      "\r",
      " 24%|██▍       | 24/101 [00:01<00:06, 12.49it/s]"
     ]
    },
    {
     "name": "stdout",
     "output_type": "stream",
     "text": [
      "ACCURACY:  tensor(0.9688)\n",
      "ACCURACY:  tensor(1.)\n",
      "ACCURACY:  tensor(1.)\n"
     ]
    },
    {
     "name": "stderr",
     "output_type": "stream",
     "text": [
      " 28%|██▊       | 28/101 [00:02<00:05, 13.70it/s]"
     ]
    },
    {
     "name": "stdout",
     "output_type": "stream",
     "text": [
      "ACCURACY:  tensor(0.9531)\n",
      "ACCURACY:  tensor(1.)\n",
      "ACCURACY:  tensor(0.9531)\n",
      "ACCURACY:  tensor(1.)\n"
     ]
    },
    {
     "name": "stderr",
     "output_type": "stream",
     "text": [
      " 32%|███▏      | 32/101 [00:02<00:04, 14.28it/s]"
     ]
    },
    {
     "name": "stdout",
     "output_type": "stream",
     "text": [
      "ACCURACY:  tensor(1.)\n",
      "ACCURACY:  tensor(0.9844)\n",
      "ACCURACY:  tensor(0.9844)\n"
     ]
    },
    {
     "name": "stderr",
     "output_type": "stream",
     "text": [
      " 36%|███▌      | 36/101 [00:02<00:04, 13.18it/s]"
     ]
    },
    {
     "name": "stdout",
     "output_type": "stream",
     "text": [
      "ACCURACY:  tensor(1.)\n",
      "ACCURACY:  tensor(0.9844)\n",
      "ACCURACY:  tensor(0.9688)\n"
     ]
    },
    {
     "name": "stderr",
     "output_type": "stream",
     "text": [
      "\r",
      " 38%|███▊      | 38/101 [00:03<00:05, 11.75it/s]"
     ]
    },
    {
     "name": "stdout",
     "output_type": "stream",
     "text": [
      "ACCURACY:  tensor(1.)\n",
      "ACCURACY:  tensor(1.)\n",
      "ACCURACY:  tensor(0.9688)\n"
     ]
    },
    {
     "name": "stderr",
     "output_type": "stream",
     "text": [
      "\r",
      " 40%|███▉      | 40/101 [00:03<00:04, 12.49it/s]"
     ]
    },
    {
     "name": "stdout",
     "output_type": "stream",
     "text": [
      "ACCURACY:  tensor(0.9844)\n",
      "ACCURACY:  tensor(0.9688)\n",
      "ACCURACY:  tensor(0.9688)\n"
     ]
    },
    {
     "name": "stderr",
     "output_type": "stream",
     "text": [
      " 44%|████▎     | 44/101 [00:03<00:04, 13.97it/s]"
     ]
    },
    {
     "name": "stdout",
     "output_type": "stream",
     "text": [
      "ACCURACY:  tensor(0.9844)\n",
      "ACCURACY:  tensor(0.9688)\n",
      "ACCURACY:  tensor(1.)\n",
      "ACCURACY:  tensor(0.9688)\n"
     ]
    },
    {
     "name": "stderr",
     "output_type": "stream",
     "text": [
      " 48%|████▊     | 48/101 [00:03<00:03, 14.15it/s]"
     ]
    },
    {
     "name": "stdout",
     "output_type": "stream",
     "text": [
      "ACCURACY:  tensor(1.)\n",
      "ACCURACY:  tensor(0.9844)\n",
      "ACCURACY:  tensor(0.9844)\n"
     ]
    },
    {
     "name": "stderr",
     "output_type": "stream",
     "text": [
      " 51%|█████▏    | 52/101 [00:03<00:03, 14.26it/s]"
     ]
    },
    {
     "name": "stdout",
     "output_type": "stream",
     "text": [
      "ACCURACY:  tensor(1.)\n",
      "ACCURACY:  tensor(1.)\n",
      "ACCURACY:  tensor(1.)\n"
     ]
    },
    {
     "name": "stderr",
     "output_type": "stream",
     "text": [
      "\r",
      " 53%|█████▎    | 54/101 [00:04<00:03, 14.10it/s]"
     ]
    },
    {
     "name": "stdout",
     "output_type": "stream",
     "text": [
      "ACCURACY:  tensor(0.9531)\n",
      "ACCURACY:  tensor(0.9688)\n",
      "ACCURACY:  tensor(0.9844)\n"
     ]
    },
    {
     "name": "stderr",
     "output_type": "stream",
     "text": [
      "\r",
      " 55%|█████▌    | 56/101 [00:04<00:03, 13.42it/s]"
     ]
    },
    {
     "name": "stdout",
     "output_type": "stream",
     "text": [
      "ACCURACY:  tensor(0.9844)\n",
      "ACCURACY:  tensor(0.9844)\n",
      "ACCURACY:  tensor(1.)\n"
     ]
    },
    {
     "name": "stderr",
     "output_type": "stream",
     "text": [
      " 59%|█████▉    | 60/101 [00:04<00:03, 13.41it/s]"
     ]
    },
    {
     "name": "stdout",
     "output_type": "stream",
     "text": [
      "ACCURACY:  tensor(0.9844)\n",
      "ACCURACY:  tensor(1.)\n",
      "ACCURACY:  tensor(0.9844)\n"
     ]
    },
    {
     "name": "stderr",
     "output_type": "stream",
     "text": [
      "\r",
      " 61%|██████▏   | 62/101 [00:04<00:03, 12.96it/s]"
     ]
    },
    {
     "name": "stdout",
     "output_type": "stream",
     "text": [
      "ACCURACY:  tensor(0.9688)\n",
      "ACCURACY:  tensor(0.9844)\n",
      "ACCURACY:  tensor(0.9688)\n"
     ]
    },
    {
     "name": "stderr",
     "output_type": "stream",
     "text": [
      " 65%|██████▌   | 66/101 [00:05<00:02, 12.81it/s]"
     ]
    },
    {
     "name": "stdout",
     "output_type": "stream",
     "text": [
      "ACCURACY:  tensor(0.9844)\n",
      "ACCURACY:  tensor(0.9844)\n",
      "ACCURACY:  tensor(0.9844)\n"
     ]
    },
    {
     "name": "stderr",
     "output_type": "stream",
     "text": [
      "\r",
      " 67%|██████▋   | 68/101 [00:05<00:02, 13.51it/s]"
     ]
    },
    {
     "name": "stdout",
     "output_type": "stream",
     "text": [
      "ACCURACY:  tensor(0.9688)\n",
      "ACCURACY:  tensor(0.9062)\n"
     ]
    },
    {
     "name": "stderr",
     "output_type": "stream",
     "text": [
      "\r",
      " 69%|██████▉   | 70/101 [00:05<00:02, 10.74it/s]"
     ]
    },
    {
     "name": "stdout",
     "output_type": "stream",
     "text": [
      "ACCURACY:  tensor(0.9688)\n",
      "ACCURACY:  tensor(1.)\n",
      "ACCURACY:  tensor(0.9844)\n"
     ]
    },
    {
     "name": "stderr",
     "output_type": "stream",
     "text": [
      " 74%|███████▍  | 75/101 [00:05<00:02, 12.99it/s]"
     ]
    },
    {
     "name": "stdout",
     "output_type": "stream",
     "text": [
      "ACCURACY:  tensor(0.9219)\n",
      "ACCURACY:  tensor(1.)\n",
      "ACCURACY:  tensor(0.9531)\n",
      "ACCURACY:  tensor(0.9062)\n"
     ]
    },
    {
     "name": "stderr",
     "output_type": "stream",
     "text": [
      " 78%|███████▊  | 79/101 [00:06<00:01, 13.31it/s]"
     ]
    },
    {
     "name": "stdout",
     "output_type": "stream",
     "text": [
      "ACCURACY:  tensor(1.)\n",
      "ACCURACY:  tensor(0.9844)\n",
      "ACCURACY:  tensor(1.)\n"
     ]
    },
    {
     "name": "stderr",
     "output_type": "stream",
     "text": [
      "\r",
      " 80%|████████  | 81/101 [00:06<00:01, 13.32it/s]"
     ]
    },
    {
     "name": "stdout",
     "output_type": "stream",
     "text": [
      "ACCURACY:  tensor(1.)\n",
      "ACCURACY:  tensor(0.9844)\n",
      "ACCURACY:  tensor(1.)\n"
     ]
    },
    {
     "name": "stderr",
     "output_type": "stream",
     "text": [
      " 84%|████████▍ | 85/101 [00:06<00:01, 14.64it/s]"
     ]
    },
    {
     "name": "stdout",
     "output_type": "stream",
     "text": [
      "ACCURACY:  tensor(0.9688)\n",
      "ACCURACY:  tensor(1.)\n",
      "ACCURACY:  tensor(0.9688)\n"
     ]
    },
    {
     "name": "stderr",
     "output_type": "stream",
     "text": [
      "\r",
      " 86%|████████▌ | 87/101 [00:06<00:00, 14.18it/s]"
     ]
    },
    {
     "name": "stdout",
     "output_type": "stream",
     "text": [
      "ACCURACY:  tensor(0.9844)\n",
      "ACCURACY:  tensor(0.9844)\n",
      "ACCURACY:  tensor(1.)\n"
     ]
    },
    {
     "name": "stderr",
     "output_type": "stream",
     "text": [
      " 90%|█████████ | 91/101 [00:06<00:00, 13.87it/s]"
     ]
    },
    {
     "name": "stdout",
     "output_type": "stream",
     "text": [
      "ACCURACY:  tensor(0.9531)\n",
      "ACCURACY:  tensor(0.9375)\n",
      "ACCURACY:  tensor(0.9844)\n"
     ]
    },
    {
     "name": "stderr",
     "output_type": "stream",
     "text": [
      "\r",
      " 92%|█████████▏| 93/101 [00:07<00:00, 13.20it/s]"
     ]
    },
    {
     "name": "stdout",
     "output_type": "stream",
     "text": [
      "ACCURACY:  tensor(1.)\n",
      "ACCURACY:  tensor(0.9844)\n",
      "ACCURACY:  tensor(0.9531)\n"
     ]
    },
    {
     "name": "stderr",
     "output_type": "stream",
     "text": [
      "\r",
      " 94%|█████████▍| 95/101 [00:07<00:00, 14.20it/s]"
     ]
    },
    {
     "name": "stdout",
     "output_type": "stream",
     "text": [
      "ACCURACY:  tensor(0.9844)\n",
      "ACCURACY:  tensor(0.9531)\n",
      "ACCURACY:  tensor(0.9688)\n"
     ]
    },
    {
     "name": "stderr",
     "output_type": "stream",
     "text": [
      " 98%|█████████▊| 99/101 [00:07<00:00, 14.31it/s]"
     ]
    },
    {
     "name": "stdout",
     "output_type": "stream",
     "text": [
      "ACCURACY:  tensor(0.9844)\n",
      "ACCURACY:  tensor(0.9844)\n",
      "ACCURACY:  tensor(1.)\n",
      "ACCURACY:  tensor(1.)\n"
     ]
    },
    {
     "name": "stderr",
     "output_type": "stream",
     "text": [
      "100%|██████████| 101/101 [00:07<00:00, 13.31it/s]\n"
     ]
    },
    {
     "name": "stdout",
     "output_type": "stream",
     "text": [
      "EPOCH LOSS: \n",
      "  3.401632443439252\n"
     ]
    },
    {
     "name": "stderr",
     "output_type": "stream",
     "text": [
      "  2%|▏         | 2/101 [00:00<00:06, 14.77it/s]"
     ]
    },
    {
     "name": "stdout",
     "output_type": "stream",
     "text": [
      "Epoch: 10, Training Loss: 3.4016, Validation Loss: 5.0038\n",
      "ACCURACY:  tensor(0.9844)\n",
      "ACCURACY:  tensor(0.9844)\n",
      "ACCURACY:  tensor(0.9844)\n"
     ]
    },
    {
     "name": "stderr",
     "output_type": "stream",
     "text": [
      "  6%|▌         | 6/101 [00:00<00:06, 13.74it/s]"
     ]
    },
    {
     "name": "stdout",
     "output_type": "stream",
     "text": [
      "ACCURACY:  tensor(0.9844)\n",
      "ACCURACY:  tensor(0.9844)\n",
      "ACCURACY:  tensor(0.9844)\n"
     ]
    },
    {
     "name": "stderr",
     "output_type": "stream",
     "text": [
      "  9%|▉         | 9/101 [00:00<00:07, 13.07it/s]"
     ]
    },
    {
     "name": "stdout",
     "output_type": "stream",
     "text": [
      "ACCURACY:  tensor(0.9531)\n",
      "ACCURACY:  tensor(0.9688)\n",
      "ACCURACY:  tensor(0.9844)\n"
     ]
    },
    {
     "name": "stderr",
     "output_type": "stream",
     "text": [
      "\r",
      " 11%|█         | 11/101 [00:00<00:06, 13.07it/s]"
     ]
    },
    {
     "name": "stdout",
     "output_type": "stream",
     "text": [
      "ACCURACY:  tensor(0.9844)\n",
      "ACCURACY:  tensor(0.9688)\n",
      "ACCURACY:  tensor(1.)\n"
     ]
    },
    {
     "name": "stderr",
     "output_type": "stream",
     "text": [
      "\r",
      " 13%|█▎        | 13/101 [00:01<00:07, 11.12it/s]"
     ]
    },
    {
     "name": "stdout",
     "output_type": "stream",
     "text": [
      "ACCURACY:  tensor(0.9688)\n",
      "ACCURACY:  tensor(1.)\n"
     ]
    },
    {
     "name": "stderr",
     "output_type": "stream",
     "text": [
      "\r",
      " 15%|█▍        | 15/101 [00:01<00:07, 11.97it/s]"
     ]
    },
    {
     "name": "stdout",
     "output_type": "stream",
     "text": [
      "ACCURACY:  tensor(1.)\n",
      "ACCURACY:  tensor(0.9844)\n",
      "ACCURACY:  tensor(1.)\n"
     ]
    },
    {
     "name": "stderr",
     "output_type": "stream",
     "text": [
      " 19%|█▉        | 19/101 [00:01<00:06, 12.64it/s]"
     ]
    },
    {
     "name": "stdout",
     "output_type": "stream",
     "text": [
      "ACCURACY:  tensor(1.)\n",
      "ACCURACY:  tensor(0.9844)\n",
      "ACCURACY:  tensor(0.9531)\n"
     ]
    },
    {
     "name": "stderr",
     "output_type": "stream",
     "text": [
      " 23%|██▎       | 23/101 [00:01<00:05, 13.75it/s]"
     ]
    },
    {
     "name": "stdout",
     "output_type": "stream",
     "text": [
      "ACCURACY:  tensor(0.9688)\n",
      "ACCURACY:  tensor(0.9844)\n",
      "ACCURACY:  tensor(0.9688)\n",
      "ACCURACY:  tensor(0.9844)\n"
     ]
    },
    {
     "name": "stderr",
     "output_type": "stream",
     "text": [
      " 27%|██▋       | 27/101 [00:02<00:05, 14.40it/s]"
     ]
    },
    {
     "name": "stdout",
     "output_type": "stream",
     "text": [
      "ACCURACY:  tensor(1.)\n",
      "ACCURACY:  tensor(0.9531)\n",
      "ACCURACY:  tensor(1.)\n",
      "ACCURACY:  tensor(0.9688)\n"
     ]
    },
    {
     "name": "stderr",
     "output_type": "stream",
     "text": [
      " 31%|███       | 31/101 [00:02<00:04, 15.15it/s]"
     ]
    },
    {
     "name": "stdout",
     "output_type": "stream",
     "text": [
      "ACCURACY:  tensor(1.)\n",
      "ACCURACY:  tensor(0.9844)\n",
      "ACCURACY:  tensor(1.)\n",
      "ACCURACY:  tensor(0.9844)\n"
     ]
    },
    {
     "name": "stderr",
     "output_type": "stream",
     "text": [
      " 35%|███▍      | 35/101 [00:02<00:04, 14.80it/s]"
     ]
    },
    {
     "name": "stdout",
     "output_type": "stream",
     "text": [
      "ACCURACY:  tensor(0.9844)\n",
      "ACCURACY:  tensor(1.)\n",
      "ACCURACY:  tensor(0.9688)\n"
     ]
    },
    {
     "name": "stderr",
     "output_type": "stream",
     "text": [
      "\r",
      " 37%|███▋      | 37/101 [00:02<00:04, 13.41it/s]"
     ]
    },
    {
     "name": "stdout",
     "output_type": "stream",
     "text": [
      "ACCURACY:  tensor(1.)\n",
      "ACCURACY:  tensor(0.9688)\n",
      "ACCURACY:  tensor(1.)\n"
     ]
    },
    {
     "name": "stderr",
     "output_type": "stream",
     "text": [
      "\r",
      " 39%|███▊      | 39/101 [00:02<00:04, 13.30it/s]"
     ]
    },
    {
     "name": "stdout",
     "output_type": "stream",
     "text": [
      "ACCURACY:  tensor(1.)\n",
      "ACCURACY:  tensor(0.9688)\n",
      "ACCURACY:  tensor(1.)\n"
     ]
    },
    {
     "name": "stderr",
     "output_type": "stream",
     "text": [
      " 43%|████▎     | 43/101 [00:03<00:04, 13.75it/s]"
     ]
    },
    {
     "name": "stdout",
     "output_type": "stream",
     "text": [
      "ACCURACY:  tensor(0.9844)\n",
      "ACCURACY:  tensor(0.9844)\n",
      "ACCURACY:  tensor(0.9531)\n",
      "ACCURACY:  tensor(0.9688)\n"
     ]
    },
    {
     "name": "stderr",
     "output_type": "stream",
     "text": [
      " 47%|████▋     | 47/101 [00:03<00:04, 13.17it/s]"
     ]
    },
    {
     "name": "stdout",
     "output_type": "stream",
     "text": [
      "ACCURACY:  tensor(1.)\n",
      "ACCURACY:  tensor(0.9375)\n",
      "ACCURACY:  tensor(1.)\n"
     ]
    },
    {
     "name": "stderr",
     "output_type": "stream",
     "text": [
      " 50%|█████     | 51/101 [00:03<00:03, 14.07it/s]"
     ]
    },
    {
     "name": "stdout",
     "output_type": "stream",
     "text": [
      "ACCURACY:  tensor(0.9844)\n",
      "ACCURACY:  tensor(0.9844)\n",
      "ACCURACY:  tensor(1.)\n",
      "ACCURACY:  tensor(1.)\n"
     ]
    },
    {
     "name": "stderr",
     "output_type": "stream",
     "text": [
      "\r",
      " 52%|█████▏    | 53/101 [00:03<00:03, 14.29it/s]"
     ]
    },
    {
     "name": "stdout",
     "output_type": "stream",
     "text": [
      "ACCURACY:  tensor(1.)\n",
      "ACCURACY:  tensor(1.)\n",
      "ACCURACY:  tensor(0.9844)\n"
     ]
    },
    {
     "name": "stderr",
     "output_type": "stream",
     "text": [
      " 56%|█████▋    | 57/101 [00:04<00:03, 12.88it/s]"
     ]
    },
    {
     "name": "stdout",
     "output_type": "stream",
     "text": [
      "ACCURACY:  tensor(0.9844)\n",
      "ACCURACY:  tensor(1.)\n",
      "ACCURACY:  tensor(0.9688)\n"
     ]
    },
    {
     "name": "stderr",
     "output_type": "stream",
     "text": [
      " 60%|██████    | 61/101 [00:04<00:02, 14.72it/s]"
     ]
    },
    {
     "name": "stdout",
     "output_type": "stream",
     "text": [
      "ACCURACY:  tensor(0.9531)\n",
      "ACCURACY:  tensor(0.9844)\n",
      "ACCURACY:  tensor(0.9688)\n",
      "ACCURACY:  tensor(0.9844)\n"
     ]
    },
    {
     "name": "stderr",
     "output_type": "stream",
     "text": [
      " 64%|██████▍   | 65/101 [00:04<00:02, 14.82it/s]"
     ]
    },
    {
     "name": "stdout",
     "output_type": "stream",
     "text": [
      "ACCURACY:  tensor(1.)\n",
      "ACCURACY:  tensor(1.)\n",
      "ACCURACY:  tensor(0.9844)\n",
      "ACCURACY:  tensor(1.)\n"
     ]
    },
    {
     "name": "stderr",
     "output_type": "stream",
     "text": [
      " 68%|██████▊   | 69/101 [00:05<00:02, 15.04it/s]"
     ]
    },
    {
     "name": "stdout",
     "output_type": "stream",
     "text": [
      "ACCURACY:  tensor(0.9844)\n",
      "ACCURACY:  tensor(0.9844)\n",
      "ACCURACY:  tensor(1.)\n"
     ]
    },
    {
     "name": "stderr",
     "output_type": "stream",
     "text": [
      "\r",
      " 70%|███████   | 71/101 [00:05<00:02, 12.73it/s]"
     ]
    },
    {
     "name": "stdout",
     "output_type": "stream",
     "text": [
      "ACCURACY:  tensor(0.9531)\n",
      "ACCURACY:  tensor(0.9688)\n",
      "ACCURACY:  tensor(0.9375)\n"
     ]
    },
    {
     "name": "stderr",
     "output_type": "stream",
     "text": [
      " 74%|███████▍  | 75/101 [00:05<00:01, 13.88it/s]"
     ]
    },
    {
     "name": "stdout",
     "output_type": "stream",
     "text": [
      "ACCURACY:  tensor(0.9844)\n",
      "ACCURACY:  tensor(0.9844)\n",
      "ACCURACY:  tensor(0.9531)\n",
      "ACCURACY:  tensor(0.9531)\n"
     ]
    },
    {
     "name": "stderr",
     "output_type": "stream",
     "text": [
      " 78%|███████▊  | 79/101 [00:05<00:01, 14.55it/s]"
     ]
    },
    {
     "name": "stdout",
     "output_type": "stream",
     "text": [
      "ACCURACY:  tensor(0.9844)\n",
      "ACCURACY:  tensor(0.9375)\n",
      "ACCURACY:  tensor(0.9844)\n",
      "ACCURACY:  tensor(0.9844)\n"
     ]
    },
    {
     "name": "stderr",
     "output_type": "stream",
     "text": [
      "\r",
      " 80%|████████  | 81/101 [00:05<00:01, 14.44it/s]"
     ]
    },
    {
     "name": "stdout",
     "output_type": "stream",
     "text": [
      "ACCURACY:  tensor(0.9844)\n",
      "ACCURACY:  tensor(1.)\n",
      "ACCURACY:  tensor(1.)\n"
     ]
    },
    {
     "name": "stderr",
     "output_type": "stream",
     "text": [
      " 84%|████████▍ | 85/101 [00:06<00:01, 12.77it/s]"
     ]
    },
    {
     "name": "stdout",
     "output_type": "stream",
     "text": [
      "ACCURACY:  tensor(0.9844)\n",
      "ACCURACY:  tensor(0.9688)\n",
      "ACCURACY:  tensor(0.9844)\n"
     ]
    },
    {
     "name": "stderr",
     "output_type": "stream",
     "text": [
      "\r",
      " 86%|████████▌ | 87/101 [00:06<00:01, 13.82it/s]"
     ]
    },
    {
     "name": "stdout",
     "output_type": "stream",
     "text": [
      "ACCURACY:  tensor(1.)\n",
      "ACCURACY:  tensor(0.9844)\n",
      "ACCURACY:  tensor(0.9844)\n"
     ]
    },
    {
     "name": "stderr",
     "output_type": "stream",
     "text": [
      " 90%|█████████ | 91/101 [00:06<00:00, 12.71it/s]"
     ]
    },
    {
     "name": "stdout",
     "output_type": "stream",
     "text": [
      "ACCURACY:  tensor(0.9844)\n",
      "ACCURACY:  tensor(0.9688)\n",
      "ACCURACY:  tensor(0.9688)\n"
     ]
    },
    {
     "name": "stderr",
     "output_type": "stream",
     "text": [
      " 94%|█████████▍| 95/101 [00:06<00:00, 13.51it/s]"
     ]
    },
    {
     "name": "stdout",
     "output_type": "stream",
     "text": [
      "ACCURACY:  tensor(0.9844)\n",
      "ACCURACY:  tensor(1.)\n",
      "ACCURACY:  tensor(0.9844)\n"
     ]
    },
    {
     "name": "stderr",
     "output_type": "stream",
     "text": [
      "\r",
      " 96%|█████████▌| 97/101 [00:07<00:00, 14.01it/s]"
     ]
    },
    {
     "name": "stdout",
     "output_type": "stream",
     "text": [
      "ACCURACY:  tensor(1.)\n",
      "ACCURACY:  tensor(0.9531)\n",
      "ACCURACY:  tensor(0.9844)\n"
     ]
    },
    {
     "name": "stderr",
     "output_type": "stream",
     "text": [
      "100%|██████████| 101/101 [00:07<00:00, 13.72it/s]"
     ]
    },
    {
     "name": "stdout",
     "output_type": "stream",
     "text": [
      "ACCURACY:  tensor(1.)\n",
      "ACCURACY:  tensor(0.9375)\n",
      "ACCURACY:  tensor(0.9643)\n",
      "EPOCH LOSS: \n",
      "  3.0903130700387575\n"
     ]
    },
    {
     "name": "stderr",
     "output_type": "stream",
     "text": [
      "\n",
      "  2%|▏         | 2/101 [00:00<00:07, 13.18it/s]"
     ]
    },
    {
     "name": "stdout",
     "output_type": "stream",
     "text": [
      "Epoch: 11, Training Loss: 3.0903, Validation Loss: 4.9944\n",
      "ACCURACY:  tensor(0.9844)\n",
      "ACCURACY:  tensor(1.)\n",
      "ACCURACY:  tensor(0.9844)\n"
     ]
    },
    {
     "name": "stderr",
     "output_type": "stream",
     "text": [
      "\r",
      "  4%|▍         | 4/101 [00:00<00:07, 12.91it/s]"
     ]
    },
    {
     "name": "stdout",
     "output_type": "stream",
     "text": [
      "ACCURACY:  tensor(0.9844)\n",
      "ACCURACY:  tensor(0.9688)\n",
      "ACCURACY:  tensor(0.9688)\n"
     ]
    },
    {
     "name": "stderr",
     "output_type": "stream",
     "text": [
      "  8%|▊         | 8/101 [00:00<00:07, 12.47it/s]"
     ]
    },
    {
     "name": "stdout",
     "output_type": "stream",
     "text": [
      "ACCURACY:  tensor(0.9844)\n",
      "ACCURACY:  tensor(1.)\n",
      "ACCURACY:  tensor(0.9844)\n"
     ]
    },
    {
     "name": "stderr",
     "output_type": "stream",
     "text": [
      " 12%|█▏        | 12/101 [00:00<00:06, 14.14it/s]"
     ]
    },
    {
     "name": "stdout",
     "output_type": "stream",
     "text": [
      "ACCURACY:  tensor(0.9688)\n",
      "ACCURACY:  tensor(1.)\n",
      "ACCURACY:  tensor(0.9844)\n",
      "ACCURACY:  tensor(1.)\n"
     ]
    },
    {
     "name": "stderr",
     "output_type": "stream",
     "text": [
      " 16%|█▌        | 16/101 [00:01<00:05, 14.42it/s]"
     ]
    },
    {
     "name": "stdout",
     "output_type": "stream",
     "text": [
      "ACCURACY:  tensor(0.9531)\n",
      "ACCURACY:  tensor(1.)\n",
      "ACCURACY:  tensor(0.9844)\n"
     ]
    },
    {
     "name": "stderr",
     "output_type": "stream",
     "text": [
      "\r",
      " 18%|█▊        | 18/101 [00:01<00:06, 13.21it/s]"
     ]
    },
    {
     "name": "stdout",
     "output_type": "stream",
     "text": [
      "ACCURACY:  tensor(0.9844)\n",
      "ACCURACY:  tensor(1.)\n",
      "ACCURACY:  tensor(0.9688)\n"
     ]
    },
    {
     "name": "stderr",
     "output_type": "stream",
     "text": [
      " 22%|██▏       | 22/101 [00:01<00:05, 13.63it/s]"
     ]
    },
    {
     "name": "stdout",
     "output_type": "stream",
     "text": [
      "ACCURACY:  tensor(0.9688)\n",
      "ACCURACY:  tensor(0.9688)\n",
      "ACCURACY:  tensor(0.9844)\n",
      "ACCURACY:  tensor(0.9688)\n"
     ]
    },
    {
     "name": "stderr",
     "output_type": "stream",
     "text": [
      "\r",
      " 24%|██▍       | 24/101 [00:01<00:05, 13.70it/s]"
     ]
    },
    {
     "name": "stdout",
     "output_type": "stream",
     "text": [
      "ACCURACY:  tensor(0.9688)\n",
      "ACCURACY:  tensor(0.9688)\n",
      "ACCURACY:  tensor(0.9688)\n"
     ]
    },
    {
     "name": "stderr",
     "output_type": "stream",
     "text": [
      " 28%|██▊       | 28/101 [00:02<00:05, 12.63it/s]"
     ]
    },
    {
     "name": "stdout",
     "output_type": "stream",
     "text": [
      "ACCURACY:  tensor(1.)\n",
      "ACCURACY:  tensor(1.)\n",
      "ACCURACY:  tensor(0.9844)\n"
     ]
    },
    {
     "name": "stderr",
     "output_type": "stream",
     "text": [
      " 32%|███▏      | 32/101 [00:02<00:05, 13.57it/s]"
     ]
    },
    {
     "name": "stdout",
     "output_type": "stream",
     "text": [
      "ACCURACY:  tensor(1.)\n",
      "ACCURACY:  tensor(0.9531)\n",
      "ACCURACY:  tensor(1.)\n"
     ]
    },
    {
     "name": "stderr",
     "output_type": "stream",
     "text": [
      "\r",
      " 34%|███▎      | 34/101 [00:02<00:05, 11.28it/s]"
     ]
    },
    {
     "name": "stdout",
     "output_type": "stream",
     "text": [
      "ACCURACY:  tensor(0.9688)\n",
      "ACCURACY:  tensor(0.9844)\n"
     ]
    },
    {
     "name": "stderr",
     "output_type": "stream",
     "text": [
      "\r",
      " 36%|███▌      | 36/101 [00:02<00:05, 11.94it/s]"
     ]
    },
    {
     "name": "stdout",
     "output_type": "stream",
     "text": [
      "ACCURACY:  tensor(0.9844)\n",
      "ACCURACY:  tensor(0.9688)\n",
      "ACCURACY:  tensor(0.9844)\n"
     ]
    },
    {
     "name": "stderr",
     "output_type": "stream",
     "text": [
      " 40%|███▉      | 40/101 [00:03<00:04, 13.74it/s]"
     ]
    },
    {
     "name": "stdout",
     "output_type": "stream",
     "text": [
      "ACCURACY:  tensor(0.9688)\n",
      "ACCURACY:  tensor(0.9844)\n",
      "ACCURACY:  tensor(0.9844)\n",
      "ACCURACY:  tensor(0.9688)\n"
     ]
    },
    {
     "name": "stderr",
     "output_type": "stream",
     "text": [
      " 44%|████▎     | 44/101 [00:03<00:03, 14.33it/s]"
     ]
    },
    {
     "name": "stdout",
     "output_type": "stream",
     "text": [
      "ACCURACY:  tensor(0.9844)\n",
      "ACCURACY:  tensor(0.9844)\n",
      "ACCURACY:  tensor(1.)\n",
      "ACCURACY:  tensor(0.9688)\n"
     ]
    },
    {
     "name": "stderr",
     "output_type": "stream",
     "text": [
      " 48%|████▊     | 48/101 [00:03<00:03, 13.98it/s]"
     ]
    },
    {
     "name": "stdout",
     "output_type": "stream",
     "text": [
      "ACCURACY:  tensor(1.)\n",
      "ACCURACY:  tensor(0.9688)\n",
      "ACCURACY:  tensor(0.9531)\n"
     ]
    },
    {
     "name": "stderr",
     "output_type": "stream",
     "text": [
      "\r",
      " 50%|████▉     | 50/101 [00:03<00:03, 13.44it/s]"
     ]
    },
    {
     "name": "stdout",
     "output_type": "stream",
     "text": [
      "ACCURACY:  tensor(1.)\n",
      "ACCURACY:  tensor(0.9844)\n",
      "ACCURACY:  tensor(1.)\n"
     ]
    },
    {
     "name": "stderr",
     "output_type": "stream",
     "text": [
      "\r",
      " 51%|█████▏    | 52/101 [00:03<00:03, 12.93it/s]"
     ]
    },
    {
     "name": "stdout",
     "output_type": "stream",
     "text": [
      "ACCURACY:  tensor(0.9844)\n",
      "ACCURACY:  tensor(1.)\n",
      "ACCURACY:  tensor(0.9688)\n"
     ]
    },
    {
     "name": "stderr",
     "output_type": "stream",
     "text": [
      " 55%|█████▌    | 56/101 [00:04<00:03, 12.56it/s]"
     ]
    },
    {
     "name": "stdout",
     "output_type": "stream",
     "text": [
      "ACCURACY:  tensor(0.9688)\n",
      "ACCURACY:  tensor(1.)\n",
      "ACCURACY:  tensor(0.9844)\n"
     ]
    },
    {
     "name": "stderr",
     "output_type": "stream",
     "text": [
      " 59%|█████▉    | 60/101 [00:04<00:03, 13.16it/s]"
     ]
    },
    {
     "name": "stdout",
     "output_type": "stream",
     "text": [
      "ACCURACY:  tensor(0.9844)\n",
      "ACCURACY:  tensor(0.9844)\n",
      "ACCURACY:  tensor(0.9844)\n",
      "ACCURACY:  tensor(1.)\n"
     ]
    },
    {
     "name": "stderr",
     "output_type": "stream",
     "text": [
      " 63%|██████▎   | 64/101 [00:04<00:02, 13.40it/s]"
     ]
    },
    {
     "name": "stdout",
     "output_type": "stream",
     "text": [
      "ACCURACY:  tensor(0.9844)\n",
      "ACCURACY:  tensor(1.)\n",
      "ACCURACY:  tensor(1.)\n"
     ]
    },
    {
     "name": "stderr",
     "output_type": "stream",
     "text": [
      "\r",
      " 65%|██████▌   | 66/101 [00:05<00:02, 13.49it/s]"
     ]
    },
    {
     "name": "stdout",
     "output_type": "stream",
     "text": [
      "ACCURACY:  tensor(0.9844)\n",
      "ACCURACY:  tensor(0.9688)\n",
      "ACCURACY:  tensor(0.9844)\n",
      "ACCURACY:  tensor(0.9844)\n"
     ]
    },
    {
     "name": "stderr",
     "output_type": "stream",
     "text": [
      " 69%|██████▉   | 70/101 [00:05<00:02, 14.15it/s]"
     ]
    },
    {
     "name": "stdout",
     "output_type": "stream",
     "text": [
      "ACCURACY:  tensor(1.)\n",
      "ACCURACY:  tensor(1.)\n",
      "ACCURACY:  tensor(0.9844)\n"
     ]
    },
    {
     "name": "stderr",
     "output_type": "stream",
     "text": [
      " 73%|███████▎  | 74/101 [00:05<00:01, 14.08it/s]"
     ]
    },
    {
     "name": "stdout",
     "output_type": "stream",
     "text": [
      "ACCURACY:  tensor(0.9844)\n",
      "ACCURACY:  tensor(0.9688)\n",
      "ACCURACY:  tensor(0.9688)\n"
     ]
    },
    {
     "name": "stderr",
     "output_type": "stream",
     "text": [
      "\r",
      " 75%|███████▌  | 76/101 [00:05<00:01, 13.99it/s]"
     ]
    },
    {
     "name": "stdout",
     "output_type": "stream",
     "text": [
      "ACCURACY:  tensor(1.)\n",
      "ACCURACY:  tensor(1.)\n",
      "ACCURACY:  tensor(1.)\n"
     ]
    },
    {
     "name": "stderr",
     "output_type": "stream",
     "text": [
      "\r",
      " 77%|███████▋  | 78/101 [00:05<00:01, 13.90it/s]"
     ]
    },
    {
     "name": "stdout",
     "output_type": "stream",
     "text": [
      "ACCURACY:  tensor(0.9844)\n",
      "ACCURACY:  tensor(1.)\n",
      "ACCURACY:  tensor(1.)\n"
     ]
    },
    {
     "name": "stderr",
     "output_type": "stream",
     "text": [
      " 81%|████████  | 82/101 [00:06<00:01, 13.88it/s]"
     ]
    },
    {
     "name": "stdout",
     "output_type": "stream",
     "text": [
      "ACCURACY:  tensor(1.)\n",
      "ACCURACY:  tensor(0.9531)\n",
      "ACCURACY:  tensor(0.9688)\n"
     ]
    },
    {
     "name": "stderr",
     "output_type": "stream",
     "text": [
      "\r",
      " 83%|████████▎ | 84/101 [00:06<00:01, 12.88it/s]"
     ]
    },
    {
     "name": "stdout",
     "output_type": "stream",
     "text": [
      "ACCURACY:  tensor(1.)\n",
      "ACCURACY:  tensor(1.)\n",
      "ACCURACY:  tensor(1.)\n"
     ]
    },
    {
     "name": "stderr",
     "output_type": "stream",
     "text": [
      " 87%|████████▋ | 88/101 [00:06<00:00, 13.59it/s]"
     ]
    },
    {
     "name": "stdout",
     "output_type": "stream",
     "text": [
      "ACCURACY:  tensor(0.9844)\n",
      "ACCURACY:  tensor(0.9688)\n",
      "ACCURACY:  tensor(0.9844)\n",
      "ACCURACY:  tensor(1.)\n"
     ]
    },
    {
     "name": "stderr",
     "output_type": "stream",
     "text": [
      " 91%|█████████ | 92/101 [00:06<00:00, 14.35it/s]"
     ]
    },
    {
     "name": "stdout",
     "output_type": "stream",
     "text": [
      "ACCURACY:  tensor(1.)\n",
      "ACCURACY:  tensor(0.9844)\n",
      "ACCURACY:  tensor(0.9531)\n",
      "ACCURACY:  tensor(1.)\n"
     ]
    },
    {
     "name": "stderr",
     "output_type": "stream",
     "text": [
      " 95%|█████████▌| 96/101 [00:07<00:00, 14.30it/s]"
     ]
    },
    {
     "name": "stdout",
     "output_type": "stream",
     "text": [
      "ACCURACY:  tensor(0.9844)\n",
      "ACCURACY:  tensor(0.9688)\n",
      "ACCURACY:  tensor(0.9688)\n"
     ]
    },
    {
     "name": "stderr",
     "output_type": "stream",
     "text": [
      "\r",
      " 97%|█████████▋| 98/101 [00:07<00:00, 13.58it/s]"
     ]
    },
    {
     "name": "stdout",
     "output_type": "stream",
     "text": [
      "ACCURACY:  tensor(1.)\n",
      "ACCURACY:  tensor(1.)\n",
      "ACCURACY:  tensor(1.)\n"
     ]
    },
    {
     "name": "stderr",
     "output_type": "stream",
     "text": [
      "100%|██████████| 101/101 [00:07<00:00, 13.45it/s]\n"
     ]
    },
    {
     "name": "stdout",
     "output_type": "stream",
     "text": [
      "ACCURACY:  tensor(1.)\n",
      "EPOCH LOSS: \n",
      "  3.0201787320841658\n"
     ]
    },
    {
     "name": "stderr",
     "output_type": "stream",
     "text": [
      "  2%|▏         | 2/101 [00:00<00:07, 13.12it/s]"
     ]
    },
    {
     "name": "stdout",
     "output_type": "stream",
     "text": [
      "Epoch: 12, Training Loss: 3.0202, Validation Loss: 5.0477\n",
      "ACCURACY:  tensor(1.)\n",
      "ACCURACY:  tensor(1.)\n",
      "ACCURACY:  tensor(0.9844)\n"
     ]
    },
    {
     "name": "stderr",
     "output_type": "stream",
     "text": [
      "\r",
      "  4%|▍         | 4/101 [00:00<00:07, 12.45it/s]"
     ]
    },
    {
     "name": "stdout",
     "output_type": "stream",
     "text": [
      "ACCURACY:  tensor(0.9688)\n",
      "ACCURACY:  tensor(0.9844)\n",
      "ACCURACY:  tensor(1.)\n"
     ]
    },
    {
     "name": "stderr",
     "output_type": "stream",
     "text": [
      "  8%|▊         | 8/101 [00:00<00:06, 13.64it/s]"
     ]
    },
    {
     "name": "stdout",
     "output_type": "stream",
     "text": [
      "ACCURACY:  tensor(0.9688)\n",
      "ACCURACY:  tensor(0.9688)\n",
      "ACCURACY:  tensor(1.)\n"
     ]
    },
    {
     "name": "stderr",
     "output_type": "stream",
     "text": [
      " 12%|█▏        | 12/101 [00:00<00:06, 13.68it/s]"
     ]
    },
    {
     "name": "stdout",
     "output_type": "stream",
     "text": [
      "ACCURACY:  tensor(1.)\n",
      "ACCURACY:  tensor(0.9844)\n",
      "ACCURACY:  tensor(1.)\n",
      "ACCURACY:  tensor(0.9531)\n",
      "ACCURACY:  tensor(0.9844)\n"
     ]
    },
    {
     "name": "stderr",
     "output_type": "stream",
     "text": [
      " 16%|█▌        | 16/101 [00:01<00:06, 12.99it/s]"
     ]
    },
    {
     "name": "stdout",
     "output_type": "stream",
     "text": [
      "ACCURACY:  tensor(0.9844)\n",
      "ACCURACY:  tensor(0.9844)\n",
      "ACCURACY:  tensor(0.9844)\n",
      "ACCURACY:  tensor(0.9844)\n"
     ]
    },
    {
     "name": "stderr",
     "output_type": "stream",
     "text": [
      " 20%|█▉        | 20/101 [00:01<00:05, 14.48it/s]"
     ]
    },
    {
     "name": "stdout",
     "output_type": "stream",
     "text": [
      "ACCURACY:  tensor(1.)\n",
      "ACCURACY:  tensor(0.9844)\n",
      "ACCURACY:  tensor(0.9531)\n",
      "ACCURACY:  tensor(1.)\n"
     ]
    },
    {
     "name": "stderr",
     "output_type": "stream",
     "text": [
      " 24%|██▍       | 24/101 [00:01<00:05, 13.71it/s]"
     ]
    },
    {
     "name": "stdout",
     "output_type": "stream",
     "text": [
      "ACCURACY:  tensor(0.9844)\n",
      "ACCURACY:  tensor(0.9844)\n",
      "ACCURACY:  tensor(0.9688)\n"
     ]
    },
    {
     "name": "stderr",
     "output_type": "stream",
     "text": [
      "\r",
      " 26%|██▌       | 26/101 [00:01<00:05, 13.79it/s]"
     ]
    },
    {
     "name": "stdout",
     "output_type": "stream",
     "text": [
      "ACCURACY:  tensor(0.9844)\n",
      "ACCURACY:  tensor(0.9688)\n",
      "ACCURACY:  tensor(1.)\n"
     ]
    },
    {
     "name": "stderr",
     "output_type": "stream",
     "text": [
      " 30%|██▉       | 30/101 [00:02<00:05, 13.37it/s]"
     ]
    },
    {
     "name": "stdout",
     "output_type": "stream",
     "text": [
      "ACCURACY:  tensor(0.9688)\n",
      "ACCURACY:  tensor(0.9844)\n",
      "ACCURACY:  tensor(0.9844)\n"
     ]
    },
    {
     "name": "stderr",
     "output_type": "stream",
     "text": [
      "\r",
      " 32%|███▏      | 32/101 [00:02<00:05, 13.45it/s]"
     ]
    },
    {
     "name": "stdout",
     "output_type": "stream",
     "text": [
      "ACCURACY:  tensor(1.)\n",
      "ACCURACY:  tensor(1.)\n",
      "ACCURACY:  tensor(0.9531)\n"
     ]
    },
    {
     "name": "stderr",
     "output_type": "stream",
     "text": [
      " 36%|███▌      | 36/101 [00:02<00:04, 13.79it/s]"
     ]
    },
    {
     "name": "stdout",
     "output_type": "stream",
     "text": [
      "ACCURACY:  tensor(0.9688)\n",
      "ACCURACY:  tensor(1.)\n",
      "ACCURACY:  tensor(1.)\n",
      "ACCURACY:  tensor(1.)\n"
     ]
    },
    {
     "name": "stderr",
     "output_type": "stream",
     "text": [
      " 40%|███▉      | 40/101 [00:02<00:04, 14.61it/s]"
     ]
    },
    {
     "name": "stdout",
     "output_type": "stream",
     "text": [
      "ACCURACY:  tensor(0.9688)\n",
      "ACCURACY:  tensor(1.)\n",
      "ACCURACY:  tensor(0.9844)\n"
     ]
    },
    {
     "name": "stderr",
     "output_type": "stream",
     "text": [
      "\r",
      " 42%|████▏     | 42/101 [00:03<00:04, 12.35it/s]"
     ]
    },
    {
     "name": "stdout",
     "output_type": "stream",
     "text": [
      "ACCURACY:  tensor(0.9844)\n",
      "ACCURACY:  tensor(0.9688)\n",
      "ACCURACY:  tensor(0.9844)\n"
     ]
    },
    {
     "name": "stderr",
     "output_type": "stream",
     "text": [
      " 46%|████▌     | 46/101 [00:03<00:04, 12.26it/s]"
     ]
    },
    {
     "name": "stdout",
     "output_type": "stream",
     "text": [
      "ACCURACY:  tensor(1.)\n",
      "ACCURACY:  tensor(1.)\n",
      "ACCURACY:  tensor(1.)\n"
     ]
    },
    {
     "name": "stderr",
     "output_type": "stream",
     "text": [
      " 50%|████▉     | 50/101 [00:03<00:03, 13.04it/s]"
     ]
    },
    {
     "name": "stdout",
     "output_type": "stream",
     "text": [
      "ACCURACY:  tensor(1.)\n",
      "ACCURACY:  tensor(0.9688)\n",
      "ACCURACY:  tensor(0.9844)\n"
     ]
    },
    {
     "name": "stderr",
     "output_type": "stream",
     "text": [
      "\r",
      " 51%|█████▏    | 52/101 [00:03<00:03, 12.28it/s]"
     ]
    },
    {
     "name": "stdout",
     "output_type": "stream",
     "text": [
      "ACCURACY:  tensor(1.)\n",
      "ACCURACY:  tensor(0.9688)\n",
      "ACCURACY:  tensor(0.9844)\n"
     ]
    },
    {
     "name": "stderr",
     "output_type": "stream",
     "text": [
      "\r",
      " 53%|█████▎    | 54/101 [00:04<00:04, 11.55it/s]"
     ]
    },
    {
     "name": "stdout",
     "output_type": "stream",
     "text": [
      "ACCURACY:  tensor(1.)\n",
      "ACCURACY:  tensor(1.)\n",
      "ACCURACY:  tensor(0.9688)\n"
     ]
    },
    {
     "name": "stderr",
     "output_type": "stream",
     "text": [
      " 57%|█████▋    | 58/101 [00:04<00:03, 12.01it/s]"
     ]
    },
    {
     "name": "stdout",
     "output_type": "stream",
     "text": [
      "ACCURACY:  tensor(0.9688)\n",
      "ACCURACY:  tensor(0.9844)\n",
      "ACCURACY:  tensor(1.)\n"
     ]
    },
    {
     "name": "stderr",
     "output_type": "stream",
     "text": [
      "\r",
      " 59%|█████▉    | 60/101 [00:04<00:03, 12.70it/s]"
     ]
    },
    {
     "name": "stdout",
     "output_type": "stream",
     "text": [
      "ACCURACY:  tensor(0.9844)\n",
      "ACCURACY:  tensor(1.)\n",
      "ACCURACY:  tensor(0.9844)\n"
     ]
    },
    {
     "name": "stderr",
     "output_type": "stream",
     "text": [
      " 63%|██████▎   | 64/101 [00:04<00:02, 13.29it/s]"
     ]
    },
    {
     "name": "stdout",
     "output_type": "stream",
     "text": [
      "ACCURACY:  tensor(1.)\n",
      "ACCURACY:  tensor(0.9531)\n",
      "ACCURACY:  tensor(1.)\n"
     ]
    },
    {
     "name": "stderr",
     "output_type": "stream",
     "text": [
      " 67%|██████▋   | 68/101 [00:05<00:02, 14.33it/s]"
     ]
    },
    {
     "name": "stdout",
     "output_type": "stream",
     "text": [
      "ACCURACY:  tensor(0.9844)\n",
      "ACCURACY:  tensor(1.)\n",
      "ACCURACY:  tensor(0.9688)\n",
      "ACCURACY:  tensor(1.)\n"
     ]
    },
    {
     "name": "stderr",
     "output_type": "stream",
     "text": [
      " 71%|███████▏  | 72/101 [00:05<00:01, 15.71it/s]"
     ]
    },
    {
     "name": "stdout",
     "output_type": "stream",
     "text": [
      "ACCURACY:  tensor(0.9844)\n",
      "ACCURACY:  tensor(1.)\n",
      "ACCURACY:  tensor(0.9844)\n",
      "ACCURACY:  tensor(0.9688)\n"
     ]
    },
    {
     "name": "stderr",
     "output_type": "stream",
     "text": [
      " 75%|███████▌  | 76/101 [00:05<00:01, 14.98it/s]"
     ]
    },
    {
     "name": "stdout",
     "output_type": "stream",
     "text": [
      "ACCURACY:  tensor(0.9844)\n",
      "ACCURACY:  tensor(1.)\n",
      "ACCURACY:  tensor(1.)\n"
     ]
    },
    {
     "name": "stderr",
     "output_type": "stream",
     "text": [
      "\r",
      " 77%|███████▋  | 78/101 [00:05<00:01, 15.09it/s]"
     ]
    },
    {
     "name": "stdout",
     "output_type": "stream",
     "text": [
      "ACCURACY:  tensor(1.)\n",
      "ACCURACY:  tensor(1.)\n",
      "ACCURACY:  tensor(1.)\n",
      "ACCURACY:  tensor(1.)\n"
     ]
    },
    {
     "name": "stderr",
     "output_type": "stream",
     "text": [
      " 81%|████████  | 82/101 [00:06<00:01, 15.10it/s]"
     ]
    },
    {
     "name": "stdout",
     "output_type": "stream",
     "text": [
      "ACCURACY:  tensor(0.9844)\n",
      "ACCURACY:  tensor(0.9844)\n",
      "ACCURACY:  tensor(0.9844)\n"
     ]
    },
    {
     "name": "stderr",
     "output_type": "stream",
     "text": [
      "\r",
      " 83%|████████▎ | 84/101 [00:06<00:01, 14.26it/s]"
     ]
    },
    {
     "name": "stdout",
     "output_type": "stream",
     "text": [
      "ACCURACY:  tensor(1.)\n",
      "ACCURACY:  tensor(0.9844)\n",
      "ACCURACY:  tensor(0.9688)\n"
     ]
    },
    {
     "name": "stderr",
     "output_type": "stream",
     "text": [
      " 87%|████████▋ | 88/101 [00:06<00:00, 14.13it/s]"
     ]
    },
    {
     "name": "stdout",
     "output_type": "stream",
     "text": [
      "ACCURACY:  tensor(0.9531)\n",
      "ACCURACY:  tensor(0.9844)\n",
      "ACCURACY:  tensor(1.)\n"
     ]
    },
    {
     "name": "stderr",
     "output_type": "stream",
     "text": [
      "\r",
      " 89%|████████▉ | 90/101 [00:06<00:00, 13.23it/s]"
     ]
    },
    {
     "name": "stdout",
     "output_type": "stream",
     "text": [
      "ACCURACY:  tensor(1.)\n",
      "ACCURACY:  tensor(1.)\n",
      "ACCURACY:  tensor(0.9844)\n"
     ]
    },
    {
     "name": "stderr",
     "output_type": "stream",
     "text": [
      " 93%|█████████▎| 94/101 [00:07<00:00, 13.58it/s]"
     ]
    },
    {
     "name": "stdout",
     "output_type": "stream",
     "text": [
      "ACCURACY:  tensor(0.9844)\n",
      "ACCURACY:  tensor(0.9844)\n",
      "ACCURACY:  tensor(0.9531)\n",
      "ACCURACY:  tensor(0.9688)\n"
     ]
    },
    {
     "name": "stderr",
     "output_type": "stream",
     "text": [
      " 97%|█████████▋| 98/101 [00:07<00:00, 13.37it/s]"
     ]
    },
    {
     "name": "stdout",
     "output_type": "stream",
     "text": [
      "ACCURACY:  tensor(1.)\n",
      "ACCURACY:  tensor(1.)\n",
      "ACCURACY:  tensor(0.9844)\n"
     ]
    },
    {
     "name": "stderr",
     "output_type": "stream",
     "text": [
      "100%|██████████| 101/101 [00:07<00:00, 13.37it/s]"
     ]
    },
    {
     "name": "stdout",
     "output_type": "stream",
     "text": [
      "ACCURACY:  tensor(1.)\n",
      "ACCURACY:  tensor(1.)\n",
      "EPOCH LOSS: \n",
      "  2.795801506737376\n"
     ]
    },
    {
     "name": "stderr",
     "output_type": "stream",
     "text": [
      "\n",
      "  2%|▏         | 2/101 [00:00<00:08, 11.38it/s]"
     ]
    },
    {
     "name": "stdout",
     "output_type": "stream",
     "text": [
      "Epoch: 13, Training Loss: 2.7958, Validation Loss: 5.0640\n",
      "ACCURACY:  tensor(1.)\n",
      "ACCURACY:  tensor(1.)\n",
      "ACCURACY:  tensor(1.)\n"
     ]
    },
    {
     "name": "stderr",
     "output_type": "stream",
     "text": [
      "  6%|▌         | 6/101 [00:00<00:07, 12.40it/s]"
     ]
    },
    {
     "name": "stdout",
     "output_type": "stream",
     "text": [
      "ACCURACY:  tensor(0.9688)\n",
      "ACCURACY:  tensor(1.)\n",
      "ACCURACY:  tensor(0.9844)\n"
     ]
    },
    {
     "name": "stderr",
     "output_type": "stream",
     "text": [
      "\r",
      "  8%|▊         | 8/101 [00:00<00:07, 12.40it/s]"
     ]
    },
    {
     "name": "stdout",
     "output_type": "stream",
     "text": [
      "ACCURACY:  tensor(0.9688)\n",
      "ACCURACY:  tensor(0.9688)\n",
      "ACCURACY:  tensor(0.9844)\n"
     ]
    },
    {
     "name": "stderr",
     "output_type": "stream",
     "text": [
      "\r",
      " 10%|▉         | 10/101 [00:00<00:06, 13.51it/s]"
     ]
    },
    {
     "name": "stdout",
     "output_type": "stream",
     "text": [
      "ACCURACY:  tensor(1.)\n",
      "ACCURACY:  tensor(0.9844)\n",
      "ACCURACY:  tensor(1.)\n"
     ]
    },
    {
     "name": "stderr",
     "output_type": "stream",
     "text": [
      " 14%|█▍        | 14/101 [00:01<00:06, 12.69it/s]"
     ]
    },
    {
     "name": "stdout",
     "output_type": "stream",
     "text": [
      "ACCURACY:  tensor(1.)\n",
      "ACCURACY:  tensor(1.)\n",
      "ACCURACY:  tensor(1.)\n"
     ]
    },
    {
     "name": "stderr",
     "output_type": "stream",
     "text": [
      " 18%|█▊        | 18/101 [00:01<00:06, 13.32it/s]"
     ]
    },
    {
     "name": "stdout",
     "output_type": "stream",
     "text": [
      "ACCURACY:  tensor(0.9531)\n",
      "ACCURACY:  tensor(1.)\n",
      "ACCURACY:  tensor(0.9531)\n"
     ]
    },
    {
     "name": "stderr",
     "output_type": "stream",
     "text": [
      "\r",
      " 20%|█▉        | 20/101 [00:01<00:06, 13.44it/s]"
     ]
    },
    {
     "name": "stdout",
     "output_type": "stream",
     "text": [
      "ACCURACY:  tensor(1.)\n",
      "ACCURACY:  tensor(1.)\n",
      "ACCURACY:  tensor(1.)\n"
     ]
    },
    {
     "name": "stderr",
     "output_type": "stream",
     "text": [
      "\r",
      " 22%|██▏       | 22/101 [00:01<00:06, 12.26it/s]"
     ]
    },
    {
     "name": "stdout",
     "output_type": "stream",
     "text": [
      "ACCURACY:  tensor(1.)\n",
      "ACCURACY:  tensor(1.)\n",
      "ACCURACY:  tensor(0.9844)\n"
     ]
    },
    {
     "name": "stderr",
     "output_type": "stream",
     "text": [
      " 26%|██▌       | 26/101 [00:02<00:05, 12.86it/s]"
     ]
    },
    {
     "name": "stdout",
     "output_type": "stream",
     "text": [
      "ACCURACY:  tensor(1.)\n",
      "ACCURACY:  tensor(1.)\n",
      "ACCURACY:  tensor(1.)\n"
     ]
    },
    {
     "name": "stderr",
     "output_type": "stream",
     "text": [
      " 30%|██▉       | 30/101 [00:02<00:04, 14.48it/s]"
     ]
    },
    {
     "name": "stdout",
     "output_type": "stream",
     "text": [
      "ACCURACY:  tensor(1.)\n",
      "ACCURACY:  tensor(1.)\n",
      "ACCURACY:  tensor(1.)\n",
      "ACCURACY:  tensor(1.)\n"
     ]
    },
    {
     "name": "stderr",
     "output_type": "stream",
     "text": [
      "\r",
      " 32%|███▏      | 32/101 [00:02<00:04, 14.35it/s]"
     ]
    },
    {
     "name": "stdout",
     "output_type": "stream",
     "text": [
      "ACCURACY:  tensor(0.9844)\n",
      "ACCURACY:  tensor(1.)\n",
      "ACCURACY:  tensor(0.9844)\n"
     ]
    },
    {
     "name": "stderr",
     "output_type": "stream",
     "text": [
      " 36%|███▌      | 36/101 [00:02<00:04, 14.11it/s]"
     ]
    },
    {
     "name": "stdout",
     "output_type": "stream",
     "text": [
      "ACCURACY:  tensor(0.9688)\n",
      "ACCURACY:  tensor(0.9844)\n",
      "ACCURACY:  tensor(0.9844)\n",
      "ACCURACY:  tensor(0.9844)\n"
     ]
    },
    {
     "name": "stderr",
     "output_type": "stream",
     "text": [
      " 40%|███▉      | 40/101 [00:02<00:04, 14.82it/s]"
     ]
    },
    {
     "name": "stdout",
     "output_type": "stream",
     "text": [
      "ACCURACY:  tensor(0.9844)\n",
      "ACCURACY:  tensor(1.)\n",
      "ACCURACY:  tensor(0.9844)\n",
      "ACCURACY:  tensor(1.)\n"
     ]
    },
    {
     "name": "stderr",
     "output_type": "stream",
     "text": [
      " 44%|████▎     | 44/101 [00:03<00:04, 13.19it/s]"
     ]
    },
    {
     "name": "stdout",
     "output_type": "stream",
     "text": [
      "ACCURACY:  tensor(0.9688)\n",
      "ACCURACY:  tensor(0.9844)\n",
      "ACCURACY:  tensor(0.9844)\n"
     ]
    },
    {
     "name": "stderr",
     "output_type": "stream",
     "text": [
      " 48%|████▊     | 48/101 [00:03<00:03, 13.32it/s]"
     ]
    },
    {
     "name": "stdout",
     "output_type": "stream",
     "text": [
      "ACCURACY:  tensor(1.)\n",
      "ACCURACY:  tensor(0.9688)\n",
      "ACCURACY:  tensor(0.9844)\n"
     ]
    },
    {
     "name": "stderr",
     "output_type": "stream",
     "text": [
      "\r",
      " 50%|████▉     | 50/101 [00:03<00:03, 13.81it/s]"
     ]
    },
    {
     "name": "stdout",
     "output_type": "stream",
     "text": [
      "ACCURACY:  tensor(0.9688)\n",
      "ACCURACY:  tensor(0.9844)\n",
      "ACCURACY:  tensor(1.)\n"
     ]
    },
    {
     "name": "stderr",
     "output_type": "stream",
     "text": [
      "\r",
      " 51%|█████▏    | 52/101 [00:04<00:04, 10.03it/s]"
     ]
    },
    {
     "name": "stdout",
     "output_type": "stream",
     "text": [
      "ACCURACY:  tensor(1.)\n",
      "ACCURACY:  tensor(0.9844)\n"
     ]
    },
    {
     "name": "stderr",
     "output_type": "stream",
     "text": [
      "\r",
      " 53%|█████▎    | 54/101 [00:04<00:04, 10.74it/s]"
     ]
    },
    {
     "name": "stdout",
     "output_type": "stream",
     "text": [
      "ACCURACY:  tensor(0.9844)\n",
      "ACCURACY:  tensor(1.)\n",
      "ACCURACY:  tensor(1.)\n"
     ]
    },
    {
     "name": "stderr",
     "output_type": "stream",
     "text": [
      " 57%|█████▋    | 58/101 [00:04<00:03, 12.12it/s]"
     ]
    },
    {
     "name": "stdout",
     "output_type": "stream",
     "text": [
      "ACCURACY:  tensor(1.)\n",
      "ACCURACY:  tensor(1.)\n",
      "ACCURACY:  tensor(0.9531)\n",
      "ACCURACY:  tensor(1.)\n"
     ]
    },
    {
     "name": "stderr",
     "output_type": "stream",
     "text": [
      " 61%|██████▏   | 62/101 [00:04<00:03, 12.88it/s]"
     ]
    },
    {
     "name": "stdout",
     "output_type": "stream",
     "text": [
      "ACCURACY:  tensor(0.9844)\n",
      "ACCURACY:  tensor(1.)\n",
      "ACCURACY:  tensor(1.)\n"
     ]
    },
    {
     "name": "stderr",
     "output_type": "stream",
     "text": [
      " 65%|██████▌   | 66/101 [00:05<00:02, 13.41it/s]"
     ]
    },
    {
     "name": "stdout",
     "output_type": "stream",
     "text": [
      "ACCURACY:  tensor(0.9531)\n",
      "ACCURACY:  tensor(1.)\n",
      "ACCURACY:  tensor(0.9844)\n"
     ]
    },
    {
     "name": "stderr",
     "output_type": "stream",
     "text": [
      "\r",
      " 67%|██████▋   | 68/101 [00:05<00:02, 13.49it/s]"
     ]
    },
    {
     "name": "stdout",
     "output_type": "stream",
     "text": [
      "ACCURACY:  tensor(0.9844)\n",
      "ACCURACY:  tensor(0.9688)\n",
      "ACCURACY:  tensor(0.9688)\n",
      "ACCURACY:  tensor(0.9844)\n"
     ]
    },
    {
     "name": "stderr",
     "output_type": "stream",
     "text": [
      " 71%|███████▏  | 72/101 [00:05<00:01, 15.19it/s]"
     ]
    },
    {
     "name": "stdout",
     "output_type": "stream",
     "text": [
      "ACCURACY:  tensor(0.9844)\n",
      "ACCURACY:  tensor(0.9844)\n",
      "ACCURACY:  tensor(0.9688)\n",
      "ACCURACY:  tensor(0.9531)\n"
     ]
    },
    {
     "name": "stderr",
     "output_type": "stream",
     "text": [
      " 75%|███████▌  | 76/101 [00:05<00:01, 14.49it/s]"
     ]
    },
    {
     "name": "stdout",
     "output_type": "stream",
     "text": [
      "ACCURACY:  tensor(1.)\n",
      "ACCURACY:  tensor(0.9844)\n",
      "ACCURACY:  tensor(1.)\n"
     ]
    },
    {
     "name": "stderr",
     "output_type": "stream",
     "text": [
      "\r",
      " 77%|███████▋  | 78/101 [00:05<00:01, 12.96it/s]"
     ]
    },
    {
     "name": "stdout",
     "output_type": "stream",
     "text": [
      "ACCURACY:  tensor(0.9531)\n",
      "ACCURACY:  tensor(1.)\n",
      "ACCURACY:  tensor(0.9844)\n"
     ]
    },
    {
     "name": "stderr",
     "output_type": "stream",
     "text": [
      " 81%|████████  | 82/101 [00:06<00:01, 13.80it/s]"
     ]
    },
    {
     "name": "stdout",
     "output_type": "stream",
     "text": [
      "ACCURACY:  tensor(1.)\n",
      "ACCURACY:  tensor(1.)\n",
      "ACCURACY:  tensor(1.)\n",
      "ACCURACY:  tensor(0.9844)\n"
     ]
    },
    {
     "name": "stderr",
     "output_type": "stream",
     "text": [
      " 85%|████████▌ | 86/101 [00:06<00:01, 14.08it/s]"
     ]
    },
    {
     "name": "stdout",
     "output_type": "stream",
     "text": [
      "ACCURACY:  tensor(0.9844)\n",
      "ACCURACY:  tensor(0.9531)\n",
      "ACCURACY:  tensor(0.9844)\n",
      "ACCURACY:  tensor(0.9531)\n"
     ]
    },
    {
     "name": "stderr",
     "output_type": "stream",
     "text": [
      " 89%|████████▉ | 90/101 [00:06<00:00, 15.18it/s]"
     ]
    },
    {
     "name": "stdout",
     "output_type": "stream",
     "text": [
      "ACCURACY:  tensor(0.9844)\n",
      "ACCURACY:  tensor(1.)\n",
      "ACCURACY:  tensor(1.)\n"
     ]
    },
    {
     "name": "stderr",
     "output_type": "stream",
     "text": [
      "\r",
      " 91%|█████████ | 92/101 [00:06<00:00, 12.13it/s]"
     ]
    },
    {
     "name": "stdout",
     "output_type": "stream",
     "text": [
      "ACCURACY:  tensor(0.9844)\n",
      "ACCURACY:  tensor(0.9844)\n"
     ]
    },
    {
     "name": "stderr",
     "output_type": "stream",
     "text": [
      "\r",
      " 93%|█████████▎| 94/101 [00:07<00:00, 12.74it/s]"
     ]
    },
    {
     "name": "stdout",
     "output_type": "stream",
     "text": [
      "ACCURACY:  tensor(1.)\n",
      "ACCURACY:  tensor(0.9688)\n",
      "ACCURACY:  tensor(1.)\n"
     ]
    },
    {
     "name": "stderr",
     "output_type": "stream",
     "text": [
      " 97%|█████████▋| 98/101 [00:07<00:00, 13.59it/s]"
     ]
    },
    {
     "name": "stdout",
     "output_type": "stream",
     "text": [
      "ACCURACY:  tensor(0.9844)\n",
      "ACCURACY:  tensor(1.)\n",
      "ACCURACY:  tensor(0.9844)\n",
      "ACCURACY:  tensor(1.)\n"
     ]
    },
    {
     "name": "stderr",
     "output_type": "stream",
     "text": [
      "100%|██████████| 101/101 [00:07<00:00, 13.37it/s]\n"
     ]
    },
    {
     "name": "stdout",
     "output_type": "stream",
     "text": [
      "ACCURACY:  tensor(1.)\n",
      "EPOCH LOSS: \n",
      "  2.2675485819725707\n"
     ]
    },
    {
     "name": "stderr",
     "output_type": "stream",
     "text": [
      "  2%|▏         | 2/101 [00:00<00:09, 10.43it/s]"
     ]
    },
    {
     "name": "stdout",
     "output_type": "stream",
     "text": [
      "Epoch: 14, Training Loss: 2.2675, Validation Loss: 4.9637\n",
      "ACCURACY:  tensor(1.)\n",
      "ACCURACY:  tensor(1.)\n"
     ]
    },
    {
     "name": "stderr",
     "output_type": "stream",
     "text": [
      "\r",
      "  4%|▍         | 4/101 [00:00<00:08, 11.81it/s]"
     ]
    },
    {
     "name": "stdout",
     "output_type": "stream",
     "text": [
      "ACCURACY:  tensor(1.)\n",
      "ACCURACY:  tensor(1.)\n",
      "ACCURACY:  tensor(1.)\n",
      "ACCURACY:  tensor(1.)\n"
     ]
    },
    {
     "name": "stderr",
     "output_type": "stream",
     "text": [
      "  8%|▊         | 8/101 [00:00<00:06, 13.39it/s]"
     ]
    },
    {
     "name": "stdout",
     "output_type": "stream",
     "text": [
      "ACCURACY:  tensor(0.9844)\n",
      "ACCURACY:  tensor(1.)\n",
      "ACCURACY:  tensor(0.9844)\n",
      "ACCURACY:  tensor(1.)\n"
     ]
    },
    {
     "name": "stderr",
     "output_type": "stream",
     "text": [
      " 12%|█▏        | 12/101 [00:00<00:07, 12.55it/s]"
     ]
    },
    {
     "name": "stdout",
     "output_type": "stream",
     "text": [
      "ACCURACY:  tensor(1.)\n",
      "ACCURACY:  tensor(1.)\n",
      "ACCURACY:  tensor(1.)\n"
     ]
    },
    {
     "name": "stderr",
     "output_type": "stream",
     "text": [
      " 16%|█▌        | 16/101 [00:01<00:06, 13.58it/s]"
     ]
    },
    {
     "name": "stdout",
     "output_type": "stream",
     "text": [
      "ACCURACY:  tensor(0.9688)\n",
      "ACCURACY:  tensor(0.9531)\n",
      "ACCURACY:  tensor(1.)\n"
     ]
    },
    {
     "name": "stderr",
     "output_type": "stream",
     "text": [
      "\r",
      " 18%|█▊        | 18/101 [00:01<00:06, 12.51it/s]"
     ]
    },
    {
     "name": "stdout",
     "output_type": "stream",
     "text": [
      "ACCURACY:  tensor(0.9531)\n",
      "ACCURACY:  tensor(0.9688)\n",
      "ACCURACY:  tensor(0.9844)\n"
     ]
    },
    {
     "name": "stderr",
     "output_type": "stream",
     "text": [
      " 22%|██▏       | 22/101 [00:01<00:05, 14.31it/s]"
     ]
    },
    {
     "name": "stdout",
     "output_type": "stream",
     "text": [
      "ACCURACY:  tensor(1.)\n",
      "ACCURACY:  tensor(0.9688)\n",
      "ACCURACY:  tensor(1.)\n",
      "ACCURACY:  tensor(0.9844)\n"
     ]
    },
    {
     "name": "stderr",
     "output_type": "stream",
     "text": [
      " 26%|██▌       | 26/101 [00:01<00:05, 13.92it/s]"
     ]
    },
    {
     "name": "stdout",
     "output_type": "stream",
     "text": [
      "ACCURACY:  tensor(0.9688)\n",
      "ACCURACY:  tensor(0.9844)\n",
      "ACCURACY:  tensor(0.9844)\n"
     ]
    },
    {
     "name": "stderr",
     "output_type": "stream",
     "text": [
      "\r",
      " 28%|██▊       | 28/101 [00:02<00:05, 13.82it/s]"
     ]
    },
    {
     "name": "stdout",
     "output_type": "stream",
     "text": [
      "ACCURACY:  tensor(0.9844)\n",
      "ACCURACY:  tensor(0.9844)\n",
      "ACCURACY:  tensor(0.9844)\n"
     ]
    },
    {
     "name": "stderr",
     "output_type": "stream",
     "text": [
      "\r",
      " 30%|██▉       | 30/101 [00:02<00:05, 13.35it/s]"
     ]
    },
    {
     "name": "stdout",
     "output_type": "stream",
     "text": [
      "ACCURACY:  tensor(1.)\n",
      "ACCURACY:  tensor(0.9531)\n",
      "ACCURACY:  tensor(1.)\n"
     ]
    },
    {
     "name": "stderr",
     "output_type": "stream",
     "text": [
      " 34%|███▎      | 34/101 [00:02<00:05, 13.14it/s]"
     ]
    },
    {
     "name": "stdout",
     "output_type": "stream",
     "text": [
      "ACCURACY:  tensor(1.)\n",
      "ACCURACY:  tensor(1.)\n",
      "ACCURACY:  tensor(1.)\n"
     ]
    },
    {
     "name": "stderr",
     "output_type": "stream",
     "text": [
      " 38%|███▊      | 38/101 [00:02<00:04, 13.70it/s]"
     ]
    },
    {
     "name": "stdout",
     "output_type": "stream",
     "text": [
      "ACCURACY:  tensor(0.9844)\n",
      "ACCURACY:  tensor(1.)\n",
      "ACCURACY:  tensor(0.9844)\n",
      "ACCURACY:  "
     ]
    },
    {
     "name": "stderr",
     "output_type": "stream",
     "text": [
      "\r",
      " 40%|███▉      | 40/101 [00:02<00:04, 13.61it/s]"
     ]
    },
    {
     "name": "stdout",
     "output_type": "stream",
     "text": [
      "tensor(0.9844)\n",
      "ACCURACY:  tensor(1.)\n",
      "ACCURACY:  tensor(1.)\n"
     ]
    },
    {
     "name": "stderr",
     "output_type": "stream",
     "text": [
      " 44%|████▎     | 44/101 [00:03<00:04, 13.94it/s]"
     ]
    },
    {
     "name": "stdout",
     "output_type": "stream",
     "text": [
      "ACCURACY:  tensor(0.9375)\n",
      "ACCURACY:  tensor(0.9844)\n",
      "ACCURACY:  tensor(1.)\n"
     ]
    },
    {
     "name": "stderr",
     "output_type": "stream",
     "text": [
      "\r",
      " 46%|████▌     | 46/101 [00:03<00:03, 13.83it/s]"
     ]
    },
    {
     "name": "stdout",
     "output_type": "stream",
     "text": [
      "ACCURACY:  tensor(1.)\n",
      "ACCURACY:  tensor(1.)\n",
      "ACCURACY:  tensor(0.9844)\n"
     ]
    },
    {
     "name": "stderr",
     "output_type": "stream",
     "text": [
      " 50%|████▉     | 50/101 [00:03<00:03, 13.68it/s]"
     ]
    },
    {
     "name": "stdout",
     "output_type": "stream",
     "text": [
      "ACCURACY:  tensor(1.)\n",
      "ACCURACY:  tensor(1.)\n",
      "ACCURACY:  tensor(1.)\n"
     ]
    },
    {
     "name": "stderr",
     "output_type": "stream",
     "text": [
      "\r",
      " 51%|█████▏    | 52/101 [00:03<00:03, 13.86it/s]"
     ]
    },
    {
     "name": "stdout",
     "output_type": "stream",
     "text": [
      "ACCURACY:  tensor(0.9688)\n",
      "ACCURACY:  tensor(0.9844)\n",
      "ACCURACY:  tensor(0.9844)\n",
      "ACCURACY:  tensor(1.)\n"
     ]
    },
    {
     "name": "stderr",
     "output_type": "stream",
     "text": [
      " 55%|█████▌    | 56/101 [00:04<00:03, 14.24it/s]"
     ]
    },
    {
     "name": "stdout",
     "output_type": "stream",
     "text": [
      "ACCURACY:  tensor(0.9844)\n",
      "ACCURACY:  tensor(1.)\n",
      "ACCURACY:  tensor(0.9688)\n"
     ]
    },
    {
     "name": "stderr",
     "output_type": "stream",
     "text": [
      "\r",
      " 57%|█████▋    | 58/101 [00:04<00:03, 12.59it/s]"
     ]
    },
    {
     "name": "stdout",
     "output_type": "stream",
     "text": [
      "ACCURACY:  tensor(0.9844)\n",
      "ACCURACY:  tensor(1.)\n",
      "ACCURACY:  tensor(1.)\n"
     ]
    },
    {
     "name": "stderr",
     "output_type": "stream",
     "text": [
      " 61%|██████▏   | 62/101 [00:04<00:02, 13.43it/s]"
     ]
    },
    {
     "name": "stdout",
     "output_type": "stream",
     "text": [
      "ACCURACY:  tensor(0.9844)\n",
      "ACCURACY:  tensor(0.9688)\n",
      "ACCURACY:  tensor(0.9844)\n"
     ]
    },
    {
     "name": "stderr",
     "output_type": "stream",
     "text": [
      " 65%|██████▌   | 66/101 [00:04<00:02, 14.03it/s]"
     ]
    },
    {
     "name": "stdout",
     "output_type": "stream",
     "text": [
      "ACCURACY:  tensor(1.)\n",
      "ACCURACY:  tensor(0.9844)\n",
      "ACCURACY:  tensor(1.)\n",
      "ACCURACY:  tensor(0.9844)\n"
     ]
    },
    {
     "name": "stderr",
     "output_type": "stream",
     "text": [
      " 69%|██████▉   | 70/101 [00:05<00:02, 14.71it/s]"
     ]
    },
    {
     "name": "stdout",
     "output_type": "stream",
     "text": [
      "ACCURACY:  tensor(1.)\n",
      "ACCURACY:  tensor(1.)\n",
      "ACCURACY:  tensor(1.)\n",
      "ACCURACY:  tensor(1.)\n"
     ]
    },
    {
     "name": "stderr",
     "output_type": "stream",
     "text": [
      "\r",
      " 71%|███████▏  | 72/101 [00:05<00:02, 14.33it/s]"
     ]
    },
    {
     "name": "stdout",
     "output_type": "stream",
     "text": [
      "ACCURACY:  tensor(0.9688)\n",
      "ACCURACY:  tensor(1.)\n",
      "ACCURACY:  tensor(0.9688)\n"
     ]
    },
    {
     "name": "stderr",
     "output_type": "stream",
     "text": [
      " 75%|███████▌  | 76/101 [00:05<00:01, 13.97it/s]"
     ]
    },
    {
     "name": "stdout",
     "output_type": "stream",
     "text": [
      "ACCURACY:  tensor(1.)\n",
      "ACCURACY:  tensor(1.)\n",
      "ACCURACY:  tensor(0.9688)\n"
     ]
    },
    {
     "name": "stderr",
     "output_type": "stream",
     "text": [
      "\r",
      " 77%|███████▋  | 78/101 [00:05<00:01, 13.47it/s]"
     ]
    },
    {
     "name": "stdout",
     "output_type": "stream",
     "text": [
      "ACCURACY:  tensor(0.9531)\n",
      "ACCURACY:  tensor(1.)\n",
      "ACCURACY:  tensor(1.)\n"
     ]
    },
    {
     "name": "stderr",
     "output_type": "stream",
     "text": [
      " 81%|████████  | 82/101 [00:06<00:01, 13.54it/s]"
     ]
    },
    {
     "name": "stdout",
     "output_type": "stream",
     "text": [
      "ACCURACY:  tensor(0.9688)\n",
      "ACCURACY:  tensor(0.9844)\n",
      "ACCURACY:  tensor(1.)\n"
     ]
    },
    {
     "name": "stderr",
     "output_type": "stream",
     "text": [
      "\r",
      " 83%|████████▎ | 84/101 [00:06<00:01, 12.46it/s]"
     ]
    },
    {
     "name": "stdout",
     "output_type": "stream",
     "text": [
      "ACCURACY:  tensor(0.9844)\n",
      "ACCURACY:  tensor(1.)\n",
      "ACCURACY:  tensor(0.9688)\n"
     ]
    },
    {
     "name": "stderr",
     "output_type": "stream",
     "text": [
      " 87%|████████▋ | 88/101 [00:06<00:01, 11.85it/s]"
     ]
    },
    {
     "name": "stdout",
     "output_type": "stream",
     "text": [
      "ACCURACY:  tensor(0.9844)\n",
      "ACCURACY:  tensor(0.9844)\n",
      "ACCURACY:  tensor(0.9531)\n"
     ]
    },
    {
     "name": "stderr",
     "output_type": "stream",
     "text": [
      " 91%|█████████ | 92/101 [00:06<00:00, 13.33it/s]"
     ]
    },
    {
     "name": "stdout",
     "output_type": "stream",
     "text": [
      "ACCURACY:  tensor(0.9688)\n",
      "ACCURACY:  tensor(0.9688)\n",
      "ACCURACY:  tensor(0.9844)\n"
     ]
    },
    {
     "name": "stderr",
     "output_type": "stream",
     "text": [
      "\r",
      " 93%|█████████▎| 94/101 [00:06<00:00, 13.11it/s]"
     ]
    },
    {
     "name": "stdout",
     "output_type": "stream",
     "text": [
      "ACCURACY:  tensor(0.9844)\n",
      "ACCURACY:  tensor(1.)\n",
      "ACCURACY:  tensor(1.)\n"
     ]
    },
    {
     "name": "stderr",
     "output_type": "stream",
     "text": [
      " 97%|█████████▋| 98/101 [00:07<00:00, 13.84it/s]"
     ]
    },
    {
     "name": "stdout",
     "output_type": "stream",
     "text": [
      "ACCURACY:  tensor(1.)\n",
      "ACCURACY:  tensor(1.)\n",
      "ACCURACY:  tensor(0.9531)\n"
     ]
    },
    {
     "name": "stderr",
     "output_type": "stream",
     "text": [
      "100%|██████████| 101/101 [00:07<00:00, 13.52it/s]"
     ]
    },
    {
     "name": "stdout",
     "output_type": "stream",
     "text": [
      "ACCURACY:  tensor(0.9844)\n",
      "ACCURACY:  tensor(0.9844)\n",
      "ACCURACY:  tensor(0.9286)\n",
      "EPOCH LOSS: \n",
      "  2.3739365311247287\n"
     ]
    },
    {
     "name": "stderr",
     "output_type": "stream",
     "text": [
      "\n",
      "  2%|▏         | 2/101 [00:00<00:06, 14.28it/s]"
     ]
    },
    {
     "name": "stdout",
     "output_type": "stream",
     "text": [
      "Epoch: 15, Training Loss: 2.3739, Validation Loss: 5.4135\n",
      "ACCURACY:  tensor(1.)\n",
      "ACCURACY:  tensor(1.)\n",
      "ACCURACY:  tensor(0.9688)\n"
     ]
    },
    {
     "name": "stderr",
     "output_type": "stream",
     "text": [
      "\r",
      "  4%|▍         | 4/101 [00:00<00:08, 11.74it/s]"
     ]
    },
    {
     "name": "stdout",
     "output_type": "stream",
     "text": [
      "ACCURACY:  tensor(0.9688)\n",
      "ACCURACY:  tensor(0.9688)\n"
     ]
    },
    {
     "name": "stderr",
     "output_type": "stream",
     "text": [
      "\r",
      "  6%|▌         | 6/101 [00:00<00:07, 11.99it/s]"
     ]
    },
    {
     "name": "stdout",
     "output_type": "stream",
     "text": [
      "ACCURACY:  tensor(0.9844)\n",
      "ACCURACY:  tensor(1.)\n",
      "ACCURACY:  tensor(0.9844)\n"
     ]
    },
    {
     "name": "stderr",
     "output_type": "stream",
     "text": [
      " 10%|▉         | 10/101 [00:00<00:06, 13.63it/s]"
     ]
    },
    {
     "name": "stdout",
     "output_type": "stream",
     "text": [
      "ACCURACY:  tensor(1.)\n",
      "ACCURACY:  tensor(0.9844)\n",
      "ACCURACY:  tensor(0.9688)\n",
      "ACCURACY:  tensor(0.9844)\n"
     ]
    },
    {
     "name": "stderr",
     "output_type": "stream",
     "text": [
      " 14%|█▍        | 14/101 [00:01<00:06, 13.52it/s]"
     ]
    },
    {
     "name": "stdout",
     "output_type": "stream",
     "text": [
      "ACCURACY:  tensor(1.)\n",
      "ACCURACY:  tensor(0.9844)\n",
      "ACCURACY:  tensor(1.)\n"
     ]
    },
    {
     "name": "stderr",
     "output_type": "stream",
     "text": [
      " 18%|█▊        | 18/101 [00:01<00:06, 12.73it/s]"
     ]
    },
    {
     "name": "stdout",
     "output_type": "stream",
     "text": [
      "ACCURACY:  tensor(1.)\n",
      "ACCURACY:  tensor(1.)\n",
      "ACCURACY:  tensor(0.9844)\n"
     ]
    },
    {
     "name": "stderr",
     "output_type": "stream",
     "text": [
      "\r",
      " 20%|█▉        | 20/101 [00:01<00:06, 13.20it/s]"
     ]
    },
    {
     "name": "stdout",
     "output_type": "stream",
     "text": [
      "ACCURACY:  tensor(1.)\n",
      "ACCURACY:  tensor(0.9844)\n",
      "ACCURACY:  tensor(0.9844)\n"
     ]
    },
    {
     "name": "stderr",
     "output_type": "stream",
     "text": [
      "\r",
      " 22%|██▏       | 22/101 [00:01<00:05, 13.25it/s]"
     ]
    },
    {
     "name": "stdout",
     "output_type": "stream",
     "text": [
      "ACCURACY:  tensor(0.9844)\n",
      "ACCURACY:  tensor(0.9844)\n",
      "ACCURACY:  tensor(0.9688)\n"
     ]
    },
    {
     "name": "stderr",
     "output_type": "stream",
     "text": [
      " 26%|██▌       | 26/101 [00:02<00:05, 12.77it/s]"
     ]
    },
    {
     "name": "stdout",
     "output_type": "stream",
     "text": [
      "ACCURACY:  tensor(0.9844)\n",
      "ACCURACY:  tensor(1.)\n",
      "ACCURACY:  tensor(0.9844)\n"
     ]
    },
    {
     "name": "stderr",
     "output_type": "stream",
     "text": [
      " 30%|██▉       | 30/101 [00:02<00:05, 13.31it/s]"
     ]
    },
    {
     "name": "stdout",
     "output_type": "stream",
     "text": [
      "ACCURACY:  tensor(0.9844)\n",
      "ACCURACY:  tensor(0.9844)\n",
      "ACCURACY:  tensor(1.)\n",
      "ACCURACY:  tensor(0.9688)\n"
     ]
    },
    {
     "name": "stderr",
     "output_type": "stream",
     "text": [
      "\r",
      " 32%|███▏      | 32/101 [00:02<00:04, 13.90it/s]"
     ]
    },
    {
     "name": "stdout",
     "output_type": "stream",
     "text": [
      "ACCURACY:  tensor(1.)\n",
      "ACCURACY:  tensor(1.)\n",
      "ACCURACY:  tensor(1.)\n"
     ]
    },
    {
     "name": "stderr",
     "output_type": "stream",
     "text": [
      " 36%|███▌      | 36/101 [00:02<00:04, 13.88it/s]"
     ]
    },
    {
     "name": "stdout",
     "output_type": "stream",
     "text": [
      "ACCURACY:  tensor(1.)\n",
      "ACCURACY:  tensor(0.9688)\n",
      "ACCURACY:  tensor(0.9844)\n",
      "ACCURACY:  tensor(0.9844)\n"
     ]
    },
    {
     "name": "stderr",
     "output_type": "stream",
     "text": [
      " 40%|███▉      | 40/101 [00:03<00:04, 14.50it/s]"
     ]
    },
    {
     "name": "stdout",
     "output_type": "stream",
     "text": [
      "ACCURACY:  tensor(1.)\n",
      "ACCURACY:  tensor(1.)\n",
      "ACCURACY:  tensor(1.)\n",
      "ACCURACY:  tensor(1.)\n"
     ]
    },
    {
     "name": "stderr",
     "output_type": "stream",
     "text": [
      " 44%|████▎     | 44/101 [00:03<00:03, 14.43it/s]"
     ]
    },
    {
     "name": "stdout",
     "output_type": "stream",
     "text": [
      "ACCURACY:  tensor(0.9688)\n",
      "ACCURACY:  tensor(1.)\n",
      "ACCURACY:  tensor(0.9688)\n"
     ]
    },
    {
     "name": "stderr",
     "output_type": "stream",
     "text": [
      " 48%|████▊     | 48/101 [00:03<00:03, 14.16it/s]"
     ]
    },
    {
     "name": "stdout",
     "output_type": "stream",
     "text": [
      "ACCURACY:  tensor(1.)\n",
      "ACCURACY:  tensor(1.)\n",
      "ACCURACY:  tensor(1.)\n"
     ]
    },
    {
     "name": "stderr",
     "output_type": "stream",
     "text": [
      "\r",
      " 50%|████▉     | 50/101 [00:03<00:03, 14.72it/s]"
     ]
    },
    {
     "name": "stdout",
     "output_type": "stream",
     "text": [
      "ACCURACY:  tensor(0.9844)\n",
      "ACCURACY:  tensor(0.9844)\n",
      "ACCURACY:  tensor(0.9844)\n",
      "ACCURACY:  tensor(0.9844)\n"
     ]
    },
    {
     "name": "stderr",
     "output_type": "stream",
     "text": [
      " 53%|█████▎    | 54/101 [00:04<00:03, 13.49it/s]"
     ]
    },
    {
     "name": "stdout",
     "output_type": "stream",
     "text": [
      "ACCURACY:  tensor(0.9844)\n",
      "ACCURACY:  tensor(0.9844)\n",
      "ACCURACY:  tensor(0.9844)\n"
     ]
    },
    {
     "name": "stderr",
     "output_type": "stream",
     "text": [
      " 57%|█████▋    | 58/101 [00:04<00:03, 14.05it/s]"
     ]
    },
    {
     "name": "stdout",
     "output_type": "stream",
     "text": [
      "ACCURACY:  tensor(0.9844)\n",
      "ACCURACY:  tensor(0.9844)\n",
      "ACCURACY:  tensor(1.)\n"
     ]
    },
    {
     "name": "stderr",
     "output_type": "stream",
     "text": [
      "\r",
      " 59%|█████▉    | 60/101 [00:04<00:03, 13.02it/s]"
     ]
    },
    {
     "name": "stdout",
     "output_type": "stream",
     "text": [
      "ACCURACY:  tensor(0.9844)\n",
      "ACCURACY:  tensor(0.9844)\n",
      "ACCURACY:  tensor(0.9844)\n"
     ]
    },
    {
     "name": "stderr",
     "output_type": "stream",
     "text": [
      " 63%|██████▎   | 64/101 [00:04<00:02, 13.38it/s]"
     ]
    },
    {
     "name": "stdout",
     "output_type": "stream",
     "text": [
      "ACCURACY:  tensor(1.)\n",
      "ACCURACY:  tensor(1.)\n",
      "ACCURACY:  tensor(1.)\n"
     ]
    },
    {
     "name": "stderr",
     "output_type": "stream",
     "text": [
      "\r",
      " 65%|██████▌   | 66/101 [00:04<00:02, 13.44it/s]"
     ]
    },
    {
     "name": "stdout",
     "output_type": "stream",
     "text": [
      "ACCURACY:  tensor(0.9844)\n",
      "ACCURACY:  tensor(0.9844)\n",
      "ACCURACY:  tensor(1.)\n"
     ]
    },
    {
     "name": "stderr",
     "output_type": "stream",
     "text": [
      "\r",
      " 67%|██████▋   | 68/101 [00:05<00:02, 13.32it/s]"
     ]
    },
    {
     "name": "stdout",
     "output_type": "stream",
     "text": [
      "ACCURACY:  tensor(0.9844)\n",
      "ACCURACY:  tensor(0.9844)\n",
      "ACCURACY:  tensor(0.9688)\n"
     ]
    },
    {
     "name": "stderr",
     "output_type": "stream",
     "text": [
      " 71%|███████▏  | 72/101 [00:05<00:02, 12.40it/s]"
     ]
    },
    {
     "name": "stdout",
     "output_type": "stream",
     "text": [
      "ACCURACY:  tensor(1.)\n",
      "ACCURACY:  tensor(0.9844)\n",
      "ACCURACY:  tensor(1.)\n"
     ]
    },
    {
     "name": "stderr",
     "output_type": "stream",
     "text": [
      " 75%|███████▌  | 76/101 [00:05<00:01, 12.85it/s]"
     ]
    },
    {
     "name": "stdout",
     "output_type": "stream",
     "text": [
      "ACCURACY:  tensor(1.)\n",
      "ACCURACY:  tensor(0.9844)\n",
      "ACCURACY:  tensor(0.9844)\n"
     ]
    },
    {
     "name": "stderr",
     "output_type": "stream",
     "text": [
      "\r",
      " 77%|███████▋  | 78/101 [00:05<00:01, 12.76it/s]"
     ]
    },
    {
     "name": "stdout",
     "output_type": "stream",
     "text": [
      "ACCURACY:  tensor(0.9844)\n",
      "ACCURACY:  tensor(1.)\n",
      "ACCURACY:  tensor(0.9688)\n"
     ]
    },
    {
     "name": "stderr",
     "output_type": "stream",
     "text": [
      "\r",
      " 79%|███████▉  | 80/101 [00:06<00:01, 11.88it/s]"
     ]
    },
    {
     "name": "stdout",
     "output_type": "stream",
     "text": [
      "ACCURACY:  tensor(0.9844)\n",
      "ACCURACY:  tensor(0.9844)\n",
      "ACCURACY:  tensor(0.9844)\n"
     ]
    },
    {
     "name": "stderr",
     "output_type": "stream",
     "text": [
      " 83%|████████▎ | 84/101 [00:06<00:01, 12.34it/s]"
     ]
    },
    {
     "name": "stdout",
     "output_type": "stream",
     "text": [
      "ACCURACY:  tensor(0.9844)\n",
      "ACCURACY:  tensor(1.)\n",
      "ACCURACY:  tensor(0.9688)\n"
     ]
    },
    {
     "name": "stderr",
     "output_type": "stream",
     "text": [
      "\r",
      " 85%|████████▌ | 86/101 [00:06<00:01, 12.17it/s]"
     ]
    },
    {
     "name": "stdout",
     "output_type": "stream",
     "text": [
      "ACCURACY:  tensor(1.)\n",
      "ACCURACY:  tensor(0.9844)\n",
      "ACCURACY:  tensor(0.9844)\n"
     ]
    },
    {
     "name": "stderr",
     "output_type": "stream",
     "text": [
      " 89%|████████▉ | 90/101 [00:06<00:00, 13.11it/s]"
     ]
    },
    {
     "name": "stdout",
     "output_type": "stream",
     "text": [
      "ACCURACY:  tensor(0.9844)\n",
      "ACCURACY:  tensor(1.)\n",
      "ACCURACY:  tensor(0.9844)\n",
      "ACCURACY:  tensor(1.)\n"
     ]
    },
    {
     "name": "stderr",
     "output_type": "stream",
     "text": [
      " 93%|█████████▎| 94/101 [00:07<00:00, 14.47it/s]"
     ]
    },
    {
     "name": "stdout",
     "output_type": "stream",
     "text": [
      "ACCURACY:  tensor(0.9844)\n",
      "ACCURACY:  tensor(1.)\n",
      "ACCURACY:  tensor(0.9844)\n",
      "ACCURACY:  tensor(0.9844)\n"
     ]
    },
    {
     "name": "stderr",
     "output_type": "stream",
     "text": [
      " 97%|█████████▋| 98/101 [00:07<00:00, 15.81it/s]"
     ]
    },
    {
     "name": "stdout",
     "output_type": "stream",
     "text": [
      "ACCURACY:  tensor(1.)\n",
      "ACCURACY:  tensor(1.)\n",
      "ACCURACY:  tensor(0.9688)\n",
      "ACCURACY:  tensor(0.9844)\n"
     ]
    },
    {
     "name": "stderr",
     "output_type": "stream",
     "text": [
      "100%|██████████| 101/101 [00:07<00:00, 13.45it/s]\n"
     ]
    },
    {
     "name": "stdout",
     "output_type": "stream",
     "text": [
      "ACCURACY:  tensor(1.)\n",
      "EPOCH LOSS: \n",
      "  2.034409333038891\n"
     ]
    },
    {
     "name": "stderr",
     "output_type": "stream",
     "text": [
      "  1%|          | 1/101 [00:00<00:10,  9.61it/s]"
     ]
    },
    {
     "name": "stdout",
     "output_type": "stream",
     "text": [
      "Epoch: 16, Training Loss: 2.0344, Validation Loss: 4.9051\n",
      "ACCURACY:  tensor(0.9844)\n",
      "ACCURACY:  tensor(0.9844)\n",
      "ACCURACY:  tensor(1.)\n"
     ]
    },
    {
     "name": "stderr",
     "output_type": "stream",
     "text": [
      "  5%|▍         | 5/101 [00:00<00:08, 11.90it/s]"
     ]
    },
    {
     "name": "stdout",
     "output_type": "stream",
     "text": [
      "ACCURACY:  tensor(0.9844)\n",
      "ACCURACY:  tensor(1.)\n",
      "ACCURACY:  tensor(0.9844)\n"
     ]
    },
    {
     "name": "stderr",
     "output_type": "stream",
     "text": [
      "\r",
      "  7%|▋         | 7/101 [00:00<00:07, 11.90it/s]"
     ]
    },
    {
     "name": "stdout",
     "output_type": "stream",
     "text": [
      "ACCURACY:  tensor(1.)\n",
      "ACCURACY:  tensor(1.)\n"
     ]
    },
    {
     "name": "stderr",
     "output_type": "stream",
     "text": [
      "\r",
      "  9%|▉         | 9/101 [00:00<00:08, 11.17it/s]"
     ]
    },
    {
     "name": "stdout",
     "output_type": "stream",
     "text": [
      "ACCURACY:  tensor(0.9688)\n",
      "ACCURACY:  tensor(1.)\n",
      "ACCURACY:  tensor(0.9844)\n"
     ]
    },
    {
     "name": "stderr",
     "output_type": "stream",
     "text": [
      " 13%|█▎        | 13/101 [00:01<00:07, 11.65it/s]"
     ]
    },
    {
     "name": "stdout",
     "output_type": "stream",
     "text": [
      "ACCURACY:  tensor(0.9844)\n",
      "ACCURACY:  tensor(1.)\n",
      "ACCURACY:  tensor(0.9844)\n"
     ]
    },
    {
     "name": "stderr",
     "output_type": "stream",
     "text": [
      "\r",
      " 15%|█▍        | 15/101 [00:01<00:07, 11.99it/s]"
     ]
    },
    {
     "name": "stdout",
     "output_type": "stream",
     "text": [
      "ACCURACY:  tensor(1.)\n",
      "ACCURACY:  tensor(0.9844)\n",
      "ACCURACY:  tensor(1.)\n"
     ]
    },
    {
     "name": "stderr",
     "output_type": "stream",
     "text": [
      " 19%|█▉        | 19/101 [00:01<00:06, 12.17it/s]"
     ]
    },
    {
     "name": "stdout",
     "output_type": "stream",
     "text": [
      "ACCURACY:  tensor(0.9531)\n",
      "ACCURACY:  tensor(1.)\n",
      "ACCURACY:  tensor(1.)\n"
     ]
    },
    {
     "name": "stderr",
     "output_type": "stream",
     "text": [
      "\r",
      " 21%|██        | 21/101 [00:01<00:06, 12.44it/s]"
     ]
    },
    {
     "name": "stdout",
     "output_type": "stream",
     "text": [
      "ACCURACY:  tensor(0.9844)\n",
      "ACCURACY:  tensor(0.9844)\n"
     ]
    },
    {
     "name": "stderr",
     "output_type": "stream",
     "text": [
      " 25%|██▍       | 25/101 [00:02<00:06, 12.45it/s]"
     ]
    },
    {
     "name": "stdout",
     "output_type": "stream",
     "text": [
      "ACCURACY:  tensor(0.9844)\n",
      "ACCURACY:  tensor(0.9844)\n",
      "ACCURACY:  tensor(0.9531)\n"
     ]
    },
    {
     "name": "stderr",
     "output_type": "stream",
     "text": [
      "\r",
      " 27%|██▋       | 27/101 [00:02<00:06, 12.30it/s]"
     ]
    },
    {
     "name": "stdout",
     "output_type": "stream",
     "text": [
      "ACCURACY:  tensor(0.9844)\n",
      "ACCURACY:  tensor(1.)\n",
      "ACCURACY:  tensor(0.9688)\n"
     ]
    },
    {
     "name": "stderr",
     "output_type": "stream",
     "text": [
      " 31%|███       | 31/101 [00:02<00:05, 13.15it/s]"
     ]
    },
    {
     "name": "stdout",
     "output_type": "stream",
     "text": [
      "ACCURACY:  tensor(1.)\n",
      "ACCURACY:  tensor(1.)\n",
      "ACCURACY:  tensor(0.9688)\n"
     ]
    },
    {
     "name": "stderr",
     "output_type": "stream",
     "text": [
      "\r",
      " 33%|███▎      | 33/101 [00:02<00:05, 13.48it/s]"
     ]
    },
    {
     "name": "stdout",
     "output_type": "stream",
     "text": [
      "ACCURACY:  tensor(0.9844)\n",
      "ACCURACY:  tensor(0.9688)\n",
      "ACCURACY:  tensor(0.9844)\n"
     ]
    },
    {
     "name": "stderr",
     "output_type": "stream",
     "text": [
      "\r",
      " 35%|███▍      | 35/101 [00:02<00:05, 11.05it/s]"
     ]
    },
    {
     "name": "stdout",
     "output_type": "stream",
     "text": [
      "ACCURACY:  tensor(0.9844)\n",
      "ACCURACY:  tensor(0.9844)\n",
      "ACCURACY:  tensor(0.9844)\n"
     ]
    },
    {
     "name": "stderr",
     "output_type": "stream",
     "text": [
      " 39%|███▊      | 39/101 [00:03<00:04, 12.65it/s]"
     ]
    },
    {
     "name": "stdout",
     "output_type": "stream",
     "text": [
      "ACCURACY:  tensor(1.)\n",
      "ACCURACY:  tensor(1.)\n",
      "ACCURACY:  tensor(0.9688)\n"
     ]
    },
    {
     "name": "stderr",
     "output_type": "stream",
     "text": [
      " 43%|████▎     | 43/101 [00:03<00:04, 13.24it/s]"
     ]
    },
    {
     "name": "stdout",
     "output_type": "stream",
     "text": [
      "ACCURACY:  tensor(0.9531)\n",
      "ACCURACY:  tensor(0.9688)\n",
      "ACCURACY:  tensor(1.)\n"
     ]
    },
    {
     "name": "stderr",
     "output_type": "stream",
     "text": [
      "\r",
      " 45%|████▍     | 45/101 [00:03<00:04, 13.02it/s]"
     ]
    },
    {
     "name": "stdout",
     "output_type": "stream",
     "text": [
      "ACCURACY:  tensor(1.)\n",
      "ACCURACY:  tensor(1.)\n",
      "ACCURACY:  tensor(1.)\n"
     ]
    },
    {
     "name": "stderr",
     "output_type": "stream",
     "text": [
      " 49%|████▊     | 49/101 [00:03<00:03, 13.65it/s]"
     ]
    },
    {
     "name": "stdout",
     "output_type": "stream",
     "text": [
      "ACCURACY:  tensor(1.)\n",
      "ACCURACY:  tensor(0.9688)\n",
      "ACCURACY:  tensor(1.)\n"
     ]
    },
    {
     "name": "stderr",
     "output_type": "stream",
     "text": [
      "\r",
      " 50%|█████     | 51/101 [00:04<00:04, 12.14it/s]"
     ]
    },
    {
     "name": "stdout",
     "output_type": "stream",
     "text": [
      "ACCURACY:  tensor(1.)\n",
      "ACCURACY:  tensor(1.)\n",
      "ACCURACY:  tensor(0.9844)\n"
     ]
    },
    {
     "name": "stderr",
     "output_type": "stream",
     "text": [
      " 54%|█████▍    | 55/101 [00:04<00:03, 13.69it/s]"
     ]
    },
    {
     "name": "stdout",
     "output_type": "stream",
     "text": [
      "ACCURACY:  tensor(1.)\n",
      "ACCURACY:  tensor(1.)\n",
      "ACCURACY:  tensor(1.)\n",
      "ACCURACY:  tensor(1.)\n"
     ]
    },
    {
     "name": "stderr",
     "output_type": "stream",
     "text": [
      "\r",
      " 56%|█████▋    | 57/101 [00:04<00:03, 13.59it/s]"
     ]
    },
    {
     "name": "stdout",
     "output_type": "stream",
     "text": [
      "ACCURACY:  tensor(0.9688)\n",
      "ACCURACY:  tensor(1.)\n",
      "ACCURACY:  tensor(1.)\n"
     ]
    },
    {
     "name": "stderr",
     "output_type": "stream",
     "text": [
      " 60%|██████    | 61/101 [00:04<00:02, 13.80it/s]"
     ]
    },
    {
     "name": "stdout",
     "output_type": "stream",
     "text": [
      "ACCURACY:  tensor(1.)\n",
      "ACCURACY:  tensor(0.9688)\n",
      "ACCURACY:  tensor(1.)\n",
      "ACCURACY:  tensor(0.9844)\n"
     ]
    },
    {
     "name": "stderr",
     "output_type": "stream",
     "text": [
      " 64%|██████▍   | 65/101 [00:05<00:02, 13.17it/s]"
     ]
    },
    {
     "name": "stdout",
     "output_type": "stream",
     "text": [
      "ACCURACY:  tensor(0.9844)\n",
      "ACCURACY:  tensor(0.9688)\n",
      "ACCURACY:  tensor(0.9844)\n"
     ]
    },
    {
     "name": "stderr",
     "output_type": "stream",
     "text": [
      " 68%|██████▊   | 69/101 [00:05<00:02, 14.50it/s]"
     ]
    },
    {
     "name": "stdout",
     "output_type": "stream",
     "text": [
      "ACCURACY:  tensor(1.)\n",
      "ACCURACY:  tensor(1.)\n",
      "ACCURACY:  tensor(0.9844)\n",
      "ACCURACY:  tensor(0.9844)\n"
     ]
    },
    {
     "name": "stderr",
     "output_type": "stream",
     "text": [
      " 72%|███████▏  | 73/101 [00:05<00:02, 13.88it/s]"
     ]
    },
    {
     "name": "stdout",
     "output_type": "stream",
     "text": [
      "ACCURACY:  tensor(0.9531)\n",
      "ACCURACY:  tensor(1.)\n",
      "ACCURACY:  tensor(0.9531)\n"
     ]
    },
    {
     "name": "stderr",
     "output_type": "stream",
     "text": [
      "\r",
      " 74%|███████▍  | 75/101 [00:05<00:01, 13.38it/s]"
     ]
    },
    {
     "name": "stdout",
     "output_type": "stream",
     "text": [
      "ACCURACY:  tensor(0.9844)\n",
      "ACCURACY:  tensor(1.)\n",
      "ACCURACY:  tensor(1.)\n"
     ]
    },
    {
     "name": "stderr",
     "output_type": "stream",
     "text": [
      "\r",
      " 76%|███████▌  | 77/101 [00:05<00:01, 13.11it/s]"
     ]
    },
    {
     "name": "stdout",
     "output_type": "stream",
     "text": [
      "ACCURACY:  tensor(0.9844)\n",
      "ACCURACY:  tensor(1.)\n",
      "ACCURACY:  tensor(0.9531)\n"
     ]
    },
    {
     "name": "stderr",
     "output_type": "stream",
     "text": [
      " 80%|████████  | 81/101 [00:06<00:01, 13.33it/s]"
     ]
    },
    {
     "name": "stdout",
     "output_type": "stream",
     "text": [
      "ACCURACY:  tensor(0.9688)\n",
      "ACCURACY:  tensor(1.)\n",
      "ACCURACY:  tensor(0.9688)\n",
      "ACCURACY:  tensor(0.9844)\n"
     ]
    },
    {
     "name": "stderr",
     "output_type": "stream",
     "text": [
      " 84%|████████▍ | 85/101 [00:06<00:01, 13.57it/s]"
     ]
    },
    {
     "name": "stdout",
     "output_type": "stream",
     "text": [
      "ACCURACY:  tensor(0.9844)\n",
      "ACCURACY:  tensor(1.)\n",
      "ACCURACY:  tensor(0.9688)\n"
     ]
    },
    {
     "name": "stderr",
     "output_type": "stream",
     "text": [
      " 88%|████████▊ | 89/101 [00:06<00:00, 14.07it/s]"
     ]
    },
    {
     "name": "stdout",
     "output_type": "stream",
     "text": [
      "ACCURACY:  tensor(1.)\n",
      "ACCURACY:  tensor(0.9844)\n",
      "ACCURACY:  tensor(1.)\n"
     ]
    },
    {
     "name": "stderr",
     "output_type": "stream",
     "text": [
      "\r",
      " 90%|█████████ | 91/101 [00:07<00:00, 13.44it/s]"
     ]
    },
    {
     "name": "stdout",
     "output_type": "stream",
     "text": [
      "ACCURACY:  tensor(1.)\n",
      "ACCURACY:  tensor(1.)\n",
      "ACCURACY:  tensor(0.9688)\n"
     ]
    },
    {
     "name": "stderr",
     "output_type": "stream",
     "text": [
      " 94%|█████████▍| 95/101 [00:07<00:00, 14.20it/s]"
     ]
    },
    {
     "name": "stdout",
     "output_type": "stream",
     "text": [
      "ACCURACY:  tensor(0.9844)\n",
      "ACCURACY:  tensor(0.9531)\n",
      "ACCURACY:  tensor(1.)\n",
      "ACCURACY:  tensor(1.)\n"
     ]
    },
    {
     "name": "stderr",
     "output_type": "stream",
     "text": [
      " 98%|█████████▊| 99/101 [00:07<00:00, 14.69it/s]"
     ]
    },
    {
     "name": "stdout",
     "output_type": "stream",
     "text": [
      "ACCURACY:  tensor(1.)\n",
      "ACCURACY:  tensor(1.)\n",
      "ACCURACY:  tensor(1.)\n",
      "ACCURACY:  tensor(0.9688)\n"
     ]
    },
    {
     "name": "stderr",
     "output_type": "stream",
     "text": [
      "100%|██████████| 101/101 [00:07<00:00, 13.15it/s]\n"
     ]
    },
    {
     "name": "stdout",
     "output_type": "stream",
     "text": [
      "ACCURACY:  tensor(1.)\n",
      "EPOCH LOSS: \n",
      "  2.3560080692024514\n"
     ]
    },
    {
     "name": "stderr",
     "output_type": "stream",
     "text": [
      "  2%|▏         | 2/101 [00:00<00:07, 13.88it/s]"
     ]
    },
    {
     "name": "stdout",
     "output_type": "stream",
     "text": [
      "Epoch: 17, Training Loss: 2.3560, Validation Loss: 5.0349\n",
      "ACCURACY:  tensor(1.)\n",
      "ACCURACY:  tensor(1.)\n",
      "ACCURACY:  tensor(1.)\n"
     ]
    },
    {
     "name": "stderr",
     "output_type": "stream",
     "text": [
      "  6%|▌         | 6/101 [00:00<00:06, 14.13it/s]"
     ]
    },
    {
     "name": "stdout",
     "output_type": "stream",
     "text": [
      "ACCURACY:  tensor(0.9844)\n",
      "ACCURACY:  tensor(0.9844)\n",
      "ACCURACY:  tensor(0.9844)\n"
     ]
    },
    {
     "name": "stderr",
     "output_type": "stream",
     "text": [
      "\r",
      "  8%|▊         | 8/101 [00:00<00:06, 13.85it/s]"
     ]
    },
    {
     "name": "stdout",
     "output_type": "stream",
     "text": [
      "ACCURACY:  tensor(1.)\n",
      "ACCURACY:  tensor(1.)\n",
      "ACCURACY:  tensor(1.)\n"
     ]
    },
    {
     "name": "stderr",
     "output_type": "stream",
     "text": [
      "\r",
      " 10%|▉         | 10/101 [00:00<00:07, 12.55it/s]"
     ]
    },
    {
     "name": "stdout",
     "output_type": "stream",
     "text": [
      "ACCURACY:  tensor(1.)\n",
      "ACCURACY:  tensor(0.9844)\n",
      "ACCURACY:  tensor(0.9844)\n"
     ]
    },
    {
     "name": "stderr",
     "output_type": "stream",
     "text": [
      " 14%|█▍        | 14/101 [00:01<00:06, 13.62it/s]"
     ]
    },
    {
     "name": "stdout",
     "output_type": "stream",
     "text": [
      "ACCURACY:  tensor(0.9844)\n",
      "ACCURACY:  tensor(0.9688)\n",
      "ACCURACY:  tensor(0.9844)\n"
     ]
    },
    {
     "name": "stderr",
     "output_type": "stream",
     "text": [
      "\r",
      " 16%|█▌        | 16/101 [00:01<00:06, 13.81it/s]"
     ]
    },
    {
     "name": "stdout",
     "output_type": "stream",
     "text": [
      "ACCURACY:  tensor(1.)\n",
      "ACCURACY:  tensor(1.)\n",
      "ACCURACY:  tensor(1.)\n"
     ]
    },
    {
     "name": "stderr",
     "output_type": "stream",
     "text": [
      " 20%|█▉        | 20/101 [00:01<00:06, 12.18it/s]"
     ]
    },
    {
     "name": "stdout",
     "output_type": "stream",
     "text": [
      "ACCURACY:  tensor(0.9844)\n",
      "ACCURACY:  tensor(1.)\n",
      "ACCURACY:  tensor(0.9844)\n"
     ]
    },
    {
     "name": "stderr",
     "output_type": "stream",
     "text": [
      " 24%|██▍       | 24/101 [00:01<00:05, 13.78it/s]"
     ]
    },
    {
     "name": "stdout",
     "output_type": "stream",
     "text": [
      "ACCURACY:  tensor(1.)\n",
      "ACCURACY:  tensor(1.)\n",
      "ACCURACY:  tensor(1.)\n",
      "ACCURACY:  tensor(1.)\n"
     ]
    },
    {
     "name": "stderr",
     "output_type": "stream",
     "text": [
      "\r",
      " 26%|██▌       | 26/101 [00:01<00:05, 13.93it/s]"
     ]
    },
    {
     "name": "stdout",
     "output_type": "stream",
     "text": [
      "ACCURACY:  tensor(0.9844)\n",
      "ACCURACY:  tensor(0.9688)\n",
      "ACCURACY:  tensor(0.9531)\n"
     ]
    },
    {
     "name": "stderr",
     "output_type": "stream",
     "text": [
      " 30%|██▉       | 30/101 [00:02<00:05, 13.30it/s]"
     ]
    },
    {
     "name": "stdout",
     "output_type": "stream",
     "text": [
      "ACCURACY:  tensor(0.9375)\n",
      "ACCURACY:  tensor(1.)\n",
      "ACCURACY:  tensor(0.9844)\n",
      "ACCURACY:  tensor(1.)\n"
     ]
    },
    {
     "name": "stderr",
     "output_type": "stream",
     "text": [
      " 34%|███▎      | 34/101 [00:02<00:04, 15.36it/s]"
     ]
    },
    {
     "name": "stdout",
     "output_type": "stream",
     "text": [
      "ACCURACY:  tensor(0.9844)\n",
      "ACCURACY:  tensor(0.9688)\n",
      "ACCURACY:  tensor(1.)\n",
      "ACCURACY:  tensor(0.9531)\n"
     ]
    },
    {
     "name": "stderr",
     "output_type": "stream",
     "text": [
      " 38%|███▊      | 38/101 [00:02<00:04, 13.18it/s]"
     ]
    },
    {
     "name": "stdout",
     "output_type": "stream",
     "text": [
      "ACCURACY:  tensor(1.)\n",
      "ACCURACY:  tensor(1.)\n",
      "ACCURACY:  tensor(0.9688)\n"
     ]
    },
    {
     "name": "stderr",
     "output_type": "stream",
     "text": [
      " 42%|████▏     | 42/101 [00:03<00:04, 13.79it/s]"
     ]
    },
    {
     "name": "stdout",
     "output_type": "stream",
     "text": [
      "ACCURACY:  tensor(1.)\n",
      "ACCURACY:  tensor(0.9688)\n",
      "ACCURACY:  tensor(1.)\n",
      "ACCURACY:  tensor(0.9844)\n"
     ]
    },
    {
     "name": "stderr",
     "output_type": "stream",
     "text": [
      " 46%|████▌     | 46/101 [00:03<00:03, 14.81it/s]"
     ]
    },
    {
     "name": "stdout",
     "output_type": "stream",
     "text": [
      "ACCURACY:  tensor(0.9844)\n",
      "ACCURACY:  tensor(1.)\n",
      "ACCURACY:  tensor(1.)\n",
      "ACCURACY:  tensor(0.9844)\n"
     ]
    },
    {
     "name": "stderr",
     "output_type": "stream",
     "text": [
      "\r",
      " 48%|████▊     | 48/101 [00:03<00:03, 14.95it/s]"
     ]
    },
    {
     "name": "stdout",
     "output_type": "stream",
     "text": [
      "ACCURACY:  tensor(1.)\n",
      "ACCURACY:  tensor(1.)\n",
      "ACCURACY:  tensor(1.)\n"
     ]
    },
    {
     "name": "stderr",
     "output_type": "stream",
     "text": [
      " 51%|█████▏    | 52/101 [00:03<00:03, 13.36it/s]"
     ]
    },
    {
     "name": "stdout",
     "output_type": "stream",
     "text": [
      "ACCURACY:  tensor(1.)\n",
      "ACCURACY:  tensor(0.9844)\n",
      "ACCURACY:  tensor(1.)\n"
     ]
    },
    {
     "name": "stderr",
     "output_type": "stream",
     "text": [
      "\r",
      " 53%|█████▎    | 54/101 [00:03<00:03, 14.08it/s]"
     ]
    },
    {
     "name": "stdout",
     "output_type": "stream",
     "text": [
      "ACCURACY:  tensor(1.)\n",
      "ACCURACY:  tensor(1.)\n",
      "ACCURACY:  tensor(0.9531)\n"
     ]
    },
    {
     "name": "stderr",
     "output_type": "stream",
     "text": [
      " 57%|█████▋    | 58/101 [00:04<00:03, 12.88it/s]"
     ]
    },
    {
     "name": "stdout",
     "output_type": "stream",
     "text": [
      "ACCURACY:  tensor(1.)\n",
      "ACCURACY:  tensor(1.)\n",
      "ACCURACY:  tensor(1.)\n"
     ]
    },
    {
     "name": "stderr",
     "output_type": "stream",
     "text": [
      "\r",
      " 59%|█████▉    | 60/101 [00:04<00:03, 13.28it/s]"
     ]
    },
    {
     "name": "stdout",
     "output_type": "stream",
     "text": [
      "ACCURACY:  tensor(1.)\n",
      "ACCURACY:  tensor(0.9688)\n",
      "ACCURACY:  tensor(0.9844)\n"
     ]
    },
    {
     "name": "stderr",
     "output_type": "stream",
     "text": [
      "\r",
      " 61%|██████▏   | 62/101 [00:04<00:03, 12.43it/s]"
     ]
    },
    {
     "name": "stdout",
     "output_type": "stream",
     "text": [
      "ACCURACY:  tensor(0.9844)\n",
      "ACCURACY:  tensor(0.9844)\n"
     ]
    },
    {
     "name": "stderr",
     "output_type": "stream",
     "text": [
      " 65%|██████▌   | 66/101 [00:04<00:03, 11.64it/s]"
     ]
    },
    {
     "name": "stdout",
     "output_type": "stream",
     "text": [
      "ACCURACY:  tensor(0.9844)\n",
      "ACCURACY:  tensor(0.9688)\n",
      "ACCURACY:  tensor(0.9844)\n"
     ]
    },
    {
     "name": "stderr",
     "output_type": "stream",
     "text": [
      "\r",
      " 67%|██████▋   | 68/101 [00:05<00:02, 11.75it/s]"
     ]
    },
    {
     "name": "stdout",
     "output_type": "stream",
     "text": [
      "ACCURACY:  tensor(0.9844)\n",
      "ACCURACY:  tensor(1.)\n",
      "ACCURACY:  tensor(0.9844)\n"
     ]
    },
    {
     "name": "stderr",
     "output_type": "stream",
     "text": [
      " 71%|███████▏  | 72/101 [00:05<00:02, 13.09it/s]"
     ]
    },
    {
     "name": "stdout",
     "output_type": "stream",
     "text": [
      "ACCURACY:  tensor(1.)\n",
      "ACCURACY:  tensor(0.9844)\n",
      "ACCURACY:  tensor(1.)\n"
     ]
    },
    {
     "name": "stderr",
     "output_type": "stream",
     "text": [
      " 75%|███████▌  | 76/101 [00:05<00:01, 13.85it/s]"
     ]
    },
    {
     "name": "stdout",
     "output_type": "stream",
     "text": [
      "ACCURACY:  tensor(1.)\n",
      "ACCURACY:  tensor(1.)\n",
      "ACCURACY:  tensor(0.9844)\n"
     ]
    },
    {
     "name": "stderr",
     "output_type": "stream",
     "text": [
      "\r",
      " 77%|███████▋  | 78/101 [00:05<00:01, 13.51it/s]"
     ]
    },
    {
     "name": "stdout",
     "output_type": "stream",
     "text": [
      "ACCURACY:  tensor(0.9844)\n",
      "ACCURACY:  tensor(1.)\n",
      "ACCURACY:  tensor(1.)\n"
     ]
    },
    {
     "name": "stderr",
     "output_type": "stream",
     "text": [
      "\r",
      " 79%|███████▉  | 80/101 [00:05<00:01, 13.55it/s]"
     ]
    },
    {
     "name": "stdout",
     "output_type": "stream",
     "text": [
      "ACCURACY:  tensor(0.9688)\n",
      "ACCURACY:  tensor(1.)\n",
      "ACCURACY:  tensor(0.9844)\n"
     ]
    },
    {
     "name": "stderr",
     "output_type": "stream",
     "text": [
      " 83%|████████▎ | 84/101 [00:06<00:01, 12.97it/s]"
     ]
    },
    {
     "name": "stdout",
     "output_type": "stream",
     "text": [
      "ACCURACY:  tensor(0.9844)\n",
      "ACCURACY:  tensor(0.9844)\n",
      "ACCURACY:  tensor(0.9844)\n"
     ]
    },
    {
     "name": "stderr",
     "output_type": "stream",
     "text": [
      " 87%|████████▋ | 88/101 [00:06<00:00, 13.91it/s]"
     ]
    },
    {
     "name": "stdout",
     "output_type": "stream",
     "text": [
      "ACCURACY:  tensor(0.9375)\n",
      "ACCURACY:  tensor(0.9844)\n",
      "ACCURACY:  tensor(0.9688)\n"
     ]
    },
    {
     "name": "stderr",
     "output_type": "stream",
     "text": [
      "\r",
      " 89%|████████▉ | 90/101 [00:06<00:00, 12.88it/s]"
     ]
    },
    {
     "name": "stdout",
     "output_type": "stream",
     "text": [
      "ACCURACY:  tensor(1.)\n",
      "ACCURACY:  tensor(1.)\n",
      "ACCURACY:  tensor(0.9688)\n"
     ]
    },
    {
     "name": "stderr",
     "output_type": "stream",
     "text": [
      " 93%|█████████▎| 94/101 [00:07<00:00, 13.72it/s]"
     ]
    },
    {
     "name": "stdout",
     "output_type": "stream",
     "text": [
      "ACCURACY:  tensor(1.)\n",
      "ACCURACY:  tensor(0.9688)\n",
      "ACCURACY:  tensor(1.)\n"
     ]
    },
    {
     "name": "stderr",
     "output_type": "stream",
     "text": [
      "\r",
      " 95%|█████████▌| 96/101 [00:07<00:00, 12.51it/s]"
     ]
    },
    {
     "name": "stdout",
     "output_type": "stream",
     "text": [
      "ACCURACY:  tensor(1.)\n",
      "ACCURACY:  tensor(1.)\n",
      "ACCURACY:  tensor(0.9844)\n"
     ]
    },
    {
     "name": "stderr",
     "output_type": "stream",
     "text": [
      " 99%|█████████▉| 100/101 [00:07<00:00, 13.49it/s]"
     ]
    },
    {
     "name": "stdout",
     "output_type": "stream",
     "text": [
      "ACCURACY:  tensor(1.)\n",
      "ACCURACY:  tensor(0.9844)\n",
      "ACCURACY:  tensor(1.)\n",
      "ACCURACY:  tensor(0.9643)\n"
     ]
    },
    {
     "name": "stderr",
     "output_type": "stream",
     "text": [
      "100%|██████████| 101/101 [00:07<00:00, 13.41it/s]\n"
     ]
    },
    {
     "name": "stdout",
     "output_type": "stream",
     "text": [
      "EPOCH LOSS: \n",
      "  2.1967091830355105\n"
     ]
    },
    {
     "name": "stderr",
     "output_type": "stream",
     "text": [
      "  2%|▏         | 2/101 [00:00<00:08, 11.40it/s]"
     ]
    },
    {
     "name": "stdout",
     "output_type": "stream",
     "text": [
      "Epoch: 18, Training Loss: 2.1967, Validation Loss: 4.9825\n",
      "ACCURACY:  tensor(1.)\n",
      "ACCURACY:  tensor(1.)\n"
     ]
    },
    {
     "name": "stderr",
     "output_type": "stream",
     "text": [
      "\r",
      "  4%|▍         | 4/101 [00:00<00:07, 12.48it/s]"
     ]
    },
    {
     "name": "stdout",
     "output_type": "stream",
     "text": [
      "ACCURACY:  tensor(0.9844)\n",
      "ACCURACY:  tensor(0.9844)\n",
      "ACCURACY:  tensor(0.9844)\n"
     ]
    },
    {
     "name": "stderr",
     "output_type": "stream",
     "text": [
      "\r",
      "  6%|▌         | 6/101 [00:00<00:07, 12.23it/s]"
     ]
    },
    {
     "name": "stdout",
     "output_type": "stream",
     "text": [
      "ACCURACY:  tensor(1.)\n",
      "ACCURACY:  tensor(1.)\n",
      "ACCURACY:  tensor(1.)\n"
     ]
    },
    {
     "name": "stderr",
     "output_type": "stream",
     "text": [
      " 10%|▉         | 10/101 [00:00<00:07, 12.43it/s]"
     ]
    },
    {
     "name": "stdout",
     "output_type": "stream",
     "text": [
      "ACCURACY:  tensor(1.)\n",
      "ACCURACY:  tensor(0.9844)\n",
      "ACCURACY:  tensor(1.)\n"
     ]
    },
    {
     "name": "stderr",
     "output_type": "stream",
     "text": [
      "\r",
      " 12%|█▏        | 12/101 [00:00<00:07, 11.78it/s]"
     ]
    },
    {
     "name": "stdout",
     "output_type": "stream",
     "text": [
      "ACCURACY:  tensor(0.9844)\n",
      "ACCURACY:  tensor(1.)\n",
      "ACCURACY:  tensor(1.)\n"
     ]
    },
    {
     "name": "stderr",
     "output_type": "stream",
     "text": [
      " 16%|█▌        | 16/101 [00:01<00:06, 12.62it/s]"
     ]
    },
    {
     "name": "stdout",
     "output_type": "stream",
     "text": [
      "ACCURACY:  tensor(1.)\n",
      "ACCURACY:  tensor(0.9844)\n",
      "ACCURACY:  tensor(0.9844)\n"
     ]
    },
    {
     "name": "stderr",
     "output_type": "stream",
     "text": [
      "\r",
      " 18%|█▊        | 18/101 [00:01<00:06, 12.83it/s]"
     ]
    },
    {
     "name": "stdout",
     "output_type": "stream",
     "text": [
      "ACCURACY:  tensor(0.9688)\n",
      "ACCURACY:  tensor(1.)\n",
      "ACCURACY:  tensor(0.9844)\n"
     ]
    },
    {
     "name": "stderr",
     "output_type": "stream",
     "text": [
      "\r",
      " 20%|█▉        | 20/101 [00:01<00:06, 13.15it/s]"
     ]
    },
    {
     "name": "stdout",
     "output_type": "stream",
     "text": [
      "ACCURACY:  tensor(0.9844)\n",
      "ACCURACY:  tensor(1.)\n"
     ]
    },
    {
     "name": "stderr",
     "output_type": "stream",
     "text": [
      " 24%|██▍       | 24/101 [00:01<00:06, 12.22it/s]"
     ]
    },
    {
     "name": "stdout",
     "output_type": "stream",
     "text": [
      "ACCURACY:  tensor(0.9844)\n",
      "ACCURACY:  tensor(1.)\n",
      "ACCURACY:  tensor(1.)\n"
     ]
    },
    {
     "name": "stderr",
     "output_type": "stream",
     "text": [
      " 28%|██▊       | 28/101 [00:02<00:05, 13.13it/s]"
     ]
    },
    {
     "name": "stdout",
     "output_type": "stream",
     "text": [
      "ACCURACY:  tensor(1.)\n",
      "ACCURACY:  tensor(1.)\n",
      "ACCURACY:  tensor(1.)\n"
     ]
    },
    {
     "name": "stderr",
     "output_type": "stream",
     "text": [
      "\r",
      " 30%|██▉       | 30/101 [00:02<00:05, 13.05it/s]"
     ]
    },
    {
     "name": "stdout",
     "output_type": "stream",
     "text": [
      "ACCURACY:  tensor(1.)\n",
      "ACCURACY:  tensor(1.)\n",
      "ACCURACY:  tensor(1.)\n"
     ]
    },
    {
     "name": "stderr",
     "output_type": "stream",
     "text": [
      "\r",
      " 32%|███▏      | 32/101 [00:02<00:05, 12.04it/s]"
     ]
    },
    {
     "name": "stdout",
     "output_type": "stream",
     "text": [
      "ACCURACY:  tensor(1.)\n",
      "ACCURACY:  tensor(0.9844)\n",
      "ACCURACY:  tensor(0.9844)\n"
     ]
    },
    {
     "name": "stderr",
     "output_type": "stream",
     "text": [
      " 36%|███▌      | 36/101 [00:02<00:05, 12.24it/s]"
     ]
    },
    {
     "name": "stdout",
     "output_type": "stream",
     "text": [
      "ACCURACY:  tensor(1.)\n",
      "ACCURACY:  tensor(0.9844)\n",
      "ACCURACY:  tensor(0.9844)\n"
     ]
    },
    {
     "name": "stderr",
     "output_type": "stream",
     "text": [
      " 40%|███▉      | 40/101 [00:03<00:04, 14.39it/s]"
     ]
    },
    {
     "name": "stdout",
     "output_type": "stream",
     "text": [
      "ACCURACY:  tensor(1.)\n",
      "ACCURACY:  tensor(1.)\n",
      "ACCURACY:  tensor(1.)\n",
      "ACCURACY:  tensor(0.9688)\n"
     ]
    },
    {
     "name": "stderr",
     "output_type": "stream",
     "text": [
      " 44%|████▎     | 44/101 [00:03<00:03, 15.37it/s]"
     ]
    },
    {
     "name": "stdout",
     "output_type": "stream",
     "text": [
      "ACCURACY:  tensor(0.9844)\n",
      "ACCURACY:  tensor(1.)\n",
      "ACCURACY:  tensor(0.9688)\n",
      "ACCURACY:  tensor(0.9844)\n"
     ]
    },
    {
     "name": "stderr",
     "output_type": "stream",
     "text": [
      "\r",
      " 46%|████▌     | 46/101 [00:03<00:03, 14.78it/s]"
     ]
    },
    {
     "name": "stdout",
     "output_type": "stream",
     "text": [
      "ACCURACY:  tensor(0.9844)\n",
      "ACCURACY:  tensor(1.)\n",
      "ACCURACY:  tensor(0.9844)\n"
     ]
    },
    {
     "name": "stderr",
     "output_type": "stream",
     "text": [
      " 50%|████▉     | 50/101 [00:03<00:03, 13.10it/s]"
     ]
    },
    {
     "name": "stdout",
     "output_type": "stream",
     "text": [
      "ACCURACY:  tensor(0.9375)\n",
      "ACCURACY:  tensor(0.9688)\n",
      "ACCURACY:  tensor(1.)\n"
     ]
    },
    {
     "name": "stderr",
     "output_type": "stream",
     "text": [
      " 53%|█████▎    | 54/101 [00:04<00:03, 13.64it/s]"
     ]
    },
    {
     "name": "stdout",
     "output_type": "stream",
     "text": [
      "ACCURACY:  tensor(1.)\n",
      "ACCURACY:  tensor(1.)\n",
      "ACCURACY:  tensor(0.9844)\n"
     ]
    },
    {
     "name": "stderr",
     "output_type": "stream",
     "text": [
      "\r",
      " 55%|█████▌    | 56/101 [00:04<00:03, 13.59it/s]"
     ]
    },
    {
     "name": "stdout",
     "output_type": "stream",
     "text": [
      "ACCURACY:  tensor(0.9844)\n",
      "ACCURACY:  tensor(1.)\n",
      "ACCURACY:  tensor(1.)\n"
     ]
    },
    {
     "name": "stderr",
     "output_type": "stream",
     "text": [
      "\r",
      " 57%|█████▋    | 58/101 [00:04<00:03, 13.77it/s]"
     ]
    },
    {
     "name": "stdout",
     "output_type": "stream",
     "text": [
      "ACCURACY:  tensor(1.)\n",
      "ACCURACY:  tensor(1.)\n",
      "ACCURACY:  tensor(1.)\n"
     ]
    },
    {
     "name": "stderr",
     "output_type": "stream",
     "text": [
      " 61%|██████▏   | 62/101 [00:04<00:02, 13.41it/s]"
     ]
    },
    {
     "name": "stdout",
     "output_type": "stream",
     "text": [
      "ACCURACY:  tensor(0.9688)\n",
      "ACCURACY:  tensor(0.9688)\n",
      "ACCURACY:  tensor(1.)\n"
     ]
    },
    {
     "name": "stderr",
     "output_type": "stream",
     "text": [
      " 65%|██████▌   | 66/101 [00:04<00:02, 14.42it/s]"
     ]
    },
    {
     "name": "stdout",
     "output_type": "stream",
     "text": [
      "ACCURACY:  tensor(0.9844)\n",
      "ACCURACY:  tensor(0.9844)\n",
      "ACCURACY:  tensor(1.)\n",
      "ACCURACY:  tensor(1.)\n"
     ]
    },
    {
     "name": "stderr",
     "output_type": "stream",
     "text": [
      " 69%|██████▉   | 70/101 [00:05<00:02, 14.46it/s]"
     ]
    },
    {
     "name": "stdout",
     "output_type": "stream",
     "text": [
      "ACCURACY:  tensor(0.9844)\n",
      "ACCURACY:  tensor(1.)\n",
      "ACCURACY:  tensor(1.)\n"
     ]
    },
    {
     "name": "stderr",
     "output_type": "stream",
     "text": [
      "\r",
      " 71%|███████▏  | 72/101 [00:05<00:02, 14.32it/s]"
     ]
    },
    {
     "name": "stdout",
     "output_type": "stream",
     "text": [
      "ACCURACY:  tensor(1.)\n",
      "ACCURACY:  tensor(0.9844)\n",
      "ACCURACY:  tensor(1.)\n"
     ]
    },
    {
     "name": "stderr",
     "output_type": "stream",
     "text": [
      "\r",
      " 73%|███████▎  | 74/101 [00:05<00:02, 12.80it/s]"
     ]
    },
    {
     "name": "stdout",
     "output_type": "stream",
     "text": [
      "ACCURACY:  tensor(0.9844)\n",
      "ACCURACY:  tensor(0.9844)\n",
      "ACCURACY:  tensor(1.)\n"
     ]
    },
    {
     "name": "stderr",
     "output_type": "stream",
     "text": [
      " 77%|███████▋  | 78/101 [00:05<00:01, 12.75it/s]"
     ]
    },
    {
     "name": "stdout",
     "output_type": "stream",
     "text": [
      "ACCURACY:  tensor(0.9844)\n",
      "ACCURACY:  tensor(1.)\n",
      "ACCURACY:  tensor(1.)\n"
     ]
    },
    {
     "name": "stderr",
     "output_type": "stream",
     "text": [
      " 81%|████████  | 82/101 [00:06<00:01, 13.24it/s]"
     ]
    },
    {
     "name": "stdout",
     "output_type": "stream",
     "text": [
      "ACCURACY:  tensor(1.)\n",
      "ACCURACY:  tensor(1.)\n",
      "ACCURACY:  tensor(1.)\n"
     ]
    },
    {
     "name": "stderr",
     "output_type": "stream",
     "text": [
      "\r",
      " 83%|████████▎ | 84/101 [00:06<00:01, 13.50it/s]"
     ]
    },
    {
     "name": "stdout",
     "output_type": "stream",
     "text": [
      "ACCURACY:  tensor(0.9844)\n",
      "ACCURACY:  tensor(0.9844)\n",
      "ACCURACY:  tensor(1.)\n"
     ]
    },
    {
     "name": "stderr",
     "output_type": "stream",
     "text": [
      " 87%|████████▋ | 88/101 [00:06<00:00, 14.00it/s]"
     ]
    },
    {
     "name": "stdout",
     "output_type": "stream",
     "text": [
      "ACCURACY:  tensor(1.)\n",
      "ACCURACY:  tensor(0.9844)\n",
      "ACCURACY:  tensor(1.)\n"
     ]
    },
    {
     "name": "stderr",
     "output_type": "stream",
     "text": [
      "\r",
      " 89%|████████▉ | 90/101 [00:06<00:00, 13.53it/s]"
     ]
    },
    {
     "name": "stdout",
     "output_type": "stream",
     "text": [
      "ACCURACY:  tensor(0.9688)\n",
      "ACCURACY:  tensor(1.)\n",
      "ACCURACY:  tensor(0.9844)\n"
     ]
    },
    {
     "name": "stderr",
     "output_type": "stream",
     "text": [
      " 93%|█████████▎| 94/101 [00:07<00:00, 13.60it/s]"
     ]
    },
    {
     "name": "stdout",
     "output_type": "stream",
     "text": [
      "ACCURACY:  tensor(0.9688)\n",
      "ACCURACY:  tensor(1.)\n",
      "ACCURACY:  tensor(0.9844)\n"
     ]
    },
    {
     "name": "stderr",
     "output_type": "stream",
     "text": [
      "\r",
      " 95%|█████████▌| 96/101 [00:07<00:00, 14.72it/s]"
     ]
    },
    {
     "name": "stdout",
     "output_type": "stream",
     "text": [
      "ACCURACY:  tensor(1.)\n",
      "ACCURACY:  tensor(1.)\n",
      "ACCURACY:  tensor(1.)\n",
      "ACCURACY:  tensor(0.9844)\n"
     ]
    },
    {
     "name": "stderr",
     "output_type": "stream",
     "text": [
      "100%|██████████| 101/101 [00:07<00:00, 13.46it/s]\n"
     ]
    },
    {
     "name": "stdout",
     "output_type": "stream",
     "text": [
      "ACCURACY:  tensor(1.)\n",
      "ACCURACY:  tensor(0.9844)\n",
      "ACCURACY:  tensor(0.9643)\n",
      "EPOCH LOSS: \n",
      "  1.9617693492091528\n",
      "Epoch: 19, Training Loss: 1.9618, Validation Loss: 5.1060\n"
     ]
    }
   ],
   "source": [
    "for epoch in range(1, epochs):\n",
    "    \n",
    "    epoch_loss = 0\n",
    "    epoch_acc = 0\n",
    "    running_loss = 0\n",
    "    \n",
    "    model.train()\n",
    "    for x, y in tqdm.tqdm(train_dl): \n",
    "        opt.zero_grad()\n",
    "        preds = model(x)\n",
    "        loss = loss_func(preds, y)\n",
    "        acc = binary_accuracy(preds, y)\n",
    "        print(\"ACCURACY: \", acc)\n",
    "#         print(\"loss: \", loss)\n",
    "        loss.backward()\n",
    "        opt.step()\n",
    "        running_loss += loss.data.item() * x.size(0)\n",
    "\n",
    "    epoch_loss = running_loss / len(train_iter)\n",
    "    print(\"EPOCH LOSS: \\n \", epoch_loss)\n",
    "\n",
    "    # calculate the validation loss for this epoch\n",
    "    val_loss = 0.0\n",
    "    model.eval() # turn on evaluation mode\n",
    "    for x, y in valid_dl:\n",
    "        preds = model(x)\n",
    "        loss = loss_func(preds, y)\n",
    "        val_loss += loss.data.item() * x.size(0)\n",
    "\n",
    "    val_loss /= len(val_iter)\n",
    "    print('Epoch: {}, Training Loss: {:.4f}, Validation Loss: {:.4f}'.format(epoch, epoch_loss, val_loss))"
   ]
  },
  {
   "cell_type": "code",
   "execution_count": 190,
   "metadata": {},
   "outputs": [],
   "source": [
    "def predict(model, sample, min_len = 5):\n",
    "    model.eval()\n",
    "    if type(sample) == \"string\":\n",
    "        tokenized = [tok.text for tok in nlp.tokenizer(sample)]\n",
    "        \n",
    "    tokenized = sample\n",
    "    \n",
    "    if len(tokenized) < min_len:\n",
    "        tokenized += ['<pad>'] * (min_len - len(tokenized))\n",
    "        \n",
    "    indexed = [CLEAN.vocab.stoi[t] for t in tokenized]\n",
    "    tensor = torch.LongTensor(indexed).to(device)\n",
    "    tensor = tensor.unsqueeze(0)\n",
    "    prediction = torch.sigmoid(model(tensor))\n",
    "    return prediction.item()"
   ]
  },
  {
   "cell_type": "code",
   "execution_count": 107,
   "metadata": {},
   "outputs": [
    {
     "data": {
      "text/plain": [
       "(['chili',\n",
       "  'zucker',\n",
       "  'wasser',\n",
       "  'salz',\n",
       "  'knoblauch',\n",
       "  'geschmacksverstärker',\n",
       "  'mononatriumglutamat',\n",
       "  'e',\n",
       "  'verdickungsmittel',\n",
       "  'xanthan',\n",
       "  'e',\n",
       "  'säuerungsmittel',\n",
       "  'essigsäure',\n",
       "  'e',\n",
       "  'citronensäure',\n",
       "  'e',\n",
       "  'konservierungsstoff',\n",
       "  'kaliumsorbat',\n",
       "  'e'],\n",
       " 'glutenfrei')"
      ]
     },
     "execution_count": 107,
     "metadata": {},
     "output_type": "execute_result"
    }
   ],
   "source": [
    "test_data[0].c, test_data[0].l, test_data"
   ]
  },
  {
   "cell_type": "code",
   "execution_count": 189,
   "metadata": {},
   "outputs": [
    {
     "data": {
      "text/plain": [
       "'glutenfrei'"
      ]
     },
     "execution_count": 189,
     "metadata": {},
     "output_type": "execute_result"
    }
   ],
   "source": [
    "test_data[0].l"
   ]
  },
  {
   "cell_type": "code",
   "execution_count": null,
   "metadata": {},
   "outputs": [],
   "source": [
    "def evaluate(model, iterator, criterion):\n",
    "    \n",
    "    epoch_loss = 0\n",
    "    epoch_acc = 0\n",
    "    \n",
    "    model.eval()\n",
    "    \n",
    "    with torch.no_grad():\n",
    "    \n",
    "        for batch in iterator:\n",
    "\n",
    "            predictions = model(batch.text).squeeze(1)\n",
    "            \n",
    "            loss = criterion(predictions, batch.label)\n",
    "            \n",
    "            acc = binary_accuracy(predictions, batch.label)\n",
    "\n",
    "            epoch_loss += loss.item()\n",
    "            epoch_acc += acc.item()\n",
    "        \n",
    "    return epoch_loss / len(iterator), epoch_acc / len(iterator)"
   ]
  },
  {
   "cell_type": "code",
   "execution_count": 202,
   "metadata": {},
   "outputs": [
    {
     "data": {
      "text/plain": [
       "1.0"
      ]
     },
     "execution_count": 202,
     "metadata": {},
     "output_type": "execute_result"
    }
   ],
   "source": [
    "predict(model, test_data[170].c)"
   ]
  },
  {
   "cell_type": "code",
   "execution_count": null,
   "metadata": {},
   "outputs": [],
   "source": []
  },
  {
   "cell_type": "code",
   "execution_count": null,
   "metadata": {},
   "outputs": [],
   "source": []
  },
  {
   "cell_type": "code",
   "execution_count": null,
   "metadata": {},
   "outputs": [],
   "source": []
  }
 ],
 "metadata": {
  "kernelspec": {
   "display_name": "Python 3",
   "language": "python",
   "name": "python3"
  },
  "language_info": {
   "codemirror_mode": {
    "name": "ipython",
    "version": 3
   },
   "file_extension": ".py",
   "mimetype": "text/x-python",
   "name": "python",
   "nbconvert_exporter": "python",
   "pygments_lexer": "ipython3",
   "version": "3.7.6"
  }
 },
 "nbformat": 4,
 "nbformat_minor": 4
}
